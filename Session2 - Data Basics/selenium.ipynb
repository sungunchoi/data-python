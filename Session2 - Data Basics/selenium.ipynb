{
 "cells": [
  {
   "cell_type": "code",
   "execution_count": 29,
   "metadata": {},
   "outputs": [],
   "source": [
    "### 1. 라이브러리 선언\n",
    "\n",
    "import pandas as pd\n",
    "\n",
    "from selenium import webdriver\n",
    "\n",
    "### 2.웹브라우저 설정\n",
    "\n",
    "options = webdriver.ChromeOptions()\n",
    "\n",
    "# 헤드리스 옵션 / 일반 옵션\n",
    "options.add_argument(\"window-size=1920*1080\")\n",
    "\n",
    "driverLoc = \"../addon/chromedriver/chromedriver_win32/chromedriver.exe\"\n",
    "\n",
    "driver = webdriver.Chrome(executable_path=driverLoc,options=options)\n",
    "\n",
    "# 웹페이지 파싱 될때까지 최대 3초 기다림\n",
    "driver.implicitly_wait(3)\n",
    "\n",
    "### 3. 브라우저 열기\n",
    "\n",
    "targetUrl = \"https://www.sparkkorea.com\"\n",
    "\n",
    "driver.get(targetUrl)\n",
    "\n",
    "### 4. 브라우저 내 액션 (클릭)\n",
    "\n",
    "quizBtnXpath = '//*[@id=\"menu-item-382\"]'\n",
    "\n",
    "quizBtn = driver.find_element_by_xpath(quizBtnXpath)\n",
    "\n",
    "quizBtn.click()\n",
    "\n",
    "### 4. 브라우저 내 액션 (텍스트 입력)\n",
    "\n",
    "from selenium.webdriver.common.keys import Keys\n",
    "\n",
    "googleUrl = \"https://www.google.com\"\n",
    "\n",
    "driver.get(googleUrl)\n",
    "\n",
    "googleSearchXpath = \"/html/body/div[1]/div[3]/form/div[1]/div[1]/div[1]/div/div[2]/input\"\n",
    "\n",
    "googleSearchBox = driver.find_element_by_xpath(googleSearchXpath)\n",
    "\n",
    "searchKeyword = \"스마트금융과\"\n",
    "\n",
    "googleSearchBox.send_keys(searchKeyword)\n",
    "\n",
    "googleSearchBox.send_keys(Keys.ENTER)"
   ]
  },
  {
   "cell_type": "code",
   "execution_count": null,
   "metadata": {},
   "outputs": [],
   "source": [
    "### 5. 페이지 URL 및 소스 가져오기\n",
    "\n",
    "finalUrl = driver.current_url\n",
    "\n",
    "pgSource = driver.page_source\n",
    "\n",
    "pgSource"
   ]
  },
  {
   "cell_type": "markdown",
   "metadata": {},
   "source": [
    "### 6. 여기서부턴 BS4"
   ]
  },
  {
   "cell_type": "code",
   "execution_count": 43,
   "metadata": {},
   "outputs": [
    {
     "data": {
      "text/html": [
       "<div>\n",
       "<style scoped>\n",
       "    .dataframe tbody tr th:only-of-type {\n",
       "        vertical-align: middle;\n",
       "    }\n",
       "\n",
       "    .dataframe tbody tr th {\n",
       "        vertical-align: top;\n",
       "    }\n",
       "\n",
       "    .dataframe thead th {\n",
       "        text-align: right;\n",
       "    }\n",
       "</style>\n",
       "<table border=\"1\" class=\"dataframe\">\n",
       "  <thead>\n",
       "    <tr style=\"text-align: right;\">\n",
       "      <th></th>\n",
       "      <th>링크</th>\n",
       "      <th>타이틀</th>\n",
       "    </tr>\n",
       "  </thead>\n",
       "  <tbody>\n",
       "    <tr>\n",
       "      <th>0</th>\n",
       "      <td>https://forms.gle/Fw49w9GhWQChDcZm7</td>\n",
       "      <td>6/13 Spark 심화과정</td>\n",
       "    </tr>\n",
       "    <tr>\n",
       "      <th>1</th>\n",
       "      <td>https://forms.gle/G4TcXm3fKuHLHA6D6</td>\n",
       "      <td>6/13 Spark 기본과정</td>\n",
       "    </tr>\n",
       "    <tr>\n",
       "      <th>2</th>\n",
       "      <td>https://forms.gle/M8gr1kC2ubA3UDVp8</td>\n",
       "      <td>6/18 Spark [MAP_FILTER]</td>\n",
       "    </tr>\n",
       "    <tr>\n",
       "      <th>3</th>\n",
       "      <td>https://forms.gle/h8w5mZ4MNaPLCPbi6</td>\n",
       "      <td>6/18 Spark GroupBy 심화</td>\n",
       "    </tr>\n",
       "    <tr>\n",
       "      <th>4</th>\n",
       "      <td>https://forms.gle/q5yL6QHfueDLM5w27</td>\n",
       "      <td>6/25 Spark RDD 실전 분석</td>\n",
       "    </tr>\n",
       "    <tr>\n",
       "      <th>5</th>\n",
       "      <td>https://forms.gle/Gxb4y6LfVYiaLu4M7</td>\n",
       "      <td>6/27 Spark RDD 실전 분석2</td>\n",
       "    </tr>\n",
       "  </tbody>\n",
       "</table>\n",
       "</div>"
      ],
      "text/plain": [
       "                                    링크                        타이틀\n",
       "0  https://forms.gle/Fw49w9GhWQChDcZm7           6/13 Spark 심화과정 \n",
       "1  https://forms.gle/G4TcXm3fKuHLHA6D6           6/13 Spark 기본과정 \n",
       "2  https://forms.gle/M8gr1kC2ubA3UDVp8   6/18 Spark [MAP_FILTER] \n",
       "3  https://forms.gle/h8w5mZ4MNaPLCPbi6     6/18 Spark GroupBy 심화 \n",
       "4  https://forms.gle/q5yL6QHfueDLM5w27      6/25 Spark RDD 실전 분석 \n",
       "5  https://forms.gle/Gxb4y6LfVYiaLu4M7     6/27 Spark RDD 실전 분석2 "
      ]
     },
     "execution_count": 43,
     "metadata": {},
     "output_type": "execute_result"
    }
   ],
   "source": [
    "import bs4\n",
    "\n",
    "bsObj = bs4.BeautifulSoup(pgSource, \"html.parser\")\n",
    "\n",
    "quizTag = bsObj.find(name=\"div\", attrs= {'class':'class_spark_quiz'})\n",
    "\n",
    "aTag = quizTag.findAll('a')\n",
    "\n",
    "urlList = []\n",
    "titleList = []\n",
    "\n",
    "for i in range(0, len(aTag)):\n",
    "    urlTag = aTag[i].text\n",
    "    titleTag = aTag[i].attrs[\"href\"]\n",
    "    titleList.append(titleTag)\n",
    "    urlList.append(urlTag)\n",
    "    \n",
    "\n",
    "resultDf = pd.DataFrame(zip(titleList, urlList),\n",
    "                         columns=[\"링크\",\"타이틀\"]   )\n",
    "\n",
    "resultDf"
   ]
  },
  {
   "cell_type": "code",
   "execution_count": null,
   "metadata": {},
   "outputs": [],
   "source": []
  },
  {
   "cell_type": "markdown",
   "metadata": {},
   "source": [
    "## copy selector"
   ]
  },
  {
   "cell_type": "markdown",
   "metadata": {},
   "source": [
    "### # -> id \n",
    "### . -> class"
   ]
  },
  {
   "cell_type": "code",
   "execution_count": 43,
   "metadata": {},
   "outputs": [],
   "source": [
    "quizElementId = \"menu-item-382\""
   ]
  },
  {
   "cell_type": "code",
   "execution_count": 44,
   "metadata": {},
   "outputs": [],
   "source": [
    "driver.find_element_by_id(quizElementId).click()"
   ]
  },
  {
   "cell_type": "code",
   "execution_count": null,
   "metadata": {},
   "outputs": [],
   "source": [
    "driver.get(targetUrl)"
   ]
  },
  {
   "cell_type": "code",
   "execution_count": null,
   "metadata": {},
   "outputs": [],
   "source": []
  },
  {
   "cell_type": "code",
   "execution_count": null,
   "metadata": {},
   "outputs": [],
   "source": []
  },
  {
   "cell_type": "markdown",
   "metadata": {},
   "source": [
    "### 액션 취하기"
   ]
  },
  {
   "cell_type": "code",
   "execution_count": 45,
   "metadata": {},
   "outputs": [],
   "source": [
    "from selenium.webdriver.common.action_chains import ActionChains"
   ]
  },
  {
   "cell_type": "code",
   "execution_count": null,
   "metadata": {},
   "outputs": [],
   "source": [
    "coupangUrl = 'http://www.coupang.com'"
   ]
  },
  {
   "cell_type": "code",
   "execution_count": null,
   "metadata": {},
   "outputs": [],
   "source": [
    "driver.net(coupangUrl)"
   ]
  },
  {
   "cell_type": "code",
   "execution_count": 46,
   "metadata": {},
   "outputs": [],
   "source": [
    "mainMenu = '//*[@id=\"header\"]/div/a'"
   ]
  },
  {
   "cell_type": "code",
   "execution_count": 47,
   "metadata": {},
   "outputs": [],
   "source": [
    "sumMenu = '//*[@id=\"gnbAnalytics\"]/ul[1]/li[4]/a'"
   ]
  },
  {
   "cell_type": "code",
   "execution_count": null,
   "metadata": {},
   "outputs": [],
   "source": [
    "# 카테고리 메뉴 (카테고리 -> 채소)"
   ]
  },
  {
   "cell_type": "code",
   "execution_count": null,
   "metadata": {},
   "outputs": [],
   "source": [
    "main = driver.find_element_by_xpath(mainMenu)\n",
    "sub = driver.find_element_by_xpath(subMenu)"
   ]
  },
  {
   "cell_type": "code",
   "execution_count": null,
   "metadata": {},
   "outputs": [],
   "source": [
    "# 메일 이동 후 클릭"
   ]
  },
  {
   "cell_type": "code",
   "execution_count": null,
   "metadata": {},
   "outputs": [],
   "source": [
    "ActionChains(driver).come_to_element(main).click(sub).perform()"
   ]
  },
  {
   "cell_type": "code",
   "execution_count": null,
   "metadata": {},
   "outputs": [],
   "source": []
  },
  {
   "cell_type": "code",
   "execution_count": null,
   "metadata": {},
   "outputs": [],
   "source": []
  },
  {
   "cell_type": "code",
   "execution_count": null,
   "metadata": {},
   "outputs": [],
   "source": [
    "## 메일전송 자동화\n",
    "\n",
    "# SMTP 프로토콜로드\n",
    "import smtplib\n",
    "\n",
    "# 이메일을간단하게보낼수있는라이브러리로드\n",
    "from email.message import EmailMessage\n",
    "\n",
    "\n",
    "# GMAIL 메일설정\n",
    "smtp_gmail = smtplib.SMTP('smtp.gmail.com', 587) ## 보내는 메일에 따라 다름\n",
    "# 서버연결을설정하는단계\n",
    "smtp_gmail.ehlo()\n",
    "# 연결을암호화\n",
    "smtp_gmail.starttls()\n",
    "\n",
    "#로그인\n",
    "userid = \"suchoi95\"       #gmail 아이디\n",
    "\n",
    "import pickle\n",
    "\n",
    "mypass = ''\n",
    "\n",
    "with open('pw.pickle', 'wb') as handle:\n",
    "    pickle.dump(mypass, handle, protocol=pickle.HIGHEST_PROTOCOL)\n",
    "\n",
    "with open('pw.pickle', 'rb') as handle:\n",
    "    pwpickle = pickle.load(handle)\n",
    "\n",
    "smtp_gmail.login(userid, pwpickle)\n",
    "\n",
    "### csv 파일로 아이디 값을 가져와야함\n",
    "\n",
    "import padnas as pd\n",
    "\n",
    "emailData = pd.read_csv(\"./emaillist.csv\")\n",
    "\n",
    "to = emailData.email.tolist()\n",
    "\n",
    "\n",
    "\n",
    "### 이메일 보내기\n",
    "\n",
    "msg=EmailMessage()\n",
    "\n",
    "# 제목입력\n",
    "msg['Subject']=\"퀴즈정보\"\n",
    "\n",
    "# 내용입력\n",
    "msg.set_content(\"퀴즈정보\")\n",
    "\n",
    "# 보내는사람\n",
    "msg['From']='haiteamm@gmail.com'\n",
    "\n",
    "# 받는사람\n",
    "msg['To'] = \",\".join(to)\n",
    "\n",
    "# 첨부파일#1 추가\n",
    "file='0318_오후2.png'\n",
    "fp = open(file,'rb')\n",
    "file_data=fp.read()\n",
    "msg.add_attachment(file_data,\n",
    "                   maintype='text',\n",
    "                   subtype='plain',\n",
    "                   filename=file)\n",
    "\n",
    "file2='link_scraping_result.csv'\n",
    "fp = open(file2,'rb')\n",
    "file_data=fp.read()\n",
    "msg.add_attachment(file_data,\n",
    "                   maintype='text',\n",
    "                   subtype='plain',\n",
    "                   filename=file2)\n",
    "\n",
    "# 메일전송\n",
    "smtp_gmail.send_message(msg)\n",
    "smtp_gmail.close()"
   ]
  },
  {
   "cell_type": "code",
   "execution_count": null,
   "metadata": {},
   "outputs": [],
   "source": []
  }
 ],
 "metadata": {
  "kernelspec": {
   "display_name": "Python 3",
   "language": "python",
   "name": "python3"
  },
  "language_info": {
   "codemirror_mode": {
    "name": "ipython",
    "version": 3
   },
   "file_extension": ".py",
   "mimetype": "text/x-python",
   "name": "python",
   "nbconvert_exporter": "python",
   "pygments_lexer": "ipython3",
   "version": "3.8.3"
  }
 },
 "nbformat": 4,
 "nbformat_minor": 4
}
