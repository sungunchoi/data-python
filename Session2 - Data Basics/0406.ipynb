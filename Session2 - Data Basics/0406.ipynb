{
 "cells": [
  {
   "cell_type": "code",
   "execution_count": null,
   "metadata": {},
   "outputs": [],
   "source": [
    "import pandas as pd\n",
    "import psycopg2\n",
    "from sqlalchemy import create_engine\n",
    "### 2. 데이터 불러오기\n",
    "\n",
    "indata = \\\n",
    "    pd.read_csv(\"../dataset/kopo_decision_tree_all_new.csv\")\n",
    "\n",
    "\n",
    "indata.shape\n",
    "\n",
    "### 3. 데이터 처리 (컬럼 소문자로 변환)\n",
    "\n",
    "indata.columns = indata.columns.str.lower()\n",
    "\n",
    "\n",
    "### 4. 데이터 저정하기\n",
    "\n",
    "targetDbIp = \"192.168.110.111\"\n",
    "targetDbPort = \"5432\"\n",
    "targetDbId = \"kopo\"\n",
    "targetDbPw = \"kopo\"\n",
    "targetDbName = \"kopodb\"\n",
    "\n",
    "targetDbPrefix = \"postgresql://\"\n",
    "\n",
    "targetUrl = \"{}{}:{}@{}:{}/{}\".format(targetDbPrefix,\n",
    "                                      targetDbId,\n",
    "                                      targetDbPw,\n",
    "                                      targetDbIp,\n",
    "                                      targetDbPort,\n",
    "                                     targetDbName)\n",
    "\n",
    "pg_kopo_engine = create_engine(targetUrl)\n",
    "\n",
    "\n",
    "\n",
    "tableName = \"pgout_kopo_sc\""
   ]
  },
  {
   "cell_type": "code",
   "execution_count": null,
   "metadata": {},
   "outputs": [],
   "source": [
    "try:\n",
    "    indata.to_sql(name=tableName, \n",
    "             con = pg_kopo_engine,\n",
    "             if_exists=\"replace\", index=False)\n",
    "    print(\"{} unload 성공!\".format(tableName))\n",
    "except Exception as e:\n",
    "    print(e)"
   ]
  },
  {
   "cell_type": "code",
   "execution_count": null,
   "metadata": {},
   "outputs": [],
   "source": [
    "import d6tstack"
   ]
  },
  {
   "cell_type": "code",
   "execution_count": null,
   "metadata": {},
   "outputs": [],
   "source": [
    "targetDbPrefix =  \"postgresql+psycopg2://\"\n",
    "\n",
    "targetUrl = \"{}{}:{}@{}:{}/{}\".format(targetDbPrefix,\n",
    "                                     targetDbId,\n",
    "                                     targetDbPw,\n",
    "                                     targetDbIp,\n",
    "                                     targetDbPort,\n",
    "                                     targetDbName)\n",
    "\n",
    "pg_kopo_engine = create_engine(targetUrl)\n",
    "\n",
    "tableName = \"pg_result_sc\"\n",
    "\n",
    "\n",
    "\n",
    "d6tstack.utils.pd_to_psql(df=indata, uri=targetUrl, table_name=tableName,if_exists=\"replace\")"
   ]
  }
 ],
 "metadata": {
  "kernelspec": {
   "display_name": "Python 3",
   "language": "python",
   "name": "python3"
  },
  "language_info": {
   "codemirror_mode": {
    "name": "ipython",
    "version": 3
   },
   "file_extension": ".py",
   "mimetype": "text/x-python",
   "name": "python",
   "nbconvert_exporter": "python",
   "pygments_lexer": "ipython3",
   "version": "3.8.3"
  }
 },
 "nbformat": 4,
 "nbformat_minor": 4
}
