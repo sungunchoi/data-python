{
 "cells": [
  {
   "cell_type": "code",
   "execution_count": 1,
   "metadata": {},
   "outputs": [],
   "source": [
    "# 파이썬 언어로 머신러닝 패키지:\n",
    "# 사이킷럿 && STATSMODEL(시계열)"
   ]
  },
  {
   "cell_type": "code",
   "execution_count": 1,
   "metadata": {},
   "outputs": [],
   "source": [
    "# 프로젝트 기간이 짧거나/ 업체가 공격적으로 투자하지 않을때 머신러닝 사용!!"
   ]
  },
  {
   "cell_type": "code",
   "execution_count": 2,
   "metadata": {},
   "outputs": [],
   "source": [
    "# 특성(Features): 알고싶은 답에 영향을 주는 변수\n",
    "# 답(Label): 특성에 따라 반응하는 변수"
   ]
  },
  {
   "cell_type": "markdown",
   "metadata": {},
   "source": [
    "# 1. 라이브러리 정의"
   ]
  },
  {
   "cell_type": "code",
   "execution_count": 32,
   "metadata": {},
   "outputs": [],
   "source": [
    "# 데이터 처리 라이브러리\n",
    "import pandas as pd\n",
    "import numpy as np\n",
    "\n",
    "# 분석 알고리즘 DecisionTree 구현 라이브러리\n",
    "from sklearn.tree import DecisionTreeRegressor # 설명력\n",
    "\n",
    "# from sklearn.ensemble import RandomForestRegressor # 정확도\n",
    "\n",
    "# from sklearn.linear_model import LogisticRegression # yes or no 문제 \n",
    "\n",
    "# from sklearn.linear_model import LinearRegression # 가장 많이 사용함 \n",
    "\n",
    "from sklearn.preprocessing import LabelEncoder # 라벨을 숫자로 변경\n",
    "\n",
    "# 과거데이터를 8:2, 7:3 이나 이런식으로 자동으로 나누어주는 함수\n",
    "from sklearn.model_selection import train_test_split\n",
    "\n",
    "#분석 regression # 평가 대표 지표 (MAE, RMSE)\n",
    "from sklearn.metrics import mean_absolute_error \n",
    "from sklearn.metrics import mean_squared_error \n",
    "\n",
    "from sklearn.ensemble import RandomForestRegressor\n",
    "\n",
    "from sklearn.linear_model import LinearRegression"
   ]
  },
  {
   "cell_type": "code",
   "execution_count": 2,
   "metadata": {},
   "outputs": [],
   "source": [
    "### 2. 데이터 불러오기"
   ]
  },
  {
   "cell_type": "code",
   "execution_count": 3,
   "metadata": {},
   "outputs": [
    {
     "data": {
      "text/html": [
       "<div>\n",
       "<style scoped>\n",
       "    .dataframe tbody tr th:only-of-type {\n",
       "        vertical-align: middle;\n",
       "    }\n",
       "\n",
       "    .dataframe tbody tr th {\n",
       "        vertical-align: top;\n",
       "    }\n",
       "\n",
       "    .dataframe thead th {\n",
       "        text-align: right;\n",
       "    }\n",
       "</style>\n",
       "<table border=\"1\" class=\"dataframe\">\n",
       "  <thead>\n",
       "    <tr style=\"text-align: right;\">\n",
       "      <th></th>\n",
       "      <th>REGIONID</th>\n",
       "      <th>PRODUCTGROUP</th>\n",
       "      <th>PRODUCT</th>\n",
       "      <th>ITEM</th>\n",
       "      <th>YEARWEEK</th>\n",
       "      <th>YEAR</th>\n",
       "      <th>WEEK</th>\n",
       "      <th>QTY</th>\n",
       "      <th>HOLIDAY</th>\n",
       "      <th>HCLUS</th>\n",
       "      <th>PROMOTION</th>\n",
       "      <th>PRO_PERCENT</th>\n",
       "    </tr>\n",
       "  </thead>\n",
       "  <tbody>\n",
       "    <tr>\n",
       "      <th>0</th>\n",
       "      <td>SEOUL_BANK_001</td>\n",
       "      <td>PG02</td>\n",
       "      <td>PRODUCT0010</td>\n",
       "      <td>ITEM0115</td>\n",
       "      <td>201501</td>\n",
       "      <td>2015</td>\n",
       "      <td>1</td>\n",
       "      <td>1225</td>\n",
       "      <td>Y</td>\n",
       "      <td>1</td>\n",
       "      <td>Y</td>\n",
       "      <td>0.209442</td>\n",
       "    </tr>\n",
       "    <tr>\n",
       "      <th>1</th>\n",
       "      <td>SEOUL_BANK_001</td>\n",
       "      <td>PG02</td>\n",
       "      <td>PRODUCT0010</td>\n",
       "      <td>ITEM0115</td>\n",
       "      <td>201502</td>\n",
       "      <td>2015</td>\n",
       "      <td>2</td>\n",
       "      <td>968</td>\n",
       "      <td>N</td>\n",
       "      <td>4</td>\n",
       "      <td>Y</td>\n",
       "      <td>0.209442</td>\n",
       "    </tr>\n",
       "  </tbody>\n",
       "</table>\n",
       "</div>"
      ],
      "text/plain": [
       "         REGIONID PRODUCTGROUP      PRODUCT      ITEM  YEARWEEK  YEAR  WEEK  \\\n",
       "0  SEOUL_BANK_001         PG02  PRODUCT0010  ITEM0115    201501  2015     1   \n",
       "1  SEOUL_BANK_001         PG02  PRODUCT0010  ITEM0115    201502  2015     2   \n",
       "\n",
       "    QTY HOLIDAY  HCLUS PROMOTION  PRO_PERCENT  \n",
       "0  1225       Y      1         Y     0.209442  \n",
       "1   968       N      4         Y     0.209442  "
      ]
     },
     "execution_count": 3,
     "metadata": {},
     "output_type": "execute_result"
    }
   ],
   "source": [
    "# feature 는 숫자여야만 한다\n",
    "\n",
    "featuresData = \\\n",
    "    pd.read_csv(\"../dataset/feature_regression_example.csv\")\n",
    "featuresData.head(2)"
   ]
  },
  {
   "cell_type": "code",
   "execution_count": 4,
   "metadata": {},
   "outputs": [],
   "source": [
    "## 1. 데이터 전처리"
   ]
  },
  {
   "cell_type": "code",
   "execution_count": 5,
   "metadata": {},
   "outputs": [],
   "source": [
    "### 1-1. 타입 통합 / 특성 숫자컬럼 추가"
   ]
  },
  {
   "cell_type": "code",
   "execution_count": 6,
   "metadata": {},
   "outputs": [],
   "source": [
    "### 1-1-1. 데이터 타입 통합"
   ]
  },
  {
   "cell_type": "code",
   "execution_count": 7,
   "metadata": {},
   "outputs": [],
   "source": [
    "#featuresData.info()\n",
    "\n",
    "# 주의할 사항은 모든 컬럼에 대해서 고정시키는걸 고려하는게 나을수도 있다\n",
    "featuresData.QTY = featuresData.QTY.astype(float)"
   ]
  },
  {
   "cell_type": "code",
   "execution_count": 8,
   "metadata": {},
   "outputs": [],
   "source": [
    "### 1-1-2. 특성 값 숫자 컬럼 변경\n",
    "\n",
    "# 이유: 머신러닝 특성은 숫자형 지원\n",
    "# - 해결: Y ->1, N -> 0 과 같이 변환\n",
    "\n",
    "featuresData[\"HOLIDAY_NEW\"] = \\\n",
    "    np.where(featuresData.HOLIDAY==\"Y\",1,0)"
   ]
  },
  {
   "cell_type": "code",
   "execution_count": 9,
   "metadata": {},
   "outputs": [],
   "source": [
    "# 라벨 숫자로 변경\n",
    "holiEn = LabelEncoder()"
   ]
  },
  {
   "cell_type": "code",
   "execution_count": 10,
   "metadata": {},
   "outputs": [
    {
     "data": {
      "text/plain": [
       "REGIONID             object\n",
       "PRODUCTGROUP         object\n",
       "PRODUCT              object\n",
       "ITEM                 object\n",
       "YEARWEEK              int64\n",
       "YEAR                  int64\n",
       "WEEK                  int64\n",
       "QTY                 float64\n",
       "HOLIDAY              object\n",
       "HCLUS                 int64\n",
       "PROMOTION            object\n",
       "PRO_PERCENT         float64\n",
       "HOLIDAY_NEW           int32\n",
       "HOLIDAY_LABEL_EN      int32\n",
       "PROMOTION_NEW         int32\n",
       "dtype: object"
      ]
     },
     "execution_count": 10,
     "metadata": {},
     "output_type": "execute_result"
    }
   ],
   "source": [
    "featuresData[\"HOLIDAY_LABEL_EN\"] = holiEn.fit_transform(featuresData.HOLIDAY)\n",
    "holiEn.inverse_transform(featuresData.HOLIDAY_LABEL_EN)\n",
    "\n",
    "#pd.DataFrame( featuresData.HOLIDAY.drop_duplicates()).reset_index().\\\n",
    "#   rename(columns={}\"index\":\"HOLIDAY_NEW\"})\n",
    "\n",
    "featuresData[\"PROMOTION_NEW\"] = \\\n",
    "    np.where(featuresData.PROMOTION==\"Y\",1,0)\n",
    "\n",
    "featuresData.dtypes"
   ]
  },
  {
   "cell_type": "code",
   "execution_count": 11,
   "metadata": {},
   "outputs": [],
   "source": [
    "### 1-2.특성 선정 / 데이터 분리"
   ]
  },
  {
   "cell_type": "code",
   "execution_count": 12,
   "metadata": {},
   "outputs": [],
   "source": [
    "### 1-2-1. 특성 선정"
   ]
  },
  {
   "cell_type": "code",
   "execution_count": 37,
   "metadata": {},
   "outputs": [
    {
     "data": {
      "text/plain": [
       "['HCLUS', 'PRO_PERCENT', 'HOLIDAY_NEW', 'HOLIDAY_LABEL_EN', 'PROMOTION_NEW']"
      ]
     },
     "execution_count": 37,
     "metadata": {},
     "output_type": "execute_result"
    }
   ],
   "source": [
    "corrDf = featuresData.corr() # 상관개수 # 프로젝트에서 가장 먼저 시작\n",
    "\n",
    "standardLimit = 0.5\n",
    "\n",
    "features = \\\n",
    "    list(corrDf.loc[(abs(corrDf.QTY) > standardLimit) & \n",
    "                    (corrDf.QTY != 1)].index)\n",
    "\n",
    "features"
   ]
  },
  {
   "cell_type": "code",
   "execution_count": 38,
   "metadata": {},
   "outputs": [
    {
     "data": {
      "text/plain": [
       "201632"
      ]
     },
     "execution_count": 38,
     "metadata": {},
     "output_type": "execute_result"
    }
   ],
   "source": [
    "label = [\"QTY\"] # db에서 가져온 값 (하드코딩 X)\n",
    "\n",
    "### 1-2-2. 데이터 분리\n",
    "\n",
    "# 과거 실적데이터~!! 7/3, 8/2 분리\n",
    "\n",
    "standardIndex = 0.8\n",
    "\n",
    "featuresData.shape\n",
    "\n",
    "sortKey = [\"REGIONID\",\"ITEM\",\"YEARWEEK\"]\n",
    "\n",
    "sortedData = featuresData.sort_values(sortKey, ignore_index=True)\n",
    "\n",
    "selectedIndex = int( list( sortedData.shape)[0] * standardIndex)\n",
    "# 정렬하고 80%에 있는 인덱스의 번호로 분리시킨다~\n",
    "\n",
    "yearweekStd = sortedData.loc[selectedIndex].YEARWEEK\n",
    "\n",
    "yearweekStd"
   ]
  },
  {
   "cell_type": "code",
   "execution_count": 13,
   "metadata": {},
   "outputs": [],
   "source": [
    "# 훈련데이터와 테스트데이터를 (문제지와 정답지로 구분해서 정의한다.)\n",
    "trainingDataFeatures = \\\n",
    "    sortedData.loc[sortedData.YEARWEEK <= yearweekStd, features]\n",
    "trainingDataLabel = \\\n",
    "    sortedData.loc[sortedData.YEARWEEK <= yearweekStd, label]\n",
    "testDataFeatures = \\\n",
    "    sortedData.loc[sortedData.YEARWEEK > yearweekStd, features]\n",
    "testDataLabel = \\\n",
    "    sortedData.loc[sortedData.YEARWEEK > yearweekStd, label]"
   ]
  },
  {
   "cell_type": "code",
   "execution_count": 39,
   "metadata": {},
   "outputs": [
    {
     "data": {
      "text/html": [
       "<div>\n",
       "<style scoped>\n",
       "    .dataframe tbody tr th:only-of-type {\n",
       "        vertical-align: middle;\n",
       "    }\n",
       "\n",
       "    .dataframe tbody tr th {\n",
       "        vertical-align: top;\n",
       "    }\n",
       "\n",
       "    .dataframe thead th {\n",
       "        text-align: right;\n",
       "    }\n",
       "</style>\n",
       "<table border=\"1\" class=\"dataframe\">\n",
       "  <thead>\n",
       "    <tr style=\"text-align: right;\">\n",
       "      <th></th>\n",
       "      <th>QTY</th>\n",
       "    </tr>\n",
       "  </thead>\n",
       "  <tbody>\n",
       "    <tr>\n",
       "      <th>0</th>\n",
       "      <td>1225.0</td>\n",
       "    </tr>\n",
       "    <tr>\n",
       "      <th>1</th>\n",
       "      <td>968.0</td>\n",
       "    </tr>\n",
       "    <tr>\n",
       "      <th>2</th>\n",
       "      <td>1209.0</td>\n",
       "    </tr>\n",
       "    <tr>\n",
       "      <th>3</th>\n",
       "      <td>1810.0</td>\n",
       "    </tr>\n",
       "    <tr>\n",
       "      <th>4</th>\n",
       "      <td>1773.0</td>\n",
       "    </tr>\n",
       "    <tr>\n",
       "      <th>...</th>\n",
       "      <td>...</td>\n",
       "    </tr>\n",
       "    <tr>\n",
       "      <th>80</th>\n",
       "      <td>1616.0</td>\n",
       "    </tr>\n",
       "    <tr>\n",
       "      <th>81</th>\n",
       "      <td>1318.0</td>\n",
       "    </tr>\n",
       "    <tr>\n",
       "      <th>82</th>\n",
       "      <td>2240.0</td>\n",
       "    </tr>\n",
       "    <tr>\n",
       "      <th>83</th>\n",
       "      <td>1522.0</td>\n",
       "    </tr>\n",
       "    <tr>\n",
       "      <th>84</th>\n",
       "      <td>2100.0</td>\n",
       "    </tr>\n",
       "  </tbody>\n",
       "</table>\n",
       "<p>85 rows × 1 columns</p>\n",
       "</div>"
      ],
      "text/plain": [
       "       QTY\n",
       "0   1225.0\n",
       "1    968.0\n",
       "2   1209.0\n",
       "3   1810.0\n",
       "4   1773.0\n",
       "..     ...\n",
       "80  1616.0\n",
       "81  1318.0\n",
       "82  2240.0\n",
       "83  1522.0\n",
       "84  2100.0\n",
       "\n",
       "[85 rows x 1 columns]"
      ]
     },
     "execution_count": 39,
     "metadata": {},
     "output_type": "execute_result"
    }
   ],
   "source": [
    "trainingDataLabel"
   ]
  },
  {
   "cell_type": "code",
   "execution_count": 40,
   "metadata": {},
   "outputs": [
    {
     "data": {
      "text/html": [
       "<div>\n",
       "<style scoped>\n",
       "    .dataframe tbody tr th:only-of-type {\n",
       "        vertical-align: middle;\n",
       "    }\n",
       "\n",
       "    .dataframe tbody tr th {\n",
       "        vertical-align: top;\n",
       "    }\n",
       "\n",
       "    .dataframe thead th {\n",
       "        text-align: right;\n",
       "    }\n",
       "</style>\n",
       "<table border=\"1\" class=\"dataframe\">\n",
       "  <thead>\n",
       "    <tr style=\"text-align: right;\">\n",
       "      <th></th>\n",
       "      <th>HCLUS</th>\n",
       "      <th>PRO_PERCENT</th>\n",
       "      <th>HOLIDAY_NEW</th>\n",
       "      <th>HOLIDAY_LABEL_EN</th>\n",
       "      <th>PROMOTION_NEW</th>\n",
       "    </tr>\n",
       "  </thead>\n",
       "  <tbody>\n",
       "    <tr>\n",
       "      <th>0</th>\n",
       "      <td>1</td>\n",
       "      <td>0.209442</td>\n",
       "      <td>1</td>\n",
       "      <td>1</td>\n",
       "      <td>1</td>\n",
       "    </tr>\n",
       "    <tr>\n",
       "      <th>1</th>\n",
       "      <td>4</td>\n",
       "      <td>0.209442</td>\n",
       "      <td>0</td>\n",
       "      <td>0</td>\n",
       "      <td>1</td>\n",
       "    </tr>\n",
       "    <tr>\n",
       "      <th>2</th>\n",
       "      <td>4</td>\n",
       "      <td>0.208155</td>\n",
       "      <td>0</td>\n",
       "      <td>0</td>\n",
       "      <td>1</td>\n",
       "    </tr>\n",
       "    <tr>\n",
       "      <th>3</th>\n",
       "      <td>2</td>\n",
       "      <td>0.208155</td>\n",
       "      <td>1</td>\n",
       "      <td>1</td>\n",
       "      <td>1</td>\n",
       "    </tr>\n",
       "    <tr>\n",
       "      <th>4</th>\n",
       "      <td>4</td>\n",
       "      <td>0.208155</td>\n",
       "      <td>0</td>\n",
       "      <td>0</td>\n",
       "      <td>1</td>\n",
       "    </tr>\n",
       "    <tr>\n",
       "      <th>...</th>\n",
       "      <td>...</td>\n",
       "      <td>...</td>\n",
       "      <td>...</td>\n",
       "      <td>...</td>\n",
       "      <td>...</td>\n",
       "    </tr>\n",
       "    <tr>\n",
       "      <th>80</th>\n",
       "      <td>1</td>\n",
       "      <td>0.308584</td>\n",
       "      <td>1</td>\n",
       "      <td>1</td>\n",
       "      <td>1</td>\n",
       "    </tr>\n",
       "    <tr>\n",
       "      <th>81</th>\n",
       "      <td>1</td>\n",
       "      <td>0.308584</td>\n",
       "      <td>1</td>\n",
       "      <td>1</td>\n",
       "      <td>1</td>\n",
       "    </tr>\n",
       "    <tr>\n",
       "      <th>82</th>\n",
       "      <td>4</td>\n",
       "      <td>0.280258</td>\n",
       "      <td>0</td>\n",
       "      <td>0</td>\n",
       "      <td>1</td>\n",
       "    </tr>\n",
       "    <tr>\n",
       "      <th>83</th>\n",
       "      <td>4</td>\n",
       "      <td>0.280258</td>\n",
       "      <td>0</td>\n",
       "      <td>0</td>\n",
       "      <td>1</td>\n",
       "    </tr>\n",
       "    <tr>\n",
       "      <th>84</th>\n",
       "      <td>4</td>\n",
       "      <td>0.280258</td>\n",
       "      <td>0</td>\n",
       "      <td>0</td>\n",
       "      <td>1</td>\n",
       "    </tr>\n",
       "  </tbody>\n",
       "</table>\n",
       "<p>85 rows × 5 columns</p>\n",
       "</div>"
      ],
      "text/plain": [
       "    HCLUS  PRO_PERCENT  HOLIDAY_NEW  HOLIDAY_LABEL_EN  PROMOTION_NEW\n",
       "0       1     0.209442            1                 1              1\n",
       "1       4     0.209442            0                 0              1\n",
       "2       4     0.208155            0                 0              1\n",
       "3       2     0.208155            1                 1              1\n",
       "4       4     0.208155            0                 0              1\n",
       "..    ...          ...          ...               ...            ...\n",
       "80      1     0.308584            1                 1              1\n",
       "81      1     0.308584            1                 1              1\n",
       "82      4     0.280258            0                 0              1\n",
       "83      4     0.280258            0                 0              1\n",
       "84      4     0.280258            0                 0              1\n",
       "\n",
       "[85 rows x 5 columns]"
      ]
     },
     "execution_count": 40,
     "metadata": {},
     "output_type": "execute_result"
    }
   ],
   "source": [
    "trainingDataFeatures"
   ]
  },
  {
   "cell_type": "markdown",
   "metadata": {},
   "source": [
    "## 2. 모델적용"
   ]
  },
  {
   "cell_type": "markdown",
   "metadata": {},
   "source": [
    "### 2-1. 모델 적용"
   ]
  },
  {
   "cell_type": "code",
   "execution_count": 14,
   "metadata": {},
   "outputs": [],
   "source": [
    "### 2-1-1 학습"
   ]
  },
  {
   "cell_type": "code",
   "execution_count": 15,
   "metadata": {},
   "outputs": [
    {
     "data": {
      "text/plain": [
       "DecisionTreeRegressor(random_state=10)"
      ]
     },
     "execution_count": 15,
     "metadata": {},
     "output_type": "execute_result"
    }
   ],
   "source": [
    "# 하이퍼 파라미터 튜닝!!!\n",
    "model = DecisionTreeRegressor(random_state=10)\n",
    "\n",
    "model.fit(X=trainingDataFeatures, y=trainingDataLabel)"
   ]
  },
  {
   "cell_type": "code",
   "execution_count": 16,
   "metadata": {},
   "outputs": [
    {
     "name": "stderr",
     "output_type": "stream",
     "text": [
      "<ipython-input-16-549c6e626ea5>:4: DataConversionWarning: A column-vector y was passed when a 1d array was expected. Please change the shape of y to (n_samples,), for example using ravel().\n",
      "  rfmodel.fit(X=trainingDataFeatures, y=trainingDataLabel)\n"
     ]
    },
    {
     "data": {
      "text/plain": [
       "RandomForestRegressor(random_state=10)"
      ]
     },
     "execution_count": 16,
     "metadata": {},
     "output_type": "execute_result"
    }
   ],
   "source": [
    "# radomforest 방식!\n",
    "rfmodel = RandomForestRegressor(random_state=10)\n",
    "\n",
    "rfmodel.fit(X=trainingDataFeatures, y=trainingDataLabel)"
   ]
  },
  {
   "cell_type": "code",
   "execution_count": 34,
   "metadata": {},
   "outputs": [
    {
     "data": {
      "text/plain": [
       "LinearRegression()"
      ]
     },
     "execution_count": 34,
     "metadata": {},
     "output_type": "execute_result"
    }
   ],
   "source": [
    "# linearRegression\n",
    "model_lr = LinearRegression()\n",
    "model_lr.fit(X=trainingDataFeatures, y=trainingDataLabel)"
   ]
  },
  {
   "cell_type": "markdown",
   "metadata": {},
   "source": [
    "## 3. 예측"
   ]
  },
  {
   "cell_type": "code",
   "execution_count": 17,
   "metadata": {},
   "outputs": [],
   "source": [
    "predictValue = model.predict(testDataFeatures)\n",
    "\n",
    "predictDf = \\\n",
    "    pd.DataFrame( list(predictValue ), columns=[\"PREDICT\"])\n",
    "\n",
    "# graphviz 로 뜯어볼수 있다\n",
    "# explainable ai"
   ]
  },
  {
   "cell_type": "code",
   "execution_count": 18,
   "metadata": {},
   "outputs": [],
   "source": [
    "# radomforest\n",
    "rfpredictValue = rfmodel.predict(testDataFeatures)"
   ]
  },
  {
   "cell_type": "code",
   "execution_count": 19,
   "metadata": {},
   "outputs": [],
   "source": [
    "rfpredictDf = \\\n",
    "    pd.DataFrame( list(rfpredictValue ), columns=[\"PREDICT\"])"
   ]
  },
  {
   "cell_type": "code",
   "execution_count": 35,
   "metadata": {},
   "outputs": [],
   "source": [
    "predictValueLr = model_lr.predict(testDataFeatures)"
   ]
  },
  {
   "cell_type": "code",
   "execution_count": 36,
   "metadata": {},
   "outputs": [
    {
     "ename": "NameError",
     "evalue": "name 'predictValueDt' is not defined",
     "output_type": "error",
     "traceback": [
      "\u001b[1;31m---------------------------------------------------------------------------\u001b[0m",
      "\u001b[1;31mNameError\u001b[0m                                 Traceback (most recent call last)",
      "\u001b[1;32m<ipython-input-36-4adc695ce60c>\u001b[0m in \u001b[0;36m<module>\u001b[1;34m\u001b[0m\n\u001b[1;32m----> 1\u001b[1;33m \u001b[0mtestDataAll\u001b[0m\u001b[1;33m[\u001b[0m\u001b[1;34m\"PREDICT_DT\"\u001b[0m\u001b[1;33m]\u001b[0m \u001b[1;33m=\u001b[0m \u001b[0mpredictValueDt\u001b[0m\u001b[1;33m\u001b[0m\u001b[1;33m\u001b[0m\u001b[0m\n\u001b[0m\u001b[0;32m      2\u001b[0m \u001b[0mtestDataAll\u001b[0m\u001b[1;33m[\u001b[0m\u001b[1;34m\"PREDICT_FR\"\u001b[0m\u001b[1;33m]\u001b[0m \u001b[1;33m=\u001b[0m \u001b[0mpredictValueRf\u001b[0m\u001b[1;33m\u001b[0m\u001b[1;33m\u001b[0m\u001b[0m\n\u001b[0;32m      3\u001b[0m \u001b[1;33m\u001b[0m\u001b[0m\n\u001b[0;32m      4\u001b[0m \u001b[0mtestDataAll\u001b[0m\u001b[1;33m[\u001b[0m\u001b[1;34m\"PREDICT_LR\"\u001b[0m\u001b[1;33m]\u001b[0m \u001b[1;33m=\u001b[0m \u001b[0mpredictValueLr\u001b[0m\u001b[1;33m\u001b[0m\u001b[1;33m\u001b[0m\u001b[0m\n",
      "\u001b[1;31mNameError\u001b[0m: name 'predictValueDt' is not defined"
     ]
    }
   ],
   "source": [
    "testDataAll[\"PREDICT_DT\"] = predictValueDt\n",
    "testDataAll[\"PREDICT_FR\"] = predictValueRf\n",
    "\n",
    "testDataAll[\"PREDICT_LR\"] = predictValueLr"
   ]
  },
  {
   "cell_type": "markdown",
   "metadata": {},
   "source": [
    "## 4. 데이터 정리"
   ]
  },
  {
   "cell_type": "code",
   "execution_count": 21,
   "metadata": {},
   "outputs": [],
   "source": [
    "rfvalidateDf = \\\n",
    "    pd.concat([testDataLabel.reset_index(drop=True), rfpredictDf], axis=1)"
   ]
  },
  {
   "cell_type": "markdown",
   "metadata": {},
   "source": [
    "## 5. 정확도 검증"
   ]
  },
  {
   "cell_type": "code",
   "execution_count": 31,
   "metadata": {},
   "outputs": [
    {
     "data": {
      "text/plain": [
       "['HCLUS', 'PRO_PERCENT', 'HOLIDAY_NEW', 'HOLIDAY_LABEL_EN', 'PROMOTION_NEW']"
      ]
     },
     "execution_count": 31,
     "metadata": {},
     "output_type": "execute_result"
    }
   ],
   "source": [
    "features"
   ]
  },
  {
   "cell_type": "code",
   "execution_count": null,
   "metadata": {},
   "outputs": [],
   "source": []
  },
  {
   "cell_type": "code",
   "execution_count": 22,
   "metadata": {},
   "outputs": [],
   "source": [
    "mae = mean_absolute_error(y_true=validateDf.QTY,\n",
    "                   y_pred=validateDf.PREDICT)\n",
    "\n",
    "rmse = np.sqrt(mean_absolute_error(y_true=validateDf.QTY,\n",
    "                   y_pred=validateDf.PREDICT))"
   ]
  },
  {
   "cell_type": "code",
   "execution_count": 23,
   "metadata": {},
   "outputs": [],
   "source": [
    "# 장점:\n",
    "# DecisionTree => 과거의 경험치를 그래도 반영한다\n",
    "#                 변동성이 큰 데이터에서 강하다\n",
    "#                 설명력이 강하다\n",
    "# 단점:\n",
    "#  오버피팅 - 과거에 집착 미래 예측 불가 \n",
    "#  randomforest ->\n",
    "#    장점: DecisionTree 오버피팅을 해결\n",
    "#    단점: 설명력이 어려움"
   ]
  },
  {
   "cell_type": "markdown",
   "metadata": {},
   "source": [
    "## 6. 결과 검증"
   ]
  },
  {
   "cell_type": "code",
   "execution_count": 24,
   "metadata": {},
   "outputs": [
    {
     "data": {
      "text/plain": [
       "462.0403571428572"
      ]
     },
     "execution_count": 24,
     "metadata": {},
     "output_type": "execute_result"
    }
   ],
   "source": [
    "mae"
   ]
  },
  {
   "cell_type": "code",
   "execution_count": 25,
   "metadata": {},
   "outputs": [
    {
     "data": {
      "text/plain": [
       "21.4951240318091"
      ]
     },
     "execution_count": 25,
     "metadata": {},
     "output_type": "execute_result"
    }
   ],
   "source": [
    "rmse"
   ]
  },
  {
   "cell_type": "code",
   "execution_count": 26,
   "metadata": {},
   "outputs": [],
   "source": [
    "mae1 = mean_absolute_error(y_true=rfvalidateDf.QTY,\n",
    "                   y_pred=rfvalidateDf.PREDICT)\n",
    "\n",
    "rmse1 = np.sqrt(mean_absolute_error(y_true=rfvalidateDf.QTY,\n",
    "                   y_pred=rfvalidateDf.PREDICT))"
   ]
  },
  {
   "cell_type": "code",
   "execution_count": 27,
   "metadata": {},
   "outputs": [
    {
     "data": {
      "text/plain": [
       "399.2856794302984"
      ]
     },
     "execution_count": 27,
     "metadata": {},
     "output_type": "execute_result"
    }
   ],
   "source": [
    "mae1"
   ]
  },
  {
   "cell_type": "code",
   "execution_count": 28,
   "metadata": {},
   "outputs": [
    {
     "data": {
      "text/plain": [
       "19.982134005913842"
      ]
     },
     "execution_count": 28,
     "metadata": {},
     "output_type": "execute_result"
    }
   ],
   "source": [
    "rmse1"
   ]
  },
  {
   "cell_type": "code",
   "execution_count": null,
   "metadata": {},
   "outputs": [],
   "source": []
  },
  {
   "cell_type": "markdown",
   "metadata": {},
   "source": [
    "## 7. 결과 시각화 및 분석"
   ]
  },
  {
   "cell_type": "code",
   "execution_count": 29,
   "metadata": {},
   "outputs": [
    {
     "data": {
      "image/png": "[encoded data removed]",
      "text/plain": [
       "<IPython.core.display.Image object>"
      ]
     },
     "execution_count": 29,
     "metadata": {},
     "output_type": "execute_result"
    }
   ],
   "source": [
    "from six import StringIO \n",
    "from IPython.display import Image \n",
    "from sklearn.tree import export_graphviz\n",
    "import pydotplus\n",
    "dot_data = StringIO()\n",
    "export_graphviz(model, out_file=dot_data, \n",
    "rounded=True,\n",
    "special_characters=True)\n",
    "graph = pydotplus.graph_from_dot_data(dot_data.getvalue()) \n",
    "Image(graph.create_png())"
   ]
  },
  {
   "cell_type": "code",
   "execution_count": 30,
   "metadata": {},
   "outputs": [],
   "source": [
    "# 데이터 처리 라이브러리\n",
    "import pandas as pd\n",
    "import numpy as np\n",
    "# 분석알고리즘 DecisionTree 구현 라이브러리\n",
    "from sklearn.tree import DecisionTreeRegressor \n",
    "# 과거데이터를 8:2, 7:3 이나 이런식으로 자동으로 나누어주는 라이브러리\n",
    "from sklearn.model_selection import train_test_split\n",
    "from sklearn.ensemble import RandomForestRegressor\n",
    "import sys\n",
    "import pickle"
   ]
  },
  {
   "cell_type": "code",
   "execution_count": 30,
   "metadata": {},
   "outputs": [
    {
     "ename": "FileNotFoundError",
     "evalue": "[Errno 2] No such file or directory: 'finalized_model.sav'",
     "output_type": "error",
     "traceback": [
      "\u001b[1;31m---------------------------------------------------------------------------\u001b[0m",
      "\u001b[1;31mFileNotFoundError\u001b[0m                         Traceback (most recent call last)",
      "\u001b[1;32m<ipython-input-30-59214f355e1b>\u001b[0m in \u001b[0;36m<module>\u001b[1;34m\u001b[0m\n\u001b[0;32m     14\u001b[0m \u001b[0mloadedModel\u001b[0m\u001b[1;33m=\u001b[0m \u001b[1;34m\"finalized_model.sav\"\u001b[0m\u001b[1;33m\u001b[0m\u001b[1;33m\u001b[0m\u001b[0m\n\u001b[0;32m     15\u001b[0m \u001b[1;33m\u001b[0m\u001b[0m\n\u001b[1;32m---> 16\u001b[1;33m \u001b[0mloaded_model2\u001b[0m \u001b[1;33m=\u001b[0m \u001b[0mpickle\u001b[0m\u001b[1;33m.\u001b[0m\u001b[0mload\u001b[0m\u001b[1;33m(\u001b[0m\u001b[0mopen\u001b[0m\u001b[1;33m(\u001b[0m\u001b[0mloadedModel\u001b[0m\u001b[1;33m,\u001b[0m \u001b[1;34m'rb'\u001b[0m\u001b[1;33m)\u001b[0m\u001b[1;33m)\u001b[0m\u001b[1;33m\u001b[0m\u001b[1;33m\u001b[0m\u001b[0m\n\u001b[0m\u001b[0;32m     17\u001b[0m \u001b[1;33m\u001b[0m\u001b[0m\n\u001b[0;32m     18\u001b[0m \u001b[0mloaded_model2\u001b[0m\u001b[1;33m\u001b[0m\u001b[1;33m\u001b[0m\u001b[0m\n",
      "\u001b[1;31mFileNotFoundError\u001b[0m: [Errno 2] No such file or directory: 'finalized_model.sav'"
     ]
    }
   ],
   "source": [
    "loadedModel= \"finalized_model.sav\"\n",
    "loaded_model2 = pickle.load(open(loadedModel, 'rb'))\n",
    "loaded_model2\n",
    "\n",
    "userInputHCLUS = 1\n",
    "userInputProPercent=0.5\n",
    "userInputHoilidayYn = 1\n",
    "userInputPromotionYn = 1\n",
    "\n",
    "futureData = pd.DataFrame([[ userInputHCLUS,\n",
    "              userInputProPercent,\n",
    "              userInputHoilidayYn,\n",
    "              userInputPromotionYn]]   )\n",
    "\n",
    "# pickle 파일로 저장가능하다.\n",
    "\n",
    "print(loaded_model2.predict(futureData))"
   ]
  }
 ],
 "metadata": {
  "kernelspec": {
   "display_name": "Python 3",
   "language": "python",
   "name": "python3"
  },
  "language_info": {
   "codemirror_mode": {
    "name": "ipython",
    "version": 3
   },
   "file_extension": ".py",
   "mimetype": "text/x-python",
   "name": "python",
   "nbconvert_exporter": "python",
   "pygments_lexer": "ipython3",
   "version": "3.8.3"
  }
 },
 "nbformat": 4,
 "nbformat_minor": 4
}
