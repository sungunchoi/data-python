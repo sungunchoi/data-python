{
 "cells": [
  {
   "cell_type": "code",
   "execution_count": 9,
   "metadata": {},
   "outputs": [
    {
     "name": "stdout",
     "output_type": "stream",
     "text": [
      "[1434.6]\n"
     ]
    }
   ],
   "source": [
    "# 데이터 처리 라이브러리\n",
    "import pandas as pd\n",
    "import numpy as np\n",
    "# 분석알고리즘 DecisionTree 구현 라이브러리\n",
    "from sklearn.tree import DecisionTreeRegressor \n",
    "# 과거데이터를 8:2, 7:3 이나 이런식으로 자동으로 나누어주는 라이브러리\n",
    "from sklearn.model_selection import train_test_split\n",
    "from sklearn.ensemble import RandomForestRegressor\n",
    "\n",
    "import sys\n",
    "\n",
    "import pickle\n",
    "\n",
    "loadedModel= \"finalized_model.sav\"\n",
    "\n",
    "loaded_model2 = pickle.load(open(loadedModel, 'rb'))\n",
    "\n",
    "loaded_model2\n",
    "\n",
    "userInputHCLUS = 1\n",
    "userInputProPercent=0.5\n",
    "userInputHoilidayYn = 1\n",
    "userInputPromotionYn = 1\n",
    "\n",
    "futureData = pd.DataFrame([[ userInputHCLUS,\n",
    "              userInputProPercent,\n",
    "              userInputHoilidayYn,\n",
    "              userInputPromotionYn]]   )\n",
    "\n",
    "# pickle 파일로 저장가능하다.\n",
    "\n",
    "\n",
    "print(loaded_model2.predict(futureData))"
   ]
  }
 ],
 "metadata": {
  "kernelspec": {
   "display_name": "Python 3",
   "language": "python",
   "name": "python3"
  },
  "language_info": {
   "codemirror_mode": {
    "name": "ipython",
    "version": 3
   },
   "file_extension": ".py",
   "mimetype": "text/x-python",
   "name": "python",
   "nbconvert_exporter": "python",
   "pygments_lexer": "ipython3",
   "version": "3.8.5"
  }
 },
 "nbformat": 4,
 "nbformat_minor": 4
}
