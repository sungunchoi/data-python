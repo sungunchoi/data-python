{
 "cells": [
  {
   "cell_type": "markdown",
   "metadata": {},
   "source": [
    "# 5. 셀레니움 활용 웹브라우저 자동화"
   ]
  },
  {
   "cell_type": "code",
   "execution_count": 1,
   "metadata": {},
   "outputs": [],
   "source": [
    "# from selenium import webdriver\n",
    "# from bs4 import BeautifulSoup\n",
    "# import os\n",
    "# from os.path import join, dirname\n",
    "\n",
    "# if os.name == 'nt':\n",
    "#     os_name = 'nt'\n",
    "# elif os.name == 'mac':\n",
    "#     os_name = 'mac'\n",
    "# else:\n",
    "#     os_name = 'linux'\n",
    "\n",
    "# if os_name == 'nt':\n",
    "#     dirver_loc = \"d:/chromedriver/chromedriver.exe\"\n",
    "# else:\n",
    "#     dirver_loc = \"/home/download/chromedriver/chromedriver.exe\""
   ]
  },
  {
   "cell_type": "markdown",
   "metadata": {},
   "source": [
    "### (1) 라이브러리 선언 및 드라이버 설정"
   ]
  },
  {
   "cell_type": "code",
   "execution_count": 2,
   "metadata": {},
   "outputs": [],
   "source": [
    "# 라이브러리 선언\n",
    "from selenium import webdriver\n",
    "\n",
    "# 드라이버 위치 설정\n",
    "driver_loc = \"d:/chromedriver/chromedriver.exe\"\n",
    "\n",
    "# 드라이버 옵션 설정\n",
    "options = webdriver.ChromeOptions()\n",
    "options.add_argument(\"window-size=1920x1080\")\n",
    "\n",
    "# 헤드리스 설정 시 리눅스 같이 웹화면 없는경우에도 웹페이지 실행가능함\n",
    "# options.add_argument('headless’)\n",
    "# options.add_argument(\"disable-gpu\")\n",
    "# 웹 드라이버 정의\n",
    "driver = webdriver.Chrome(driver_loc, options=options)\n",
    "# 웹페이지 파싱 될때까지 최대 3초 기다림\n",
    "driver.implicitly_wait(3)"
   ]
  },
  {
   "cell_type": "markdown",
   "metadata": {},
   "source": [
    "### (2) 웹페이지 이동"
   ]
  },
  {
   "cell_type": "code",
   "execution_count": 3,
   "metadata": {},
   "outputs": [],
   "source": [
    "# URL 정의\n",
    "baseUrl = \"https://sparkkorea.com\"\n",
    "# URL 이동\n",
    "driver.get(baseUrl)"
   ]
  },
  {
   "cell_type": "code",
   "execution_count": 4,
   "metadata": {},
   "outputs": [
    {
     "data": {
      "text/plain": [
       "'https://sparkkorea.com/'"
      ]
     },
     "execution_count": 4,
     "metadata": {},
     "output_type": "execute_result"
    }
   ],
   "source": [
    "# 현재 URL 정보 \n",
    "driver.current_url"
   ]
  },
  {
   "cell_type": "markdown",
   "metadata": {},
   "source": [
    "### (3) 액션대상 요소 탐색"
   ]
  },
  {
   "cell_type": "markdown",
   "metadata": {},
   "source": [
    "웹 페이지에서 원하는 요소 선택 (우클릭 후 검사) 이후 소스코드 영역에서 우클릭 후 COPY X PATH\n",
    "(* 클래스 속성으로 등으로도 접근가능)"
   ]
  },
  {
   "cell_type": "code",
   "execution_count": 5,
   "metadata": {},
   "outputs": [],
   "source": [
    "serchPath = '//*[@id=\"menu-item-382\"]/a'"
   ]
  },
  {
   "cell_type": "markdown",
   "metadata": {},
   "source": [
    "### (4) 액션 적용하기 (키 입력)"
   ]
  },
  {
   "cell_type": "code",
   "execution_count": 6,
   "metadata": {},
   "outputs": [],
   "source": [
    "from selenium.webdriver.common.keys import Keys\n",
    "\n",
    "# URL 정의\n",
    "googleUrl = 'https://www.google.co.kr'\n",
    "# URL 이동\n",
    "driver.get(googleUrl)\n",
    "# 요소 탐색\n",
    "searchPath = '//*[@id=\"tsf\"]/div[2]/div[1]/div[1]/div/div[2]/input'\n",
    "driver.find_element_by_xpath(searchPath).send_keys(\"selenium wiki\")\n",
    "driver.find_element_by_xpath(searchPath).send_keys(Keys.ENTER)"
   ]
  },
  {
   "cell_type": "markdown",
   "metadata": {},
   "source": [
    "### (4) 액션 적용하기 (클릭)"
   ]
  },
  {
   "cell_type": "code",
   "execution_count": 7,
   "metadata": {},
   "outputs": [],
   "source": [
    "# URL 정의\n",
    "sparkUrl = 'https://sparkkorea.com'\n",
    "\n",
    "# URL 이동\n",
    "driver.implicitly_wait(3)\n",
    "driver.get(sparkUrl)\n",
    "\n",
    "quizBtnXpath = '//*[@id=\"menu-item-382\"]/a'\n",
    "driver.find_element_by_xpath(quizBtnXpath).click()"
   ]
  },
  {
   "cell_type": "markdown",
   "metadata": {},
   "source": [
    "### (5) 웹 페이지 소스 가져오기"
   ]
  },
  {
   "cell_type": "code",
   "execution_count": 8,
   "metadata": {},
   "outputs": [],
   "source": [
    "# 페이지 소스 가져오기 전 대기 (절대시간 1초)\n",
    "import time\n",
    "time.sleep(1)\n",
    "\n",
    "# 현재 페이지 소스 가져오기\n",
    "html = driver.page_source\n",
    "\n",
    "import bs4\n",
    "# BeautifulSoup로 페이지 소스 파싱\n",
    "bs = bs4.BeautifulSoup(html,\"html.parser\")"
   ]
  },
  {
   "cell_type": "markdown",
   "metadata": {},
   "source": [
    "### (6) 페이지 스크랩 및 저장하기"
   ]
  },
  {
   "cell_type": "code",
   "execution_count": 9,
   "metadata": {},
   "outputs": [],
   "source": [
    "# 퀴즈 정보 스크랩\n",
    "spQuizTag = bs.find(name=\"div\", attrs={\"id\":\"id_spark_quiz\"})\n",
    "\n",
    "spQuizTagLinks = spQuizTag.findAll(\"a\")\n",
    "\n",
    "titleList = []\n",
    "linkList = []\n",
    "\n",
    "for i in range(0, len(spQuizTagLinks)):\n",
    "    titleInfo = spQuizTagLinks[0].text\n",
    "    linkInfo = spQuizTagLinks[0].attrs[\"href\"]\n",
    "    titleList.append(titleInfo)\n",
    "    linkList.append(linkInfo)\n",
    "    \n",
    "# 데이터프레임 변환\n",
    "import pandas as pd\n",
    "finalResult = pd.DataFrame( zip(titleList, linkList) , columns = [\"제목\", \"링크\"])\n",
    "\n",
    "# csv 파일로 저장\n",
    "finalResult.to_csv(\"./link_scraping_result.csv\",encoding=\"ms949\", index=False)"
   ]
  },
  {
   "cell_type": "markdown",
   "metadata": {},
   "source": [
    "# 액션 고급"
   ]
  },
  {
   "cell_type": "markdown",
   "metadata": {},
   "source": [
    "##### 1. 쿠팡접속 메뉴 연속 선택"
   ]
  },
  {
   "cell_type": "code",
   "execution_count": 10,
   "metadata": {},
   "outputs": [],
   "source": [
    "from selenium.webdriver.common.action_chains import ActionChains\n",
    "coupangUrl = 'http://www.coupang.com'\n",
    "driver.get(coupangUrl)\n",
    "\n",
    "# 카테고리 메뉴 (카테고리 -> 채소 )\n",
    "mainMenu = '//*[@id=\"header\"]/div/a'\n",
    "subMenu = '//*[@id=\"gnbAnalytics\"]/ul[1]/li[4]/a'\n",
    "\n",
    "main = driver.find_element_by_xpath(mainMenu)\n",
    "sub = driver.find_element_by_xpath(subMenu)\n",
    "\n",
    "# 메인 이동 후 클릭\n",
    "ActionChains(driver).move_to_element(main).click(sub).perform()"
   ]
  },
  {
   "cell_type": "markdown",
   "metadata": {},
   "source": [
    "##### 2. 쿠팡접속 메뉴 연속 선택"
   ]
  },
  {
   "cell_type": "code",
   "execution_count": 11,
   "metadata": {},
   "outputs": [],
   "source": [
    "# 카테고리 메뉴 (카테고리 -> 식품 -> 축산/계란 -> 게략/알류/가공란)\n",
    "mainMenu = '//*[@id=\"header\"]/div/a'\n",
    "subMenu = '//*[@id=\"gnbAnalytics\"]/ul[1]/li[4]/a'\n",
    "subMenu2 = '//*[@id=\"gnbAnalytics\"]/ul[1]/li[4]/div/div/ul/li[6]/a'\n",
    "targetMenu = '//*[@id=\"gnbAnalytics\"]/ul[1]/li[4]/div/div/ul/li[6]/div/ul/li[6]/a'\n",
    "main = driver.find_element_by_xpath(mainMenu)\n",
    "sub = driver.find_element_by_xpath(subMenu)\n",
    "sub2 = driver.find_element_by_xpath(subMenu2)\n",
    "target = driver.find_element_by_xpath(targetMenu)\n",
    "ActionChains(driver).move_to_element(main).move_to_element(sub).move_to_element(sub2).click(target).perform()"
   ]
  },
  {
   "cell_type": "markdown",
   "metadata": {},
   "source": [
    "### 액션 적용 시 기다렸다가 클릭하기"
   ]
  },
  {
   "cell_type": "code",
   "execution_count": 12,
   "metadata": {},
   "outputs": [],
   "source": [
    "# URL 정의\n",
    "baseUrl = \"https://sparkkorea.com\"\n",
    "# URL 이동\n",
    "driver.get(baseUrl)\n",
    "\n",
    "from selenium.webdriver.common.by import By\n",
    "from selenium.webdriver.support.ui import WebDriverWait\n",
    "from selenium.webdriver.support import expected_conditions as EC\n",
    "\n",
    "\n",
    "# driver.find_element_by_xpath(mainTitle).is_displayed()\n",
    "\n",
    "quizMenu = '//*[@id=\"menu-item-382\"]/a'\n",
    "element = WebDriverWait(driver, 10).until(\n",
    "    EC.presence_of_element_located((By.XPATH, quizMenu)))\n",
    "driver.find_element_by_xpath(quizMenu).click()"
   ]
  },
  {
   "cell_type": "code",
   "execution_count": 13,
   "metadata": {},
   "outputs": [],
   "source": [
    "# mainMenu = '//*[@id=\"site-navigation\"]/button'\n",
    "# subMenu = '//*[@id=\"menu-item-382\"]/a'\n",
    "\n",
    "# try:\n",
    "#     # 메인 메뉴가 있을때 메인메뉴 클릭하고 퀴즈 메뉴 선택\n",
    "#     driver.find_element_by_xpath(mainMenu).click()\n",
    "#     driver.find_element_by_xpath(subMenu).click()\n",
    "# except Exception as e:\n",
    "#     # 메인 메뉴 없는 경우 퀴즈 메뉴 바로 선택\n",
    "#     print(\"menu not founded\")\n",
    "#     driver.find_element_by_xpath(subMenu).click()"
   ]
  },
  {
   "cell_type": "markdown",
   "metadata": {},
   "source": [
    "### [실습] [selenium 활용] sparkkorea.com 사이트내 \n",
    "퀴즈 페이지 에서\n",
    "스파크 퀴즈  퀴즈이름 및 링크정보를 스크랩 하세요"
   ]
  },
  {
   "cell_type": "code",
   "execution_count": 14,
   "metadata": {},
   "outputs": [],
   "source": [
    "divScrape = bs.find(name=\"div\",attrs={\"class\":\"class_spark_quiz\"})"
   ]
  },
  {
   "cell_type": "code",
   "execution_count": 15,
   "metadata": {},
   "outputs": [],
   "source": [
    "aTags = divScrape.findAll(name=\"a\")"
   ]
  },
  {
   "cell_type": "code",
   "execution_count": 16,
   "metadata": {},
   "outputs": [],
   "source": [
    "linkList = []\n",
    "titleList = []\n",
    "for i in range(0, len(aTags)):\n",
    "    linkList.append(aTags[i].attrs[\"href\"])\n",
    "    titleList.append(aTags[i].text)"
   ]
  },
  {
   "cell_type": "code",
   "execution_count": 17,
   "metadata": {},
   "outputs": [],
   "source": [
    "import pandas as pd\n",
    "finalResult = pd.DataFrame(zip(titleList, linkList),\n",
    "            columns = [\"spark퀴즈 타이틀\", \"spark퀴즈 링크\"] )"
   ]
  }
 ],
 "metadata": {
  "kernelspec": {
   "display_name": "Python 3",
   "language": "python",
   "name": "python3"
  },
  "language_info": {
   "codemirror_mode": {
    "name": "ipython",
    "version": 3
   },
   "file_extension": ".py",
   "mimetype": "text/x-python",
   "name": "python",
   "nbconvert_exporter": "python",
   "pygments_lexer": "ipython3",
   "version": "3.7.6"
  }
 },
 "nbformat": 4,
 "nbformat_minor": 4
}
