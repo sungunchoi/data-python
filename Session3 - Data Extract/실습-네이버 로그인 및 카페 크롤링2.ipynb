{
 "cells": [
  {
   "cell_type": "markdown",
   "metadata": {},
   "source": [
    "# 실습 - 네이버 로그인 및 카페 크롤링"
   ]
  },
  {
   "cell_type": "markdown",
   "metadata": {},
   "source": [
    "### 1. 네이버 로그인 계정 설정"
   ]
  },
  {
   "cell_type": "code",
   "execution_count": 1,
   "metadata": {},
   "outputs": [],
   "source": [
    "# naverid = \"네이버 로그인 아이디 입력\"\n",
    "# naverpw = \"네이버 로그인 비밀번호 입력\""
   ]
  },
  {
   "cell_type": "markdown",
   "metadata": {},
   "source": [
    "### 2.크롬 브라우저 설정"
   ]
  },
  {
   "cell_type": "code",
   "execution_count": 2,
   "metadata": {},
   "outputs": [],
   "source": [
    "from selenium import webdriver\n",
    "import time\n",
    "from selenium.webdriver.common.keys import Keys"
   ]
  },
  {
   "cell_type": "code",
   "execution_count": 3,
   "metadata": {},
   "outputs": [],
   "source": [
    "dirver_loc = \"d:/chromedriver/chromedriver.exe\"\n",
    "\n",
    "# 크롬 옵션 설정\n",
    "options = webdriver.ChromeOptions()\n",
    "# 헤드리스 설정 시 리눅스 같이 웹화면 없는경우에도 웹페이지 실행가능함\n",
    "#options.add_argument('headless')\n",
    "options.add_argument('window-size=1920x1080')\n",
    "#options.add_argument(\"disable-gpu\")\n",
    "# 웹 드라이버 정의\n",
    "driver = webdriver.Chrome(dirver_loc, options=options)"
   ]
  },
  {
   "cell_type": "markdown",
   "metadata": {},
   "source": [
    "### 3. 네이버 로그인"
   ]
  },
  {
   "cell_type": "markdown",
   "metadata": {},
   "source": [
    "##### 1. 네이버 페이지 이동"
   ]
  },
  {
   "cell_type": "code",
   "execution_count": 4,
   "metadata": {},
   "outputs": [],
   "source": [
    "import pyperclip\n",
    "\n",
    "naver_page= 'https://www.naver.com/'\n",
    "\n",
    "driver.get(naver_page)\n",
    "time.sleep(1)"
   ]
  },
  {
   "cell_type": "code",
   "execution_count": 5,
   "metadata": {},
   "outputs": [],
   "source": [
    "# 로그인 버튼을 찾고 클릭합니다\n",
    "login_btn = driver.find_element_by_xpath('//*[@id=\"account\"]/a')\n",
    "login_btn.click()\n",
    "time.sleep(1)"
   ]
  },
  {
   "cell_type": "code",
   "execution_count": 6,
   "metadata": {},
   "outputs": [],
   "source": [
    "# id, pw 입력할 곳을 찾습니다.\n",
    "tag_id = driver.find_element_by_xpath('//*[@id=\"id\"]')\n",
    "tag_pw = driver.find_element_by_xpath('//*[@id=\"pw\"]')\n",
    "tag_id.clear()\n",
    "time.sleep(1)\n",
    "\n",
    "# id 입력\n",
    "tag_id.click()\n",
    "# 클립보드 생성 복사\n",
    "pyperclip.copy(naverid)\n",
    "tag_id.send_keys(Keys.CONTROL, 'v')\n",
    "time.sleep(2)\n",
    "\n",
    "# pw 입력\n",
    "tag_pw.click()\n",
    "pyperclip.copy(naverpw)\n",
    "tag_pw.send_keys(Keys.CONTROL, 'v')\n",
    "time.sleep(2)\n",
    "\n",
    "# 로그인 버튼을 클릭합니다\n",
    "login_btn = driver.find_element_by_xpath('//*[@id=\"log.login\"]')\n",
    "login_btn.click()\n",
    "time.sleep(2)"
   ]
  },
  {
   "cell_type": "markdown",
   "metadata": {},
   "source": [
    "### 4. 카페 접속"
   ]
  },
  {
   "cell_type": "code",
   "execution_count": 7,
   "metadata": {},
   "outputs": [],
   "source": [
    "keyword = \"비대면\"\n",
    "\n",
    "#카페 접속 및 검색어 크롤링\n",
    "cafe_url = 'https://cafe.naver.com/lovekopo'\n",
    "\n",
    "driver.get(cafe_url)\n",
    "time.sleep(3)"
   ]
  },
  {
   "cell_type": "markdown",
   "metadata": {},
   "source": [
    "### 5. 검색어 타입 및 프레임 전환"
   ]
  },
  {
   "cell_type": "code",
   "execution_count": 8,
   "metadata": {},
   "outputs": [
    {
     "name": "stdout",
     "output_type": "stream",
     "text": [
      "padding\n",
      "padding\n",
      "padding\n",
      "padding\n",
      "\n",
      "cafe_main\n",
      "cafe_check\n",
      "\n",
      "checkFrame\n",
      "\n"
     ]
    }
   ],
   "source": [
    "from selenium.webdriver.common.keys import Keys\n",
    "\n",
    "#driver.get_screenshot_as_file('naver_main_headless.png')\n",
    "\n",
    "# 상단 우측 검색어입력 버튼 \n",
    "search_input=driver.find_element_by_xpath('//*[@id=\"topLayerQueryInput\"]')\n",
    "\n",
    "#데이터 크롤링\n",
    "search_input.send_keys(keyword)\n",
    "search_input.send_keys(Keys.ENTER)\n",
    "\n",
    "# 프레임 살펴보기\n",
    "iframes = driver.find_elements_by_css_selector('iframe')\n",
    "for iframe in iframes:\n",
    "    print(iframe.get_attribute('name'))\n",
    "\n",
    "driver.switch_to_default_content # 상위프레임으로 전환\n",
    "driver.switch_to.frame(\"cafe_main\") # 특정 프레임으로 전환\n",
    "\n"
   ]
  },
  {
   "cell_type": "code",
   "execution_count": 9,
   "metadata": {},
   "outputs": [],
   "source": [
    "time.sleep(2)\n",
    "html = driver.page_source"
   ]
  },
  {
   "cell_type": "markdown",
   "metadata": {},
   "source": [
    "### 6. 페이지 크롤링"
   ]
  },
  {
   "cell_type": "code",
   "execution_count": 10,
   "metadata": {},
   "outputs": [],
   "source": [
    "import bs4\n",
    "import pandas as pd\n",
    "bs = bs4.BeautifulSoup(html, \"html.parser\")"
   ]
  },
  {
   "cell_type": "code",
   "execution_count": 11,
   "metadata": {},
   "outputs": [],
   "source": [
    "boardDiv = bs.find(\"div\",attrs={\"class\":\"article-board result-board m-tcol-c\"})\n",
    "boardTrs = boardDiv.find(name=\"table\").find(name=\"tbody\").findAll(\"tr\")"
   ]
  },
  {
   "cell_type": "code",
   "execution_count": 12,
   "metadata": {},
   "outputs": [
    {
     "data": {
      "text/html": [
       "<div>\n",
       "<style scoped>\n",
       "    .dataframe tbody tr th:only-of-type {\n",
       "        vertical-align: middle;\n",
       "    }\n",
       "\n",
       "    .dataframe tbody tr th {\n",
       "        vertical-align: top;\n",
       "    }\n",
       "\n",
       "    .dataframe thead th {\n",
       "        text-align: right;\n",
       "    }\n",
       "</style>\n",
       "<table border=\"1\" class=\"dataframe\">\n",
       "  <thead>\n",
       "    <tr style=\"text-align: right;\">\n",
       "      <th></th>\n",
       "      <th>0</th>\n",
       "      <th>1</th>\n",
       "      <th>2</th>\n",
       "      <th>3</th>\n",
       "      <th>4</th>\n",
       "    </tr>\n",
       "  </thead>\n",
       "  <tbody>\n",
       "    <tr>\n",
       "      <th>0</th>\n",
       "      <td>68704</td>\n",
       "      <td>[신소재응용] 대면수업 준비 완료</td>\n",
       "      <td>대구캠퍼스</td>\n",
       "      <td>2020.05.01.</td>\n",
       "      <td>220</td>\n",
       "    </tr>\n",
       "    <tr>\n",
       "      <th>1</th>\n",
       "      <td>68693</td>\n",
       "      <td>[컴퓨터응용기계과] 시제품제작실습 비대면 수업 진행 중</td>\n",
       "      <td>교직원 임대섭</td>\n",
       "      <td>2020.04.26.</td>\n",
       "      <td>87</td>\n",
       "    </tr>\n",
       "    <tr>\n",
       "      <th>2</th>\n",
       "      <td>68692</td>\n",
       "      <td>[컴퓨터응용기계과] 비대면 쌍방향 온라인 교육중</td>\n",
       "      <td>교직원 임대섭</td>\n",
       "      <td>2020.04.26.</td>\n",
       "      <td>91</td>\n",
       "    </tr>\n",
       "    <tr>\n",
       "      <th>3</th>\n",
       "      <td>68674</td>\n",
       "      <td>[신소재응용과]사회적 거리 두기에 적극 동참해 주시기 바랍니다.!!!</td>\n",
       "      <td>교직원 오세희</td>\n",
       "      <td>2020.04.20.</td>\n",
       "      <td>50</td>\n",
       "    </tr>\n",
       "    <tr>\n",
       "      <th>4</th>\n",
       "      <td>68661</td>\n",
       "      <td>[그린건축과]\"동행\"을 통해서 배우는 인문학</td>\n",
       "      <td>교직원정동환</td>\n",
       "      <td>2020.04.17.</td>\n",
       "      <td>32</td>\n",
       "    </tr>\n",
       "    <tr>\n",
       "      <th>5</th>\n",
       "      <td>68649</td>\n",
       "      <td>폴리텍대학 전문기술과정,1년과정, 국비과정 훈련수당 궁금하신분 보세요.</td>\n",
       "      <td>교직원 조명아</td>\n",
       "      <td>2020.04.10.</td>\n",
       "      <td>363</td>\n",
       "    </tr>\n",
       "    <tr>\n",
       "      <th>6</th>\n",
       "      <td>68646</td>\n",
       "      <td>[스마트전기과]비대면 수업 과제샘플</td>\n",
       "      <td>교원 김성삼</td>\n",
       "      <td>2020.04.09.</td>\n",
       "      <td>154</td>\n",
       "    </tr>\n",
       "    <tr>\n",
       "      <th>7</th>\n",
       "      <td>68645</td>\n",
       "      <td>[스마트전기과]학과 코로나 19 방역 활동</td>\n",
       "      <td>교원 김성삼</td>\n",
       "      <td>2020.04.09.</td>\n",
       "      <td>103</td>\n",
       "    </tr>\n",
       "    <tr>\n",
       "      <th>8</th>\n",
       "      <td>68610</td>\n",
       "      <td>[그린건축과] 비대면 수업연장과 관련해서.....</td>\n",
       "      <td>교직원정동환</td>\n",
       "      <td>2020.04.01.</td>\n",
       "      <td>231</td>\n",
       "    </tr>\n",
       "    <tr>\n",
       "      <th>9</th>\n",
       "      <td>68604</td>\n",
       "      <td>[컴퓨터응용기계과] 2020학년 기계과 신입생을 위한 학교생활 안내사항</td>\n",
       "      <td>교직원 임대섭</td>\n",
       "      <td>2020.03.31.</td>\n",
       "      <td>90</td>\n",
       "    </tr>\n",
       "    <tr>\n",
       "      <th>10</th>\n",
       "      <td>68584</td>\n",
       "      <td>[글로벌마케팅] 비대면 수업도 열정넘치는 글로벌마케팅</td>\n",
       "      <td>교직원 신현주</td>\n",
       "      <td>2020.03.27.</td>\n",
       "      <td>123</td>\n",
       "    </tr>\n",
       "    <tr>\n",
       "      <th>11</th>\n",
       "      <td>68569</td>\n",
       "      <td>[그린건축과] 비대면 수업1주일 연장과 관련해서</td>\n",
       "      <td>교직원정동환</td>\n",
       "      <td>2020.03.24.</td>\n",
       "      <td>221</td>\n",
       "    </tr>\n",
       "    <tr>\n",
       "      <th>12</th>\n",
       "      <td>68567</td>\n",
       "      <td>[발전설비과]전문기술과정 1주차 비대면 수업 \"직업과 사회\" 동영상 자료입니다.</td>\n",
       "      <td>강릉 20 김도훈</td>\n",
       "      <td>2020.03.24.</td>\n",
       "      <td>86</td>\n",
       "    </tr>\n",
       "    <tr>\n",
       "      <th>13</th>\n",
       "      <td>68557</td>\n",
       "      <td>[일반]폴리텍 교재</td>\n",
       "      <td>일반20 이창헌</td>\n",
       "      <td>2020.03.23.</td>\n",
       "      <td>160</td>\n",
       "    </tr>\n",
       "    <tr>\n",
       "      <th>14</th>\n",
       "      <td>68533</td>\n",
       "      <td>[스마트전기과]비대면 수업 일정</td>\n",
       "      <td>교원 김성삼</td>\n",
       "      <td>2020.03.18.</td>\n",
       "      <td>168</td>\n",
       "    </tr>\n",
       "  </tbody>\n",
       "</table>\n",
       "</div>"
      ],
      "text/plain": [
       "        0                                             1          2  \\\n",
       "0   68704                            [신소재응용] 대면수업 준비 완료      대구캠퍼스   \n",
       "1   68693                [컴퓨터응용기계과] 시제품제작실습 비대면 수업 진행 중    교직원 임대섭   \n",
       "2   68692                    [컴퓨터응용기계과] 비대면 쌍방향 온라인 교육중    교직원 임대섭   \n",
       "3   68674        [신소재응용과]사회적 거리 두기에 적극 동참해 주시기 바랍니다.!!!    교직원 오세희   \n",
       "4   68661                      [그린건축과]\"동행\"을 통해서 배우는 인문학     교직원정동환   \n",
       "5   68649       폴리텍대학 전문기술과정,1년과정, 국비과정 훈련수당 궁금하신분 보세요.    교직원 조명아   \n",
       "6   68646                           [스마트전기과]비대면 수업 과제샘플     교원 김성삼   \n",
       "7   68645                       [스마트전기과]학과 코로나 19 방역 활동     교원 김성삼   \n",
       "8   68610                   [그린건축과] 비대면 수업연장과 관련해서.....     교직원정동환   \n",
       "9   68604       [컴퓨터응용기계과] 2020학년 기계과 신입생을 위한 학교생활 안내사항    교직원 임대섭   \n",
       "10  68584                 [글로벌마케팅] 비대면 수업도 열정넘치는 글로벌마케팅    교직원 신현주   \n",
       "11  68569                    [그린건축과] 비대면 수업1주일 연장과 관련해서     교직원정동환   \n",
       "12  68567  [발전설비과]전문기술과정 1주차 비대면 수업 \"직업과 사회\" 동영상 자료입니다.  강릉 20 김도훈   \n",
       "13  68557                                    [일반]폴리텍 교재   일반20 이창헌   \n",
       "14  68533                             [스마트전기과]비대면 수업 일정     교원 김성삼   \n",
       "\n",
       "              3    4  \n",
       "0   2020.05.01.  220  \n",
       "1   2020.04.26.   87  \n",
       "2   2020.04.26.   91  \n",
       "3   2020.04.20.   50  \n",
       "4   2020.04.17.   32  \n",
       "5   2020.04.10.  363  \n",
       "6   2020.04.09.  154  \n",
       "7   2020.04.09.  103  \n",
       "8   2020.04.01.  231  \n",
       "9   2020.03.31.   90  \n",
       "10  2020.03.27.  123  \n",
       "11  2020.03.24.  221  \n",
       "12  2020.03.24.   86  \n",
       "13  2020.03.23.  160  \n",
       "14  2020.03.18.  168  "
      ]
     },
     "execution_count": 12,
     "metadata": {},
     "output_type": "execute_result"
    }
   ],
   "source": [
    "rowList = []\n",
    "columnList = []\n",
    "for i in range(0, len(boardTrs)):\n",
    "    if i%2!=0:\n",
    "        continue\n",
    "    rowNumber = boardTrs[i].find(name=\"div\").find(\"div\").text\n",
    "    columnList.append(rowNumber)\n",
    "    title = boardTrs[i].find(name=\"a\").text.replace(\"\\n\",\"\").replace(\"  \",\"\")\n",
    "    columnList.append(title)\n",
    "    tds = boardTrs[i].findAll(\"td\")\n",
    "    for j in range(0, len(tds)):\n",
    "        if (j==0) | (j==1):\n",
    "            continue\n",
    "        columnList.append(tds[j].text.replace(\"  \",\" \").replace(\"\\n\",\"\"))\n",
    "    rowList.append(columnList)\n",
    "    columnList = []\n",
    "\n",
    "pd.DataFrame(rowList)"
   ]
  }
 ],
 "metadata": {
  "kernelspec": {
   "display_name": "Python 3",
   "language": "python",
   "name": "python3"
  },
  "language_info": {
   "codemirror_mode": {
    "name": "ipython",
    "version": 3
   },
   "file_extension": ".py",
   "mimetype": "text/x-python",
   "name": "python",
   "nbconvert_exporter": "python",
   "pygments_lexer": "ipython3",
   "version": "3.7.6"
  }
 },
 "nbformat": 4,
 "nbformat_minor": 4
}
