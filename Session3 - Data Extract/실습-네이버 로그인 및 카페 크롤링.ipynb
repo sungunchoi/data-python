{
 "cells": [
  {
   "cell_type": "markdown",
   "metadata": {},
   "source": [
    "# 실습 - 네이버 로그인 및 카페 크롤링"
   ]
  },
  {
   "cell_type": "markdown",
   "metadata": {},
   "source": [
    "### 1. 로그인 계정 설정"
   ]
  },
  {
   "cell_type": "code",
   "execution_count": 8,
   "metadata": {},
   "outputs": [],
   "source": [
    "# naverid = \"네이버 로그인 아이디 입력\"\n",
    "# naverpw = \"네이버 로그인 비밀번호 입력\""
   ]
  },
  {
   "cell_type": "markdown",
   "metadata": {},
   "source": [
    "### 2.크롬 브라우저 설정"
   ]
  },
  {
   "cell_type": "code",
   "execution_count": 2,
   "metadata": {},
   "outputs": [],
   "source": [
    "from selenium import webdriver\n",
    "import time\n",
    "from selenium.webdriver.common.keys import Keys"
   ]
  },
  {
   "cell_type": "code",
   "execution_count": 3,
   "metadata": {},
   "outputs": [],
   "source": [
    "dirver_loc = \"d:/chromedriver/chromedriver.exe\"\n",
    "\n",
    "# 크롬 옵션 설정\n",
    "options = webdriver.ChromeOptions()\n",
    "# 헤드리스 설정 시 리눅스 같이 웹화면 없는경우에도 웹페이지 실행가능함\n",
    "#options.add_argument('headless')\n",
    "options.add_argument('window-size=1920x1080')\n",
    "#options.add_argument(\"disable-gpu\")\n",
    "# 웹 드라이버 정의\n",
    "driver = webdriver.Chrome(dirver_loc, options=options)"
   ]
  },
  {
   "cell_type": "markdown",
   "metadata": {},
   "source": [
    "### 3. 네이버 로그인"
   ]
  },
  {
   "cell_type": "markdown",
   "metadata": {},
   "source": [
    "##### 1. 네이버 페이지 이동"
   ]
  },
  {
   "cell_type": "code",
   "execution_count": 4,
   "metadata": {},
   "outputs": [],
   "source": [
    "import pyperclip\n",
    "\n",
    "naver_page= 'https://www.naver.com/'\n",
    "\n",
    "driver.get(naver_page)\n",
    "time.sleep(2)\n",
    "\n",
    "# 로그인 버튼을 찾고 클릭합니다\n",
    "loginBtn = '//*[@id=\"account\"]/a'\n",
    "login_btn = driver.find_element_by_xpath(loginBtn)\n",
    "login_btn.click()\n",
    "time.sleep(2)\n",
    "\n",
    "# id, pw 입력할 곳을 찾습니다.\n",
    "idTextBox = '//*[@id=\"id\"]'\n",
    "pwTextBox = '//*[@id=\"pw\"]'\n",
    "tag_id = driver.find_element_by_xpath(idTextBox)\n",
    "tag_pw = driver.find_element_by_xpath(pwTextBox)\n",
    "tag_id.clear()\n",
    "time.sleep(1)\n",
    "\n",
    "# id 입력\n",
    "tag_id.click()\n",
    "# 클립보드 생성 복사\n",
    "pyperclip.copy(naverid)\n",
    "tag_id.send_keys(Keys.CONTROL, 'v')\n",
    "time.sleep(1)\n",
    "\n",
    "# pw 입력\n",
    "tag_pw.click()\n",
    "pyperclip.copy(naverpw)\n",
    "tag_pw.send_keys(Keys.CONTROL, 'v')\n",
    "time.sleep(1)\n",
    "\n",
    "# 로그인 버튼을 클릭합니다\n",
    "loginBtn = '//*[@id=\"log.login\"]'\n",
    "login_btn = driver.find_element_by_xpath(loginBtn)\n",
    "login_btn.click()"
   ]
  },
  {
   "cell_type": "markdown",
   "metadata": {},
   "source": [
    "### 4. 카페 접속"
   ]
  },
  {
   "cell_type": "code",
   "execution_count": 5,
   "metadata": {},
   "outputs": [],
   "source": [
    "time.sleep(2)\n",
    "keyword = \"오류\"\n",
    "\n",
    "#카페 접속 및 검색어 크롤링\n",
    "cafe_url = 'https://cafe.naver.com/playbattlegrounds'\n",
    "#키워드 등록\n",
    "keyword_list = [\n",
    "    '오류'\n",
    "]\n",
    "driver.get(cafe_url)\n",
    "time.sleep(2)"
   ]
  },
  {
   "cell_type": "markdown",
   "metadata": {},
   "source": [
    "### 5. 검색어 타입 및 프레임 전환"
   ]
  },
  {
   "cell_type": "code",
   "execution_count": 6,
   "metadata": {},
   "outputs": [
    {
     "name": "stdout",
     "output_type": "stream",
     "text": [
      "\n",
      "\n",
      "padding\n",
      "padding\n",
      "padding\n",
      "padding\n",
      "\n",
      "cafe_main\n",
      "cafe_check\n",
      "\n",
      "checkFrame\n",
      "\n"
     ]
    }
   ],
   "source": [
    "from selenium.webdriver.common.keys import Keys\n",
    "\n",
    "#driver.get_screenshot_as_file('naver_main_headless.png')\n",
    "\n",
    "# 상단 우측 검색어입력 버튼 \n",
    "search_input=driver.find_element_by_xpath('//*[@id=\"topLayerQueryInput\"]')\n",
    "\n",
    "#데이터 크롤링\n",
    "search_input.send_keys(keyword)\n",
    "search_input.send_keys(Keys.ENTER)\n",
    "\n",
    "# 프레임 살펴보기\n",
    "iframes = driver.find_elements_by_css_selector('iframe')\n",
    "for iframe in iframes:\n",
    "    print(iframe.get_attribute('name'))\n",
    "\n",
    "driver.switch_to_default_content # 상위프레임으로 전환\n",
    "driver.switch_to.frame(\"cafe_main\") # 특정 프레임으로 전환\n",
    "\n",
    "time.sleep(0.5)\n",
    "html = driver.page_source"
   ]
  },
  {
   "cell_type": "markdown",
   "metadata": {},
   "source": [
    "### 6. 페이지 크롤링"
   ]
  },
  {
   "cell_type": "code",
   "execution_count": 7,
   "metadata": {},
   "outputs": [
    {
     "data": {
      "text/html": [
       "<div>\n",
       "<style scoped>\n",
       "    .dataframe tbody tr th:only-of-type {\n",
       "        vertical-align: middle;\n",
       "    }\n",
       "\n",
       "    .dataframe tbody tr th {\n",
       "        vertical-align: top;\n",
       "    }\n",
       "\n",
       "    .dataframe thead th {\n",
       "        text-align: right;\n",
       "    }\n",
       "</style>\n",
       "<table border=\"1\" class=\"dataframe\">\n",
       "  <thead>\n",
       "    <tr style=\"text-align: right;\">\n",
       "      <th></th>\n",
       "      <th>번호</th>\n",
       "      <th>제목</th>\n",
       "      <th>작성자</th>\n",
       "      <th>시간</th>\n",
       "      <th>조회수</th>\n",
       "    </tr>\n",
       "  </thead>\n",
       "  <tbody>\n",
       "    <tr>\n",
       "      <th>0</th>\n",
       "      <td>4598623</td>\n",
       "      <td>핵신고</td>\n",
       "      <td>qkfxkssmre</td>\n",
       "      <td>20:07</td>\n",
       "      <td>8</td>\n",
       "    </tr>\n",
       "    <tr>\n",
       "      <th>1</th>\n",
       "      <td>4598579</td>\n",
       "      <td>[스팀]🐣신생클 YTS에서 가족을 찾아요🐣</td>\n",
       "      <td>YTS Zero</td>\n",
       "      <td>19:51</td>\n",
       "      <td>5</td>\n",
       "    </tr>\n",
       "    <tr>\n",
       "      <th>2</th>\n",
       "      <td>4598412</td>\n",
       "      <td>[신생클] 🤗가입이 이렇게 간편하다고!?🤗</td>\n",
       "      <td>YTS Zero</td>\n",
       "      <td>18:43</td>\n",
       "      <td>9</td>\n",
       "    </tr>\n",
       "    <tr>\n",
       "      <th>3</th>\n",
       "      <td>4598401</td>\n",
       "      <td>핵신고</td>\n",
       "      <td>핵쟁이꺼저</td>\n",
       "      <td>18:31</td>\n",
       "      <td>23</td>\n",
       "    </tr>\n",
       "    <tr>\n",
       "      <th>4</th>\n",
       "      <td>4598344</td>\n",
       "      <td>배틀아이 오류(?)</td>\n",
       "      <td>Luan2006</td>\n",
       "      <td>17:55</td>\n",
       "      <td>56</td>\n",
       "    </tr>\n",
       "    <tr>\n",
       "      <th>5</th>\n",
       "      <td>4598251</td>\n",
       "      <td>😊신생클 YTS CLAN 에서 클랜원을 모집해요😊</td>\n",
       "      <td>YTS Zero</td>\n",
       "      <td>17:07</td>\n",
       "      <td>11</td>\n",
       "    </tr>\n",
       "    <tr>\n",
       "      <th>6</th>\n",
       "      <td>4598189</td>\n",
       "      <td>핵신고</td>\n",
       "      <td>핵쟁이꺼저</td>\n",
       "      <td>16:39</td>\n",
       "      <td>17</td>\n",
       "    </tr>\n",
       "    <tr>\n",
       "      <th>7</th>\n",
       "      <td>4598106</td>\n",
       "      <td>핵몇명</td>\n",
       "      <td>테닉</td>\n",
       "      <td>16:01</td>\n",
       "      <td>15</td>\n",
       "    </tr>\n",
       "    <tr>\n",
       "      <th>8</th>\n",
       "      <td>4597778</td>\n",
       "      <td>스팀 핵 제보</td>\n",
       "      <td>pendol13</td>\n",
       "      <td>12:58</td>\n",
       "      <td>25</td>\n",
       "    </tr>\n",
       "    <tr>\n",
       "      <th>9</th>\n",
       "      <td>4597509</td>\n",
       "      <td>🐥신생클 YTS 가입이 이렇게 간단해도 되는 거야..?🐥</td>\n",
       "      <td>YTS Zero</td>\n",
       "      <td>08:52</td>\n",
       "      <td>12</td>\n",
       "    </tr>\n",
       "    <tr>\n",
       "      <th>10</th>\n",
       "      <td>4597482</td>\n",
       "      <td>1인칭으로 플레이하는 핵쟁이 박제</td>\n",
       "      <td>탄고</td>\n",
       "      <td>07:56</td>\n",
       "      <td>93</td>\n",
       "    </tr>\n",
       "    <tr>\n",
       "      <th>11</th>\n",
       "      <td>4597464</td>\n",
       "      <td>[불법이용의심]악질핵쟁이</td>\n",
       "      <td>너로정했다</td>\n",
       "      <td>06:43</td>\n",
       "      <td>108</td>\n",
       "    </tr>\n",
       "    <tr>\n",
       "      <th>12</th>\n",
       "      <td>4597459</td>\n",
       "      <td>핵신고</td>\n",
       "      <td>핵쟁이꺼저</td>\n",
       "      <td>06:06</td>\n",
       "      <td>41</td>\n",
       "    </tr>\n",
       "    <tr>\n",
       "      <th>13</th>\n",
       "      <td>4597445</td>\n",
       "      <td>핵신고</td>\n",
       "      <td>핵쟁이꺼저</td>\n",
       "      <td>05:35</td>\n",
       "      <td>33</td>\n",
       "    </tr>\n",
       "    <tr>\n",
       "      <th>14</th>\n",
       "      <td>4597440</td>\n",
       "      <td>예? 이새기가 핵이 아니라구요? 24시간 정지 말이됩니까?</td>\n",
       "      <td>탄고</td>\n",
       "      <td>05:18</td>\n",
       "      <td>146</td>\n",
       "    </tr>\n",
       "  </tbody>\n",
       "</table>\n",
       "</div>"
      ],
      "text/plain": [
       "         번호                                제목         작성자     시간  조회수\n",
       "0   4598623                               핵신고  qkfxkssmre  20:07    8\n",
       "1   4598579           [스팀]🐣신생클 YTS에서 가족을 찾아요🐣    YTS Zero  19:51    5\n",
       "2   4598412           [신생클] 🤗가입이 이렇게 간편하다고!?🤗    YTS Zero  18:43    9\n",
       "3   4598401                               핵신고       핵쟁이꺼저  18:31   23\n",
       "4   4598344                        배틀아이 오류(?)    Luan2006  17:55   56\n",
       "5   4598251       😊신생클 YTS CLAN 에서 클랜원을 모집해요😊    YTS Zero  17:07   11\n",
       "6   4598189                               핵신고       핵쟁이꺼저  16:39   17\n",
       "7   4598106                               핵몇명          테닉  16:01   15\n",
       "8   4597778                           스팀 핵 제보    pendol13  12:58   25\n",
       "9   4597509   🐥신생클 YTS 가입이 이렇게 간단해도 되는 거야..?🐥    YTS Zero  08:52   12\n",
       "10  4597482                1인칭으로 플레이하는 핵쟁이 박제          탄고  07:56   93\n",
       "11  4597464                     [불법이용의심]악질핵쟁이       너로정했다  06:43  108\n",
       "12  4597459                               핵신고       핵쟁이꺼저  06:06   41\n",
       "13  4597445                               핵신고       핵쟁이꺼저  05:35   33\n",
       "14  4597440  예? 이새기가 핵이 아니라구요? 24시간 정지 말이됩니까?          탄고  05:18  146"
      ]
     },
     "execution_count": 7,
     "metadata": {},
     "output_type": "execute_result"
    }
   ],
   "source": [
    "import bs4\n",
    "import pandas as pd\n",
    "bs = bs4.BeautifulSoup(html, \"html.parser\")\n",
    "\n",
    "boardDiv = bs.find(\"div\",attrs={\"class\":\"article-board result-board m-tcol-c\"})\n",
    "boardTrs = boardDiv.find(name=\"table\").find(name=\"tbody\").findAll(\"tr\")\n",
    "\n",
    "rowList = []\n",
    "columnList = []\n",
    "for i in range(0, len(boardTrs)):\n",
    "    if i%2!=0:\n",
    "        continue\n",
    "    rowNumber = boardTrs[i].find(name=\"div\").find(\"div\").text\n",
    "    columnList.append(rowNumber)\n",
    "    title = boardTrs[i].find(name=\"a\").text.replace(\"\\n\",\"\").replace(\"  \",\"\")\n",
    "    columnList.append(title)\n",
    "    tds = boardTrs[i].findAll(\"td\")\n",
    "    for j in range(0, len(tds)):\n",
    "        if (j==0) | (j==1):\n",
    "            continue\n",
    "        columnList.append(tds[j].text.replace(\"  \",\" \").replace(\"\\n\",\"\"))\n",
    "    rowList.append(columnList)\n",
    "    columnList = []\n",
    "\n",
    "pd.DataFrame(rowList, columns=[\"번호\",\"제목\",\"작성자\",\"시간\",\"조회수\"])"
   ]
  }
 ],
 "metadata": {
  "kernelspec": {
   "display_name": "Python 3",
   "language": "python",
   "name": "python3"
  },
  "language_info": {
   "codemirror_mode": {
    "name": "ipython",
    "version": 3
   },
   "file_extension": ".py",
   "mimetype": "text/x-python",
   "name": "python",
   "nbconvert_exporter": "python",
   "pygments_lexer": "ipython3",
   "version": "3.7.6"
  }
 },
 "nbformat": 4,
 "nbformat_minor": 4
}
