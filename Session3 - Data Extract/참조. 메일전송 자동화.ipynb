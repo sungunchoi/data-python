{
 "cells": [
  {
   "cell_type": "markdown",
   "metadata": {},
   "source": [
    "# 참조. 메일전송 자동화"
   ]
  },
  {
   "cell_type": "markdown",
   "metadata": {},
   "source": [
    "[필수] 사전준비 GMAIL 앱 비밀번호 생성"
   ]
  },
  {
   "cell_type": "markdown",
   "metadata": {},
   "source": [
    "### 1. 메일 전송 라이브러리 선언"
   ]
  },
  {
   "cell_type": "code",
   "execution_count": 9,
   "metadata": {},
   "outputs": [],
   "source": [
    "# SMTP 프로토콜 로드\n",
    "import smtplib\n",
    "\n",
    "# 이메일을 간단하게 보낼수 있는 라이브러리 로드\n",
    "from email.message import EmailMessage\n",
    "\n",
    "# import pickle\n",
    "# pw = \"password\"    \n",
    "# pickle.dump(pw, open(\"pw.pickle\", 'wb'))\n",
    "# pw = pickle.load(open('pw.pickle', 'rb'))\n",
    "\n",
    "# GMAIL 메일 설정\n",
    "smtp_gmail = smtplib.SMTP('smtp.gmail.com', 587)\n",
    "\n",
    "# 서버 연결을 설정하는 단계\n",
    "smtp_gmail.ehlo()\n",
    " \n",
    "# 연결을 암호화\n",
    "smtp_gmail.starttls()\n",
    " \n",
    "\n",
    "userid = \"haiteamm@gmail.com\"\n",
    "\n",
    "import getpass\n",
    "\n",
    "mypass = getpass.getpass()\n",
    "\n",
    "userpw = mypass\n",
    "\n",
    "#로그인 아이디 / 앱 비밀번호\n",
    "# userid = \"xxxxxxxx\"\n",
    "# userpw = \"xxxxxxxxxxxxxxxx\"\n",
    "smtp_gmail.login(userid, userpw)\n",
    "\n",
    "### 3. 수신자 목록 정의 및 불러오기\n",
    "\n",
    "import pandas as pd\n",
    "emailList =pd.read_csv(\"./emailaddress.csv\")\n",
    "\n",
    "emailList.이메일주소.tolist()\n",
    "\n",
    "# 저장된 csv 파일 불러오기\n",
    "# emaillist = pd.read_csv(\"./emailaddress.csv\", encoding='ms949')\n",
    "# emaillist\n",
    "# 이메일 주소정보 리스트 변환\n",
    "# to = emaillist['이메일'].tolist()\n",
    "# to\n",
    "\n",
    "to = [\"haiteam@kopo.ac.kr\", \"haiteam@naver.com\"]\n",
    "\n",
    "### 4. 메일전송\n",
    "\n",
    "msg=EmailMessage()\n",
    "\n",
    "# 제목 입력\n",
    "msg['Subject']=\"퀴즈 정보\"\n",
    " \n",
    "# 내용 입력\n",
    "msg.set_content(\"퀴즈정보\")\n",
    " \n",
    "# 보내는 사람\n",
    "msg['From']='haiteamm@gmail.com'\n",
    " \n",
    "# 받는 사람\n",
    "msg['To'] = \",\".join(to)\n",
    "\n",
    "\",\".join(to)\n",
    "\n",
    "# 첨부파일 추가\n",
    "# file='0318_오후2.png'\n",
    "# fp = open(file,'rb')\n",
    "# file_data=fp.read()\n",
    "# msg.add_attachment(file_data,\n",
    "#                    maintype='text',\n",
    "#                    subtype='plain',\n",
    "#                    filename=file)\n",
    "file='emailaddress.csv'\n",
    "fp = open(file,'rb')\n",
    "file_data=fp.read()\n",
    "\n",
    "msg.add_attachment(file_data,\n",
    "                   maintype='text',\n",
    "                   subtype='plain',\n",
    "                   filename=file)\n",
    "# 메일 전송\n",
    "smtp_gmail.send_message(msg)\n",
    "smtp_gmail.close()"
   ]
  },
  {
   "cell_type": "markdown",
   "metadata": {},
   "source": [
    "# 참조. 프로젝트 실습"
   ]
  },
  {
   "cell_type": "code",
   "execution_count": 116,
   "metadata": {},
   "outputs": [],
   "source": [
    "# from selenium import webdriver\n",
    "# from bs4 import BeautifulSoup\n",
    "# import os\n",
    "# from os.path import join, dirname\n",
    "\n",
    "# if os.name == 'nt':\n",
    "#     os_name = 'nt'\n",
    "# elif os.name == 'mac':\n",
    "#     os_name = 'mac'\n",
    "# else:\n",
    "#     os_name = 'linux'\n",
    "\n",
    "# if os_name == 'nt':\n",
    "#     dirver_loc = \"d:/chromedriver/chromedriver.exe\"\n",
    "# else:\n",
    "#     dirver_loc = \"/home/download/chromedriver/chromedriver.exe\""
   ]
  },
  {
   "cell_type": "markdown",
   "metadata": {},
   "source": [
    "### 2.크롬 브라우저 설정"
   ]
  },
  {
   "cell_type": "code",
   "execution_count": 117,
   "metadata": {},
   "outputs": [],
   "source": [
    "from selenium import webdriver\n",
    "import time\n",
    "from selenium.webdriver.common.keys import Keys"
   ]
  },
  {
   "cell_type": "code",
   "execution_count": 118,
   "metadata": {},
   "outputs": [],
   "source": [
    "dirver_loc = \"d:/chromedriver/chromedriver.exe\"\n",
    "\n",
    "# 크롬 옵션 설정\n",
    "options = webdriver.ChromeOptions()\n",
    "# 헤드리스 설정 시 리눅스 같이 웹화면 없는경우에도 웹페이지 실행가능함\n",
    "#options.add_argument('headless')\n",
    "options.add_argument('window-size=1920x1080')\n",
    "#options.add_argument(\"disable-gpu\")\n",
    "# 웹 드라이버 정의\n",
    "driver = webdriver.Chrome(dirver_loc, options=options)"
   ]
  },
  {
   "cell_type": "markdown",
   "metadata": {},
   "source": [
    "### 3. 네이버 로그인"
   ]
  },
  {
   "cell_type": "markdown",
   "metadata": {},
   "source": [
    "##### 1. 네이버 페이지 이동"
   ]
  },
  {
   "cell_type": "code",
   "execution_count": 119,
   "metadata": {},
   "outputs": [],
   "source": [
    "import pyperclip\n",
    "\n",
    "naver_page= 'https://www.naver.com/'\n",
    "\n",
    "driver.get(naver_page)\n",
    "time.sleep(1)"
   ]
  },
  {
   "cell_type": "code",
   "execution_count": 120,
   "metadata": {},
   "outputs": [],
   "source": [
    "# 로그인 버튼을 찾고 클릭합니다\n",
    "loginBtn = '//*[@id=\"account\"]/div/a/i'\n",
    "login_btn = driver.\\\n",
    "    find_element_by_xpath(loginBtn)\n",
    "login_btn.click()\n",
    "time.sleep(1)"
   ]
  },
  {
   "cell_type": "code",
   "execution_count": 121,
   "metadata": {},
   "outputs": [],
   "source": [
    "# id, pw 입력할 곳을 찾습니다.\n",
    "idTextBox = '//*[@id=\"id\"]'\n",
    "pwTextBox = '//*[@id=\"pw\"]'\n",
    "tag_id = driver.find_element_by_xpath(idTextBox)\n",
    "tag_pw = driver.find_element_by_xpath(pwTextBox)\n",
    "tag_id.clear()\n",
    "time.sleep(1)\n",
    "\n",
    "# id 입력\n",
    "tag_id.click()\n",
    "# 클립보드 생성 복사\n",
    "pyperclip.copy('haiteam')\n",
    "tag_id.send_keys(Keys.CONTROL, 'v')\n",
    "time.sleep(1)\n",
    "\n",
    "# pw 입력\n",
    "tag_pw.click()\n",
    "pyperclip.copy('rlagyrhks1103')\n",
    "tag_pw.send_keys(Keys.CONTROL, 'v')\n",
    "time.sleep(1)\n",
    "\n",
    "# 로그인 버튼을 클릭합니다\n",
    "loginBtn = '//*[@id=\"log.login\"]'\n",
    "login_btn = driver.find_element_by_xpath(loginBtn)\n",
    "login_btn.click()"
   ]
  },
  {
   "cell_type": "markdown",
   "metadata": {},
   "source": [
    "### 4. 카페 접속"
   ]
  },
  {
   "cell_type": "code",
   "execution_count": 122,
   "metadata": {},
   "outputs": [],
   "source": [
    "keyword = \"오류\"\n",
    "\n",
    "#카페 접속 및 검색어 크롤링\n",
    "cafe_url = 'https://cafe.naver.com/playbattlegrounds'\n",
    "#키워드 등록\n",
    "keyword_list = [\n",
    "    '오류'\n",
    "]\n",
    "driver.get(cafe_url)\n",
    "time.sleep(0.5)"
   ]
  },
  {
   "cell_type": "markdown",
   "metadata": {},
   "source": [
    "### 5. 검색어 타입 및 프레임 전환"
   ]
  },
  {
   "cell_type": "code",
   "execution_count": 123,
   "metadata": {},
   "outputs": [
    {
     "name": "stdout",
     "output_type": "stream",
     "text": [
      "\n",
      "\n",
      "padding\n",
      "padding\n",
      "padding\n",
      "padding\n",
      "\n",
      "cafe_main\n",
      "cafe_check\n",
      "\n",
      "checkFrame\n",
      "\n"
     ]
    }
   ],
   "source": [
    "from selenium.webdriver.common.keys import Keys\n",
    "\n",
    "#driver.get_screenshot_as_file('naver_main_headless.png')\n",
    "\n",
    "# 상단 우측 검색어입력 버튼 \n",
    "search_input=driver.find_element_by_xpath('//*[@id=\"topLayerQueryInput\"]')\n",
    "\n",
    "#데이터 크롤링\n",
    "search_input.send_keys(keyword)\n",
    "search_input.send_keys(Keys.ENTER)\n",
    "\n",
    "# 프레임 살펴보기\n",
    "iframes = driver.find_elements_by_css_selector('iframe')\n",
    "for iframe in iframes:\n",
    "    print(iframe.get_attribute('name'))\n",
    "\n",
    "driver.switch_to_default_content # 상위프레임으로 전환\n",
    "driver.switch_to.frame(\"cafe_main\") # 특정 프레임으로 전환\n",
    "\n",
    "time.sleep(0.5)\n",
    "html = driver.page_source"
   ]
  },
  {
   "cell_type": "markdown",
   "metadata": {},
   "source": [
    "### 6. 페이지 크롤링"
   ]
  },
  {
   "cell_type": "code",
   "execution_count": 125,
   "metadata": {},
   "outputs": [
    {
     "data": {
      "text/html": [
       "<div>\n",
       "<style scoped>\n",
       "    .dataframe tbody tr th:only-of-type {\n",
       "        vertical-align: middle;\n",
       "    }\n",
       "\n",
       "    .dataframe tbody tr th {\n",
       "        vertical-align: top;\n",
       "    }\n",
       "\n",
       "    .dataframe thead th {\n",
       "        text-align: right;\n",
       "    }\n",
       "</style>\n",
       "<table border=\"1\" class=\"dataframe\">\n",
       "  <thead>\n",
       "    <tr style=\"text-align: right;\">\n",
       "      <th></th>\n",
       "      <th>번호</th>\n",
       "      <th>제목</th>\n",
       "      <th>작성자</th>\n",
       "      <th>시간</th>\n",
       "      <th>조회수</th>\n",
       "    </tr>\n",
       "  </thead>\n",
       "  <tbody>\n",
       "    <tr>\n",
       "      <th>0</th>\n",
       "      <td>4570206</td>\n",
       "      <td>[개발일지] 2020년 안티치트 &amp; 퍼포먼스 개선 방향</td>\n",
       "      <td>PUBG프라이팬</td>\n",
       "      <td>16:08</td>\n",
       "      <td>776</td>\n",
       "    </tr>\n",
       "    <tr>\n",
       "      <th>1</th>\n",
       "      <td>4570141</td>\n",
       "      <td>HJ-PIG 카배벌레핵쟁이</td>\n",
       "      <td>치킨냠냠ㅎㅎ</td>\n",
       "      <td>15:31</td>\n",
       "      <td>13</td>\n",
       "    </tr>\n",
       "    <tr>\n",
       "      <th>2</th>\n",
       "      <td>4569962</td>\n",
       "      <td>code 엔 함께하는 즐거움이 있습니다^^</td>\n",
       "      <td>헤비</td>\n",
       "      <td>13:52</td>\n",
       "      <td>5</td>\n",
       "    </tr>\n",
       "    <tr>\n",
       "      <th>3</th>\n",
       "      <td>4569747</td>\n",
       "      <td>[불법이용의심]제 계정이 해킹당해서 영구정지 먹었습니다</td>\n",
       "      <td>헤이맨2829</td>\n",
       "      <td>11:13</td>\n",
       "      <td>65</td>\n",
       "    </tr>\n",
       "    <tr>\n",
       "      <th>4</th>\n",
       "      <td>4569623</td>\n",
       "      <td>보이스 오류 고쳐주쇼 운영자</td>\n",
       "      <td>배그미래는좆망</td>\n",
       "      <td>09:39</td>\n",
       "      <td>56</td>\n",
       "    </tr>\n",
       "    <tr>\n",
       "      <th>5</th>\n",
       "      <td>4569503</td>\n",
       "      <td>배그함께하면 재미져요^^</td>\n",
       "      <td>헤비</td>\n",
       "      <td>07:15</td>\n",
       "      <td>20</td>\n",
       "    </tr>\n",
       "    <tr>\n",
       "      <th>6</th>\n",
       "      <td>4569497</td>\n",
       "      <td>스쿼드 핵신고</td>\n",
       "      <td>모르3</td>\n",
       "      <td>06:53</td>\n",
       "      <td>40</td>\n",
       "    </tr>\n",
       "    <tr>\n",
       "      <th>7</th>\n",
       "      <td>4569075</td>\n",
       "      <td>이번 7.1 패치 test server에서 오류사항</td>\n",
       "      <td>People1</td>\n",
       "      <td>2020.04.20.</td>\n",
       "      <td>56</td>\n",
       "    </tr>\n",
       "    <tr>\n",
       "      <th>8</th>\n",
       "      <td>4569056</td>\n",
       "      <td>핵신고</td>\n",
       "      <td>핵쟁이꺼저</td>\n",
       "      <td>2020.04.20.</td>\n",
       "      <td>50</td>\n",
       "    </tr>\n",
       "    <tr>\n",
       "      <th>9</th>\n",
       "      <td>4569048</td>\n",
       "      <td>솔찍히 여기만한곳이 있나?</td>\n",
       "      <td>zin88</td>\n",
       "      <td>2020.04.20.</td>\n",
       "      <td>37</td>\n",
       "    </tr>\n",
       "    <tr>\n",
       "      <th>10</th>\n",
       "      <td>4569037</td>\n",
       "      <td>핵신고</td>\n",
       "      <td>힘든하로</td>\n",
       "      <td>2020.04.20.</td>\n",
       "      <td>19</td>\n",
       "    </tr>\n",
       "    <tr>\n",
       "      <th>11</th>\n",
       "      <td>4569021</td>\n",
       "      <td>[불법이용의심]후 핵스쿼드 언제 정지되나요</td>\n",
       "      <td>배그잘하고싶다ㅜ</td>\n",
       "      <td>2020.04.20.</td>\n",
       "      <td>36</td>\n",
       "    </tr>\n",
       "    <tr>\n",
       "      <th>12</th>\n",
       "      <td>4569011</td>\n",
       "      <td>배그놀이터 ! 누나랑놀자!</td>\n",
       "      <td>zin88</td>\n",
       "      <td>2020.04.20.</td>\n",
       "      <td>16</td>\n",
       "    </tr>\n",
       "    <tr>\n",
       "      <th>13</th>\n",
       "      <td>4569002</td>\n",
       "      <td>[불법이용의심]핵신고 배린인디 에임이 아주 ㄷㄷ</td>\n",
       "      <td>배그잘하고싶다ㅜ</td>\n",
       "      <td>2020.04.20.</td>\n",
       "      <td>47</td>\n",
       "    </tr>\n",
       "    <tr>\n",
       "      <th>14</th>\n",
       "      <td>4568979</td>\n",
       "      <td>[스팀전문] 롤이면 롤! 메이플이면 메이플! 배그면 배그! 203040</td>\n",
       "      <td>zin88</td>\n",
       "      <td>2020.04.20.</td>\n",
       "      <td>5</td>\n",
       "    </tr>\n",
       "  </tbody>\n",
       "</table>\n",
       "</div>"
      ],
      "text/plain": [
       "         번호                                       제목       작성자           시간  \\\n",
       "0   4570206           [개발일지] 2020년 안티치트 & 퍼포먼스 개선 방향  PUBG프라이팬        16:08   \n",
       "1   4570141                           HJ-PIG 카배벌레핵쟁이    치킨냠냠ㅎㅎ        15:31   \n",
       "2   4569962                  code 엔 함께하는 즐거움이 있습니다^^        헤비        13:52   \n",
       "3   4569747           [불법이용의심]제 계정이 해킹당해서 영구정지 먹었습니다   헤이맨2829        11:13   \n",
       "4   4569623                          보이스 오류 고쳐주쇼 운영자   배그미래는좆망        09:39   \n",
       "5   4569503                            배그함께하면 재미져요^^        헤비        07:15   \n",
       "6   4569497                                  스쿼드 핵신고       모르3        06:53   \n",
       "7   4569075             이번 7.1 패치 test server에서 오류사항   People1  2020.04.20.   \n",
       "8   4569056                                      핵신고     핵쟁이꺼저  2020.04.20.   \n",
       "9   4569048                           솔찍히 여기만한곳이 있나?     zin88  2020.04.20.   \n",
       "10  4569037                                      핵신고      힘든하로  2020.04.20.   \n",
       "11  4569021                  [불법이용의심]후 핵스쿼드 언제 정지되나요  배그잘하고싶다ㅜ  2020.04.20.   \n",
       "12  4569011                           배그놀이터 ! 누나랑놀자!     zin88  2020.04.20.   \n",
       "13  4569002               [불법이용의심]핵신고 배린인디 에임이 아주 ㄷㄷ  배그잘하고싶다ㅜ  2020.04.20.   \n",
       "14  4568979  [스팀전문] 롤이면 롤! 메이플이면 메이플! 배그면 배그! 203040     zin88  2020.04.20.   \n",
       "\n",
       "    조회수  \n",
       "0   776  \n",
       "1    13  \n",
       "2     5  \n",
       "3    65  \n",
       "4    56  \n",
       "5    20  \n",
       "6    40  \n",
       "7    56  \n",
       "8    50  \n",
       "9    37  \n",
       "10   19  \n",
       "11   36  \n",
       "12   16  \n",
       "13   47  \n",
       "14    5  "
      ]
     },
     "execution_count": 125,
     "metadata": {},
     "output_type": "execute_result"
    }
   ],
   "source": [
    "import bs4\n",
    "import pandas as pd\n",
    "bs = bs4.BeautifulSoup(html, \"html.parser\")\n",
    "\n",
    "boardDiv = bs.find(\"div\",attrs={\"class\":\"article-board result-board m-tcol-c\"})\n",
    "boardTrs = boardDiv.find(name=\"table\").find(name=\"tbody\").findAll(\"tr\")\n",
    "\n",
    "rowList = []\n",
    "columnList = []\n",
    "for i in range(0, len(boardTrs)):\n",
    "    if i%2!=0:\n",
    "        continue\n",
    "    rowNumber = boardTrs[i].find(name=\"div\").find(\"div\").text\n",
    "    columnList.append(rowNumber)\n",
    "    title = boardTrs[i].find(name=\"a\").text.replace(\"\\n\",\"\").replace(\"  \",\"\")\n",
    "    columnList.append(title)\n",
    "    tds = boardTrs[i].findAll(\"td\")\n",
    "    for j in range(0, len(tds)):\n",
    "        if (j==0) | (j==1):\n",
    "            continue\n",
    "        columnList.append(tds[j].text.replace(\"  \",\" \").replace(\"\\n\",\"\"))\n",
    "    rowList.append(columnList)\n",
    "    columnList = []\n",
    "\n",
    "pd.DataFrame(rowList, columns=[\"번호\",\"제목\",\"작성자\",\"시간\",\"조회수\"])"
   ]
  },
  {
   "cell_type": "code",
   "execution_count": 24,
   "metadata": {},
   "outputs": [
    {
     "data": {
      "text/html": [
       "<div>\n",
       "<style scoped>\n",
       "    .dataframe tbody tr th:only-of-type {\n",
       "        vertical-align: middle;\n",
       "    }\n",
       "\n",
       "    .dataframe tbody tr th {\n",
       "        vertical-align: top;\n",
       "    }\n",
       "\n",
       "    .dataframe thead th {\n",
       "        text-align: right;\n",
       "    }\n",
       "</style>\n",
       "<table border=\"1\" class=\"dataframe\">\n",
       "  <thead>\n",
       "    <tr style=\"text-align: right;\">\n",
       "      <th></th>\n",
       "      <th>0</th>\n",
       "      <th>1</th>\n",
       "      <th>2</th>\n",
       "      <th>3</th>\n",
       "    </tr>\n",
       "  </thead>\n",
       "  <tbody>\n",
       "    <tr>\n",
       "      <th>0</th>\n",
       "      <td>4570141HJ-PIG카배벌레핵쟁이[2]new[실행오류제보양식]1.플랫폼:예시)S...</td>\n",
       "      <td>치킨냠냠ㅎㅎ</td>\n",
       "      <td>15:31</td>\n",
       "      <td>10</td>\n",
       "    </tr>\n",
       "    <tr>\n",
       "      <th>1</th>\n",
       "      <td>4569962code엔함께하는즐거움이있습니다^^사진[1]newgg/zchvEJn디스...</td>\n",
       "      <td>헤비</td>\n",
       "      <td>13:52</td>\n",
       "      <td>5</td>\n",
       "    </tr>\n",
       "    <tr>\n",
       "      <th>2</th>\n",
       "      <td>4569747[불법이용의심]제계정이해킹당해서영구정지먹었습니다사진[3]new[실행오류...</td>\n",
       "      <td>헤이맨2829</td>\n",
       "      <td>11:13</td>\n",
       "      <td>59</td>\n",
       "    </tr>\n",
       "    <tr>\n",
       "      <th>3</th>\n",
       "      <td>4569623보이스오류고쳐주쇼운영자new보이스오류고쳐주쇼운영자</td>\n",
       "      <td>배그미래는좆망</td>\n",
       "      <td>09:39</td>\n",
       "      <td>53</td>\n",
       "    </tr>\n",
       "    <tr>\n",
       "      <th>4</th>\n",
       "      <td>4569503배그함께하면재미져요^^사진newgg/zchvEJn디스코드링크오류시오픈채...</td>\n",
       "      <td>헤비</td>\n",
       "      <td>07:15</td>\n",
       "      <td>20</td>\n",
       "    </tr>\n",
       "    <tr>\n",
       "      <th>5</th>\n",
       "      <td>4569497스쿼드핵신고동영상[1]new[실행오류제보양식]1.플랫폼:예시)Steam...</td>\n",
       "      <td>모르3</td>\n",
       "      <td>06:53</td>\n",
       "      <td>40</td>\n",
       "    </tr>\n",
       "    <tr>\n",
       "      <th>6</th>\n",
       "      <td>4569075이번7.1패치testserver에서오류사항[1]new1패치비켄디맵중앙근...</td>\n",
       "      <td>People1</td>\n",
       "      <td>2020.04.20.</td>\n",
       "      <td>52</td>\n",
       "    </tr>\n",
       "    <tr>\n",
       "      <th>7</th>\n",
       "      <td>4569056핵신고[4]new[실행오류제보양식]1.플랫폼:예시)Steam/Kakao...</td>\n",
       "      <td>핵쟁이꺼저</td>\n",
       "      <td>2020.04.20.</td>\n",
       "      <td>49</td>\n",
       "    </tr>\n",
       "    <tr>\n",
       "      <th>8</th>\n",
       "      <td>4569048솔찍히여기만한곳이있나?사진newgg/zchvEJn디스코드링크오류시오픈채...</td>\n",
       "      <td>zin88</td>\n",
       "      <td>2020.04.20.</td>\n",
       "      <td>37</td>\n",
       "    </tr>\n",
       "    <tr>\n",
       "      <th>9</th>\n",
       "      <td>4569037핵신고[2]new[실행오류제보양식]1.플랫폼:예시)Steam/Kakao...</td>\n",
       "      <td>힘든하로</td>\n",
       "      <td>2020.04.20.</td>\n",
       "      <td>19</td>\n",
       "    </tr>\n",
       "    <tr>\n",
       "      <th>10</th>\n",
       "      <td>4569021[불법이용의심]후핵스쿼드언제정지되나요[2]new[실행오류제보양식]1.플...</td>\n",
       "      <td>배그잘하고싶다ㅜ</td>\n",
       "      <td>2020.04.20.</td>\n",
       "      <td>35</td>\n",
       "    </tr>\n",
       "    <tr>\n",
       "      <th>11</th>\n",
       "      <td>4569011배그놀이터!누나랑놀자!사진newgg/zchvEJn디스코드링크오류시오픈채...</td>\n",
       "      <td>zin88</td>\n",
       "      <td>2020.04.20.</td>\n",
       "      <td>16</td>\n",
       "    </tr>\n",
       "    <tr>\n",
       "      <th>12</th>\n",
       "      <td>4569002[불법이용의심]핵신고배린인디에임이아주ㄷㄷ[3]new[실행오류제보양식]1...</td>\n",
       "      <td>배그잘하고싶다ㅜ</td>\n",
       "      <td>2020.04.20.</td>\n",
       "      <td>47</td>\n",
       "    </tr>\n",
       "    <tr>\n",
       "      <th>13</th>\n",
       "      <td>4568979[스팀전문]롤이면롤!메이플이면메이플!배그면배그!203040사진newgg...</td>\n",
       "      <td>zin88</td>\n",
       "      <td>2020.04.20.</td>\n",
       "      <td>5</td>\n",
       "    </tr>\n",
       "    <tr>\n",
       "      <th>14</th>\n",
       "      <td>4568916두명이서오토바이타고고의적으로팀킬하려함----&gt;YourFace-717_-...</td>\n",
       "      <td>대차</td>\n",
       "      <td>2020.04.20.</td>\n",
       "      <td>33</td>\n",
       "    </tr>\n",
       "  </tbody>\n",
       "</table>\n",
       "</div>"
      ],
      "text/plain": [
       "                                                    0         1            2  \\\n",
       "0   4570141HJ-PIG카배벌레핵쟁이[2]new[실행오류제보양식]1.플랫폼:예시)S...    치킨냠냠ㅎㅎ        15:31   \n",
       "1   4569962code엔함께하는즐거움이있습니다^^사진[1]newgg/zchvEJn디스...        헤비        13:52   \n",
       "2   4569747[불법이용의심]제계정이해킹당해서영구정지먹었습니다사진[3]new[실행오류...   헤이맨2829        11:13   \n",
       "3                  4569623보이스오류고쳐주쇼운영자new보이스오류고쳐주쇼운영자   배그미래는좆망        09:39   \n",
       "4   4569503배그함께하면재미져요^^사진newgg/zchvEJn디스코드링크오류시오픈채...        헤비        07:15   \n",
       "5   4569497스쿼드핵신고동영상[1]new[실행오류제보양식]1.플랫폼:예시)Steam...       모르3        06:53   \n",
       "6   4569075이번7.1패치testserver에서오류사항[1]new1패치비켄디맵중앙근...   People1  2020.04.20.   \n",
       "7   4569056핵신고[4]new[실행오류제보양식]1.플랫폼:예시)Steam/Kakao...     핵쟁이꺼저  2020.04.20.   \n",
       "8   4569048솔찍히여기만한곳이있나?사진newgg/zchvEJn디스코드링크오류시오픈채...     zin88  2020.04.20.   \n",
       "9   4569037핵신고[2]new[실행오류제보양식]1.플랫폼:예시)Steam/Kakao...      힘든하로  2020.04.20.   \n",
       "10  4569021[불법이용의심]후핵스쿼드언제정지되나요[2]new[실행오류제보양식]1.플...  배그잘하고싶다ㅜ  2020.04.20.   \n",
       "11  4569011배그놀이터!누나랑놀자!사진newgg/zchvEJn디스코드링크오류시오픈채...     zin88  2020.04.20.   \n",
       "12  4569002[불법이용의심]핵신고배린인디에임이아주ㄷㄷ[3]new[실행오류제보양식]1...  배그잘하고싶다ㅜ  2020.04.20.   \n",
       "13  4568979[스팀전문]롤이면롤!메이플이면메이플!배그면배그!203040사진newgg...     zin88  2020.04.20.   \n",
       "14  4568916두명이서오토바이타고고의적으로팀킬하려함---->YourFace-717_-...        대차  2020.04.20.   \n",
       "\n",
       "     3  \n",
       "0   10  \n",
       "1    5  \n",
       "2   59  \n",
       "3   53  \n",
       "4   20  \n",
       "5   40  \n",
       "6   52  \n",
       "7   49  \n",
       "8   37  \n",
       "9   19  \n",
       "10  35  \n",
       "11  16  \n",
       "12  47  \n",
       "13   5  \n",
       "14  33  "
      ]
     },
     "execution_count": 24,
     "metadata": {},
     "output_type": "execute_result"
    }
   ],
   "source": [
    "pd.DataFrame(rowList)"
   ]
  },
  {
   "cell_type": "markdown",
   "metadata": {},
   "source": [
    "# 네이버 카페 실습"
   ]
  },
  {
   "cell_type": "markdown",
   "metadata": {},
   "source": [
    "# 참조. 프로젝트 실습"
   ]
  },
  {
   "cell_type": "code",
   "execution_count": 72,
   "metadata": {},
   "outputs": [],
   "source": [
    "# from selenium import webdriver\n",
    "# from bs4 import BeautifulSoup\n",
    "# import os\n",
    "# from os.path import join, dirname\n",
    "\n",
    "# if os.name == 'nt':\n",
    "#     os_name = 'nt'\n",
    "# elif os.name == 'mac':\n",
    "#     os_name = 'mac'\n",
    "# else:\n",
    "#     os_name = 'linux'\n",
    "\n",
    "# if os_name == 'nt':\n",
    "#     dirver_loc = \"d:/chromedriver/chromedriver.exe\"\n",
    "# else:\n",
    "#     dirver_loc = \"/home/download/chromedriver/chromedriver.exe\""
   ]
  },
  {
   "cell_type": "markdown",
   "metadata": {},
   "source": [
    "### 2.크롬 브라우저 설정"
   ]
  },
  {
   "cell_type": "code",
   "execution_count": 73,
   "metadata": {},
   "outputs": [],
   "source": [
    "from selenium import webdriver\n",
    "import time\n",
    "from selenium.webdriver.common.keys import Keys"
   ]
  },
  {
   "cell_type": "code",
   "execution_count": 74,
   "metadata": {},
   "outputs": [],
   "source": [
    "dirver_loc = \"d:/chromedriver/chromedriver.exe\"\n",
    "\n",
    "# 크롬 옵션 설정\n",
    "options = webdriver.ChromeOptions()\n",
    "# 헤드리스 설정 시 리눅스 같이 웹화면 없는경우에도 웹페이지 실행가능함\n",
    "#options.add_argument('headless')\n",
    "options.add_argument('window-size=1920x1080')\n",
    "#options.add_argument(\"disable-gpu\")\n",
    "# 웹 드라이버 정의\n",
    "driver = webdriver.Chrome(dirver_loc, options=options)"
   ]
  },
  {
   "cell_type": "markdown",
   "metadata": {},
   "source": [
    "### 3. 네이버 로그인"
   ]
  },
  {
   "cell_type": "markdown",
   "metadata": {},
   "source": [
    "##### 1. 네이버 페이지 이동"
   ]
  },
  {
   "cell_type": "code",
   "execution_count": 75,
   "metadata": {},
   "outputs": [],
   "source": [
    "import pyperclip\n",
    "\n",
    "naver_page= 'https://www.naver.com/'\n",
    "\n",
    "driver.get(naver_page)\n",
    "time.sleep(1)"
   ]
  },
  {
   "cell_type": "code",
   "execution_count": 76,
   "metadata": {},
   "outputs": [],
   "source": [
    "# 로그인 버튼을 찾고 클릭합니다\n",
    "login_btn = driver.find_element_by_xpath('//*[@id=\"account\"]/div/a/i')\n",
    "login_btn.click()\n",
    "time.sleep(1)"
   ]
  },
  {
   "cell_type": "code",
   "execution_count": 77,
   "metadata": {},
   "outputs": [],
   "source": [
    "# id, pw 입력할 곳을 찾습니다.\n",
    "tag_id = driver.find_element_by_xpath('//*[@id=\"id\"]')\n",
    "tag_pw = driver.find_element_by_xpath('//*[@id=\"pw\"]')\n",
    "tag_id.clear()\n",
    "time.sleep(1)\n",
    "\n",
    "# id 입력\n",
    "tag_id.click()\n",
    "# 클립보드 생성 복사\n",
    "pyperclip.copy('haiteam')\n",
    "tag_id.send_keys(Keys.CONTROL, 'v')\n",
    "time.sleep(1)\n",
    "\n",
    "# pw 입력\n",
    "tag_pw.click()\n",
    "pyperclip.copy('rlagyrhks1103')\n",
    "tag_pw.send_keys(Keys.CONTROL, 'v')\n",
    "time.sleep(1)\n",
    "\n",
    "# 로그인 버튼을 클릭합니다\n",
    "login_btn = driver.find_element_by_xpath('//*[@id=\"log.login\"]')\n",
    "login_btn.click()"
   ]
  },
  {
   "cell_type": "markdown",
   "metadata": {},
   "source": [
    "### 4. 카페 접속"
   ]
  },
  {
   "cell_type": "code",
   "execution_count": 81,
   "metadata": {},
   "outputs": [],
   "source": [
    "keyword = \"비대면\"\n",
    "\n",
    "#카페 접속 및 검색어 크롤링\n",
    "cafe_url = 'https://cafe.naver.com/lovekopo'\n",
    "\n",
    "driver.get(cafe_url)\n",
    "time.sleep(0.5)"
   ]
  },
  {
   "cell_type": "markdown",
   "metadata": {},
   "source": [
    "### 5. 검색어 타입 및 프레임 전환"
   ]
  },
  {
   "cell_type": "code",
   "execution_count": 82,
   "metadata": {},
   "outputs": [
    {
     "name": "stdout",
     "output_type": "stream",
     "text": [
      "padding\n",
      "padding\n",
      "padding\n",
      "padding\n",
      "\n",
      "cafe_main\n",
      "cafe_check\n",
      "\n",
      "checkFrame\n",
      "\n"
     ]
    }
   ],
   "source": [
    "from selenium.webdriver.common.keys import Keys\n",
    "\n",
    "#driver.get_screenshot_as_file('naver_main_headless.png')\n",
    "\n",
    "# 상단 우측 검색어입력 버튼 \n",
    "search_input=driver.find_element_by_xpath('//*[@id=\"topLayerQueryInput\"]')\n",
    "\n",
    "#데이터 크롤링\n",
    "search_input.send_keys(keyword)\n",
    "search_input.send_keys(Keys.ENTER)\n",
    "\n",
    "# 프레임 살펴보기\n",
    "iframes = driver.find_elements_by_css_selector('iframe')\n",
    "for iframe in iframes:\n",
    "    print(iframe.get_attribute('name'))\n",
    "\n",
    "driver.switch_to_default_content # 상위프레임으로 전환\n",
    "driver.switch_to.frame(\"cafe_main\") # 특정 프레임으로 전환\n",
    "\n"
   ]
  },
  {
   "cell_type": "code",
   "execution_count": 83,
   "metadata": {},
   "outputs": [],
   "source": [
    "html = driver.page_source"
   ]
  },
  {
   "cell_type": "markdown",
   "metadata": {},
   "source": [
    "### 6. 페이지 크롤링"
   ]
  },
  {
   "cell_type": "code",
   "execution_count": 84,
   "metadata": {},
   "outputs": [],
   "source": [
    "import bs4\n",
    "import pandas as pd\n",
    "bs = bs4.BeautifulSoup(html, \"html.parser\")"
   ]
  },
  {
   "cell_type": "code",
   "execution_count": 85,
   "metadata": {},
   "outputs": [],
   "source": [
    "boardDiv = bs.find(\"div\",attrs={\"class\":\"article-board result-board m-tcol-c\"})\n",
    "boardTrs = boardDiv.find(name=\"table\").find(name=\"tbody\").findAll(\"tr\")"
   ]
  },
  {
   "cell_type": "code",
   "execution_count": 88,
   "metadata": {},
   "outputs": [],
   "source": [
    "onerow = boardTrs[0]"
   ]
  },
  {
   "cell_type": "code",
   "execution_count": 92,
   "metadata": {},
   "outputs": [],
   "source": [
    "onerow.find(name=\"div\").find(name=\"div\", attrs={\"class\":\"ineer_number\"})"
   ]
  },
  {
   "cell_type": "code",
   "execution_count": 106,
   "metadata": {},
   "outputs": [
    {
     "data": {
      "text/plain": [
       "'[신소재응용과]사회적 거리 두기에 적극 동참해 주시기 바랍니다.!!!'"
      ]
     },
     "execution_count": 106,
     "metadata": {},
     "output_type": "execute_result"
    }
   ],
   "source": [
    "onerow.find(name=\"a\").text.replace(\"\\n\",\"\").replace(\"  \",\"\")"
   ]
  },
  {
   "cell_type": "code",
   "execution_count": 112,
   "metadata": {},
   "outputs": [],
   "source": [
    "tds = onerow.findAll(\"td\")"
   ]
  },
  {
   "cell_type": "code",
   "execution_count": 113,
   "metadata": {},
   "outputs": [
    {
     "data": {
      "text/plain": [
       "<td class=\"td_article\" colspan=\"2\">\n",
       "<div class=\"board-number\"><div class=\"inner_number\">68674</div></div>\n",
       "<div class=\"board-list\">\n",
       "<div class=\"inner_list\">\n",
       "<a class=\"article\" href=\"/ArticleRead.nhn?clubid=21710684&amp;page=1&amp;inCafeSearch=true&amp;searchBy=0&amp;query=%BA%F1%B4%EB%B8%E9&amp;includeAll=&amp;exclude=&amp;include=&amp;exact=&amp;searchdate=all&amp;media=0&amp;sortBy=date&amp;articleid=68674&amp;referrerAllArticles=true\" onclick=\"clickcr(this, 'cfa.atitle','','',event);\">\n",
       "                                \n",
       "                                \n",
       "\n",
       "                                \n",
       "                                \n",
       "\n",
       "                                \n",
       "                                \n",
       "                                    [신소재응용과]사회적 거리 두기에 적극 동참해 주시기 바랍니다.!!!\n",
       "                                    \n",
       "                                \n",
       "                            </a>\n",
       "<div class=\"result_contents\" name=\"searchContent\" style=\"display:none\">\n",
       "<a class=\"link_contents\" href=\"/ArticleRead.nhn?clubid=21710684&amp;page=1&amp;inCafeSearch=true&amp;searchBy=0&amp;query=%BA%F1%B4%EB%B8%E9&amp;includeAll=&amp;exclude=&amp;include=&amp;exact=&amp;searchdate=all&amp;media=0&amp;sortBy=date&amp;articleid=68674&amp;referrerAllArticles=true\">\n",
       "                                        학우 여러분 안녕하십니까 코로나 19 감염 확산을 방지 하기 위하여 <b>비대면</b> 수업이 추가 연장 되었습니다. 학습에 많은 불편이 있겠지만 많은 이해를 부탁 드리며 전 국민이... </a>\n",
       "</div>\n",
       "</div>\n",
       "</div>\n",
       "</td>"
      ]
     },
     "execution_count": 113,
     "metadata": {},
     "output_type": "execute_result"
    }
   ],
   "source": [
    "tds[0]"
   ]
  },
  {
   "cell_type": "code",
   "execution_count": 115,
   "metadata": {},
   "outputs": [
    {
     "data": {
      "text/html": [
       "<div>\n",
       "<style scoped>\n",
       "    .dataframe tbody tr th:only-of-type {\n",
       "        vertical-align: middle;\n",
       "    }\n",
       "\n",
       "    .dataframe tbody tr th {\n",
       "        vertical-align: top;\n",
       "    }\n",
       "\n",
       "    .dataframe thead th {\n",
       "        text-align: right;\n",
       "    }\n",
       "</style>\n",
       "<table border=\"1\" class=\"dataframe\">\n",
       "  <thead>\n",
       "    <tr style=\"text-align: right;\">\n",
       "      <th></th>\n",
       "      <th>0</th>\n",
       "      <th>1</th>\n",
       "      <th>2</th>\n",
       "      <th>3</th>\n",
       "      <th>4</th>\n",
       "    </tr>\n",
       "  </thead>\n",
       "  <tbody>\n",
       "    <tr>\n",
       "      <th>0</th>\n",
       "      <td>68674</td>\n",
       "      <td>[신소재응용과]사회적 거리 두기에 적극 동참해 주시기 바랍니다.!!!</td>\n",
       "      <td>교직원 오세희</td>\n",
       "      <td>2020.04.20.</td>\n",
       "      <td>43</td>\n",
       "    </tr>\n",
       "    <tr>\n",
       "      <th>1</th>\n",
       "      <td>68661</td>\n",
       "      <td>[그린건축과]\"동행\"을 통해서 배우는 인문학</td>\n",
       "      <td>교직원정동환</td>\n",
       "      <td>2020.04.17.</td>\n",
       "      <td>31</td>\n",
       "    </tr>\n",
       "    <tr>\n",
       "      <th>2</th>\n",
       "      <td>68649</td>\n",
       "      <td>폴리텍대학 전문기술과정,1년과정, 국비과정 훈련수당 궁금하신분 보세요.</td>\n",
       "      <td>교직원 조명아</td>\n",
       "      <td>2020.04.10.</td>\n",
       "      <td>256</td>\n",
       "    </tr>\n",
       "    <tr>\n",
       "      <th>3</th>\n",
       "      <td>68646</td>\n",
       "      <td>[스마트전기과]비대면 수업 과제샘플</td>\n",
       "      <td>교원 김성삼</td>\n",
       "      <td>2020.04.09.</td>\n",
       "      <td>143</td>\n",
       "    </tr>\n",
       "    <tr>\n",
       "      <th>4</th>\n",
       "      <td>68645</td>\n",
       "      <td>[스마트전기과]학과 코로나 19 방역 활동</td>\n",
       "      <td>교원 김성삼</td>\n",
       "      <td>2020.04.09.</td>\n",
       "      <td>93</td>\n",
       "    </tr>\n",
       "    <tr>\n",
       "      <th>5</th>\n",
       "      <td>68610</td>\n",
       "      <td>[그린건축과] 비대면 수업연장과 관련해서.....</td>\n",
       "      <td>교직원정동환</td>\n",
       "      <td>2020.04.01.</td>\n",
       "      <td>223</td>\n",
       "    </tr>\n",
       "    <tr>\n",
       "      <th>6</th>\n",
       "      <td>68604</td>\n",
       "      <td>[컴퓨터응용기계과] 2020학년 기계과 신입생을 위한 학교생활 안내사항</td>\n",
       "      <td>교직원 임대섭</td>\n",
       "      <td>2020.03.31.</td>\n",
       "      <td>88</td>\n",
       "    </tr>\n",
       "    <tr>\n",
       "      <th>7</th>\n",
       "      <td>68584</td>\n",
       "      <td>[글로벌마케팅] 비대면 수업도 열정넘치는 글로벌마케팅</td>\n",
       "      <td>교직원 신현주</td>\n",
       "      <td>2020.03.27.</td>\n",
       "      <td>120</td>\n",
       "    </tr>\n",
       "    <tr>\n",
       "      <th>8</th>\n",
       "      <td>68569</td>\n",
       "      <td>[그린건축과] 비대면 수업1주일 연장과 관련해서</td>\n",
       "      <td>교직원정동환</td>\n",
       "      <td>2020.03.24.</td>\n",
       "      <td>219</td>\n",
       "    </tr>\n",
       "    <tr>\n",
       "      <th>9</th>\n",
       "      <td>68567</td>\n",
       "      <td>[발전설비과]전문기술과정 1주차 비대면 수업 \"직업과 사회\" 동영상 자료입니다.</td>\n",
       "      <td>강릉 20 김도훈</td>\n",
       "      <td>2020.03.24.</td>\n",
       "      <td>84</td>\n",
       "    </tr>\n",
       "    <tr>\n",
       "      <th>10</th>\n",
       "      <td>68557</td>\n",
       "      <td>[일반]폴리텍 교재</td>\n",
       "      <td>일반20 이창헌</td>\n",
       "      <td>2020.03.23.</td>\n",
       "      <td>157</td>\n",
       "    </tr>\n",
       "    <tr>\n",
       "      <th>11</th>\n",
       "      <td>68533</td>\n",
       "      <td>[스마트전기과]비대면 수업 일정</td>\n",
       "      <td>교원 김성삼</td>\n",
       "      <td>2020.03.18.</td>\n",
       "      <td>166</td>\n",
       "    </tr>\n",
       "    <tr>\n",
       "      <th>12</th>\n",
       "      <td>68525</td>\n",
       "      <td>[신소재] 3월16일부터 비대면(온라인)강의 시작입니다~</td>\n",
       "      <td>대구 신소재</td>\n",
       "      <td>2020.03.17.</td>\n",
       "      <td>135</td>\n",
       "    </tr>\n",
       "    <tr>\n",
       "      <th>13</th>\n",
       "      <td>68486</td>\n",
       "      <td>[기계품질측정과(반도체품질측정과) 학기 개강 및 온라인 강의 진행! ]</td>\n",
       "      <td>안성19 김보민</td>\n",
       "      <td>2020.03.13.</td>\n",
       "      <td>67</td>\n",
       "    </tr>\n",
       "    <tr>\n",
       "      <th>14</th>\n",
       "      <td>68481</td>\n",
       "      <td>[그린건축과]비대면 강의 관련 웹하드 PW변경</td>\n",
       "      <td>교직원정동환</td>\n",
       "      <td>2020.03.12.</td>\n",
       "      <td>57</td>\n",
       "    </tr>\n",
       "  </tbody>\n",
       "</table>\n",
       "</div>"
      ],
      "text/plain": [
       "        0                                             1          2  \\\n",
       "0   68674        [신소재응용과]사회적 거리 두기에 적극 동참해 주시기 바랍니다.!!!    교직원 오세희   \n",
       "1   68661                      [그린건축과]\"동행\"을 통해서 배우는 인문학     교직원정동환   \n",
       "2   68649       폴리텍대학 전문기술과정,1년과정, 국비과정 훈련수당 궁금하신분 보세요.    교직원 조명아   \n",
       "3   68646                           [스마트전기과]비대면 수업 과제샘플     교원 김성삼   \n",
       "4   68645                       [스마트전기과]학과 코로나 19 방역 활동     교원 김성삼   \n",
       "5   68610                   [그린건축과] 비대면 수업연장과 관련해서.....     교직원정동환   \n",
       "6   68604       [컴퓨터응용기계과] 2020학년 기계과 신입생을 위한 학교생활 안내사항    교직원 임대섭   \n",
       "7   68584                 [글로벌마케팅] 비대면 수업도 열정넘치는 글로벌마케팅    교직원 신현주   \n",
       "8   68569                    [그린건축과] 비대면 수업1주일 연장과 관련해서     교직원정동환   \n",
       "9   68567  [발전설비과]전문기술과정 1주차 비대면 수업 \"직업과 사회\" 동영상 자료입니다.  강릉 20 김도훈   \n",
       "10  68557                                    [일반]폴리텍 교재   일반20 이창헌   \n",
       "11  68533                             [스마트전기과]비대면 수업 일정     교원 김성삼   \n",
       "12  68525               [신소재] 3월16일부터 비대면(온라인)강의 시작입니다~     대구 신소재   \n",
       "13  68486       [기계품질측정과(반도체품질측정과) 학기 개강 및 온라인 강의 진행! ]   안성19 김보민   \n",
       "14  68481                     [그린건축과]비대면 강의 관련 웹하드 PW변경     교직원정동환   \n",
       "\n",
       "              3    4  \n",
       "0   2020.04.20.   43  \n",
       "1   2020.04.17.   31  \n",
       "2   2020.04.10.  256  \n",
       "3   2020.04.09.  143  \n",
       "4   2020.04.09.   93  \n",
       "5   2020.04.01.  223  \n",
       "6   2020.03.31.   88  \n",
       "7   2020.03.27.  120  \n",
       "8   2020.03.24.  219  \n",
       "9   2020.03.24.   84  \n",
       "10  2020.03.23.  157  \n",
       "11  2020.03.18.  166  \n",
       "12  2020.03.17.  135  \n",
       "13  2020.03.13.   67  \n",
       "14  2020.03.12.   57  "
      ]
     },
     "execution_count": 115,
     "metadata": {},
     "output_type": "execute_result"
    }
   ],
   "source": [
    "rowList = []\n",
    "columnList = []\n",
    "for i in range(0, len(boardTrs)):\n",
    "    if i%2!=0:\n",
    "        continue\n",
    "    rowNumber = boardTrs[i].find(name=\"div\").find(\"div\").text\n",
    "    columnList.append(rowNumber)\n",
    "    title = boardTrs[i].find(name=\"a\").text.replace(\"\\n\",\"\").replace(\"  \",\"\")\n",
    "    columnList.append(title)\n",
    "    tds = boardTrs[i].findAll(\"td\")\n",
    "    for j in range(0, len(tds)):\n",
    "        if (j==0) | (j==1):\n",
    "            continue\n",
    "        columnList.append(tds[j].text.replace(\"  \",\" \").replace(\"\\n\",\"\"))\n",
    "    rowList.append(columnList)\n",
    "    columnList = []\n",
    "\n",
    "pd.DataFrame(rowList)"
   ]
  },
  {
   "cell_type": "code",
   "execution_count": 63,
   "metadata": {},
   "outputs": [
    {
     "data": {
      "text/html": [
       "<div>\n",
       "<style scoped>\n",
       "    .dataframe tbody tr th:only-of-type {\n",
       "        vertical-align: middle;\n",
       "    }\n",
       "\n",
       "    .dataframe tbody tr th {\n",
       "        vertical-align: top;\n",
       "    }\n",
       "\n",
       "    .dataframe thead th {\n",
       "        text-align: right;\n",
       "    }\n",
       "</style>\n",
       "<table border=\"1\" class=\"dataframe\">\n",
       "  <thead>\n",
       "    <tr style=\"text-align: right;\">\n",
       "      <th></th>\n",
       "      <th>0</th>\n",
       "      <th>1</th>\n",
       "      <th>2</th>\n",
       "      <th>3</th>\n",
       "    </tr>\n",
       "  </thead>\n",
       "  <tbody>\n",
       "    <tr>\n",
       "      <th>0</th>\n",
       "      <td>68674[신소재응용과]사회적거리두기에적극동참해주시기바랍니다.!!!학우여러분안녕하십...</td>\n",
       "      <td>교직원오세희</td>\n",
       "      <td>2020.04.20.</td>\n",
       "      <td>43</td>\n",
       "    </tr>\n",
       "    <tr>\n",
       "      <th>1</th>\n",
       "      <td>68661[그린건축과]\"동행\"을통해서배우는인문학하지만또비대면수업이연장되었읍니다.무척...</td>\n",
       "      <td>교직원정동환</td>\n",
       "      <td>2020.04.17.</td>\n",
       "      <td>31</td>\n",
       "    </tr>\n",
       "    <tr>\n",
       "      <th>2</th>\n",
       "      <td>68649폴리텍대학전문기술과정,1년과정,국비과정훈련수당궁금하신분보세요.사진비대면수업...</td>\n",
       "      <td>교직원조명아</td>\n",
       "      <td>2020.04.10.</td>\n",
       "      <td>256</td>\n",
       "    </tr>\n",
       "    <tr>\n",
       "      <th>3</th>\n",
       "      <td>68646[스마트전기과]비대면수업과제샘플사진코로나19로비대면수업이진행중입니다.스마트...</td>\n",
       "      <td>교원김성삼</td>\n",
       "      <td>2020.04.09.</td>\n",
       "      <td>143</td>\n",
       "    </tr>\n",
       "    <tr>\n",
       "      <th>4</th>\n",
       "      <td>68645[스마트전기과]학과코로나19방역활동사진스마트전기과학생여러분들도비대면수업진행...</td>\n",
       "      <td>교원김성삼</td>\n",
       "      <td>2020.04.09.</td>\n",
       "      <td>93</td>\n",
       "    </tr>\n",
       "    <tr>\n",
       "      <th>5</th>\n",
       "      <td>68610[그린건축과]비대면수업연장과관련해서.....[2]당초4월3일(금요일)까지였...</td>\n",
       "      <td>교직원정동환</td>\n",
       "      <td>2020.04.01.</td>\n",
       "      <td>223</td>\n",
       "    </tr>\n",
       "    <tr>\n",
       "      <th>6</th>\n",
       "      <td>68604[컴퓨터응용기계과]2020학년기계과신입생을위한학교생활안내사항파일안녕하세요....</td>\n",
       "      <td>교직원임대섭</td>\n",
       "      <td>2020.03.31.</td>\n",
       "      <td>88</td>\n",
       "    </tr>\n",
       "    <tr>\n",
       "      <th>7</th>\n",
       "      <td>68584[글로벌마케팅]비대면수업도열정넘치는글로벌마케팅사진글로벌마케팅과도비대면수업을...</td>\n",
       "      <td>교직원신현주</td>\n",
       "      <td>2020.03.27.</td>\n",
       "      <td>120</td>\n",
       "    </tr>\n",
       "    <tr>\n",
       "      <th>8</th>\n",
       "      <td>68569[그린건축과]비대면수업1주일연장과관련해서[2]인해서비대면수업을1주일연기하기...</td>\n",
       "      <td>교직원정동환</td>\n",
       "      <td>2020.03.24.</td>\n",
       "      <td>219</td>\n",
       "    </tr>\n",
       "    <tr>\n",
       "      <th>9</th>\n",
       "      <td>68567[발전설비과]전문기술과정1주차비대면수업\"직업과사회\"동영상자료입니다.파일[1...</td>\n",
       "      <td>강릉20김도훈</td>\n",
       "      <td>2020.03.24.</td>\n",
       "      <td>84</td>\n",
       "    </tr>\n",
       "    <tr>\n",
       "      <th>10</th>\n",
       "      <td>68557[일반]폴리텍교재[1]지금비대면수업인데교재는학교들어간후사면되는건가요?</td>\n",
       "      <td>일반20이창헌</td>\n",
       "      <td>2020.03.23.</td>\n",
       "      <td>157</td>\n",
       "    </tr>\n",
       "    <tr>\n",
       "      <th>11</th>\n",
       "      <td>68533[스마트전기과]비대면수업일정사진연기와비대면수업진행의어려움을겪고있네요.스마트...</td>\n",
       "      <td>교원김성삼</td>\n",
       "      <td>2020.03.18.</td>\n",
       "      <td>166</td>\n",
       "    </tr>\n",
       "    <tr>\n",
       "      <th>12</th>\n",
       "      <td>68525[신소재]3월16일부터비대면(온라인)강의시작입니다~사진[신소재]3월16일부...</td>\n",
       "      <td>대구신소재</td>\n",
       "      <td>2020.03.17.</td>\n",
       "      <td>135</td>\n",
       "    </tr>\n",
       "    <tr>\n",
       "      <th>13</th>\n",
       "      <td>68486[기계품질측정과(반도체품질측정과)학기개강및온라인강의진행!]온라인(비대면)강...</td>\n",
       "      <td>안성19김보민</td>\n",
       "      <td>2020.03.13.</td>\n",
       "      <td>67</td>\n",
       "    </tr>\n",
       "    <tr>\n",
       "      <th>14</th>\n",
       "      <td>68481[그린건축과]비대면강의관련웹하드PW변경우리그린건축과학생들방학이길어지면서그립...</td>\n",
       "      <td>교직원정동환</td>\n",
       "      <td>2020.03.12.</td>\n",
       "      <td>57</td>\n",
       "    </tr>\n",
       "  </tbody>\n",
       "</table>\n",
       "</div>"
      ],
      "text/plain": [
       "                                                    0        1            2  \\\n",
       "0   68674[신소재응용과]사회적거리두기에적극동참해주시기바랍니다.!!!학우여러분안녕하십...   교직원오세희  2020.04.20.   \n",
       "1   68661[그린건축과]\"동행\"을통해서배우는인문학하지만또비대면수업이연장되었읍니다.무척...   교직원정동환  2020.04.17.   \n",
       "2   68649폴리텍대학전문기술과정,1년과정,국비과정훈련수당궁금하신분보세요.사진비대면수업...   교직원조명아  2020.04.10.   \n",
       "3   68646[스마트전기과]비대면수업과제샘플사진코로나19로비대면수업이진행중입니다.스마트...    교원김성삼  2020.04.09.   \n",
       "4   68645[스마트전기과]학과코로나19방역활동사진스마트전기과학생여러분들도비대면수업진행...    교원김성삼  2020.04.09.   \n",
       "5   68610[그린건축과]비대면수업연장과관련해서.....[2]당초4월3일(금요일)까지였...   교직원정동환  2020.04.01.   \n",
       "6   68604[컴퓨터응용기계과]2020학년기계과신입생을위한학교생활안내사항파일안녕하세요....   교직원임대섭  2020.03.31.   \n",
       "7   68584[글로벌마케팅]비대면수업도열정넘치는글로벌마케팅사진글로벌마케팅과도비대면수업을...   교직원신현주  2020.03.27.   \n",
       "8   68569[그린건축과]비대면수업1주일연장과관련해서[2]인해서비대면수업을1주일연기하기...   교직원정동환  2020.03.24.   \n",
       "9   68567[발전설비과]전문기술과정1주차비대면수업\"직업과사회\"동영상자료입니다.파일[1...  강릉20김도훈  2020.03.24.   \n",
       "10        68557[일반]폴리텍교재[1]지금비대면수업인데교재는학교들어간후사면되는건가요?  일반20이창헌  2020.03.23.   \n",
       "11  68533[스마트전기과]비대면수업일정사진연기와비대면수업진행의어려움을겪고있네요.스마트...    교원김성삼  2020.03.18.   \n",
       "12  68525[신소재]3월16일부터비대면(온라인)강의시작입니다~사진[신소재]3월16일부...    대구신소재  2020.03.17.   \n",
       "13  68486[기계품질측정과(반도체품질측정과)학기개강및온라인강의진행!]온라인(비대면)강...  안성19김보민  2020.03.13.   \n",
       "14  68481[그린건축과]비대면강의관련웹하드PW변경우리그린건축과학생들방학이길어지면서그립...   교직원정동환  2020.03.12.   \n",
       "\n",
       "      3  \n",
       "0    43  \n",
       "1    31  \n",
       "2   256  \n",
       "3   143  \n",
       "4    93  \n",
       "5   223  \n",
       "6    88  \n",
       "7   120  \n",
       "8   219  \n",
       "9    84  \n",
       "10  157  \n",
       "11  166  \n",
       "12  135  \n",
       "13   67  \n",
       "14   57  "
      ]
     },
     "execution_count": 63,
     "metadata": {},
     "output_type": "execute_result"
    }
   ],
   "source": [
    "pd.DataFrame(rowList)"
   ]
  },
  {
   "cell_type": "markdown",
   "metadata": {},
   "source": [
    "# [실습] 쿠팡 셀레니움 실습"
   ]
  },
  {
   "cell_type": "code",
   "execution_count": 3,
   "metadata": {},
   "outputs": [],
   "source": [
    "import requests\n",
    "from bs4 import BeautifulSoup"
   ]
  },
  {
   "cell_type": "code",
   "execution_count": 11,
   "metadata": {},
   "outputs": [],
   "source": [
    "def getPageString(url):\n",
    "    data = requests.get(url)\n",
    "    bsHtml = BeautifulSoup(data.content, \"html.parser\")\n",
    "    \n",
    "    print(bsObj)\n",
    "    return data.content"
   ]
  },
  {
   "cell_type": "code",
   "execution_count": 35,
   "metadata": {},
   "outputs": [],
   "source": [
    "url = \"https://www.coupang.com/np/categories/194810?page=1\""
   ]
  },
  {
   "cell_type": "code",
   "execution_count": 36,
   "metadata": {},
   "outputs": [],
   "source": [
    "from selenium import webdriver\n",
    "from bs4 import BeautifulSoup\n",
    "import os\n",
    "from os.path import join, dirname\n",
    "\n",
    "if os.name == 'nt':\n",
    "    os_name = 'nt'\n",
    "elif os.name == 'mac':\n",
    "    os_name = 'mac'\n",
    "else:\n",
    "    os_name = 'linux'\n",
    "\n",
    "if os_name == 'nt':\n",
    "    dirver_loc = \"d:/chromedriver/chromedriver.exe\"\n",
    "else:\n",
    "    dirver_loc = \"/home/download/chromedriver/chromedriver.exe\""
   ]
  },
  {
   "cell_type": "code",
   "execution_count": 37,
   "metadata": {},
   "outputs": [],
   "source": [
    "# 크롬 옵션 설정\n",
    "options = webdriver.ChromeOptions()\n",
    "# 헤드리스 설정 시 리눅스 같이 웹화면 없는경우에도 웹페이지 실행가능함\n",
    "#options.add_argument('headless')\n",
    "options.add_argument('window-size=1920x1080')\n",
    "#options.add_argument(\"disable-gpu\")\n",
    "#웹 드라이버 정의\n",
    "driver = webdriver.Chrome(dirver_loc, options=options)"
   ]
  },
  {
   "cell_type": "code",
   "execution_count": 38,
   "metadata": {},
   "outputs": [],
   "source": [
    "url = \"https://www.coupang.com\"\n",
    "\n",
    "driver.get(url)"
   ]
  },
  {
   "cell_type": "code",
   "execution_count": 41,
   "metadata": {},
   "outputs": [],
   "source": [
    "searchBox =driver.find_element_by_xpath('//*[@id=\"headerSearchKeyword\"]')"
   ]
  },
  {
   "cell_type": "code",
   "execution_count": 40,
   "metadata": {},
   "outputs": [],
   "source": [
    "eggUrl = driver.current_url"
   ]
  },
  {
   "cell_type": "code",
   "execution_count": 42,
   "metadata": {},
   "outputs": [],
   "source": [
    "searchBox.clear()"
   ]
  },
  {
   "cell_type": "code",
   "execution_count": 43,
   "metadata": {},
   "outputs": [],
   "source": [
    "searchBox.send_keys(\"계란\")"
   ]
  },
  {
   "cell_type": "code",
   "execution_count": 44,
   "metadata": {},
   "outputs": [],
   "source": [
    "searchBox.send_keys(u'\\ue007')"
   ]
  },
  {
   "cell_type": "code",
   "execution_count": 98,
   "metadata": {},
   "outputs": [],
   "source": [
    "eggUrl = driver.current_url"
   ]
  },
  {
   "cell_type": "code",
   "execution_count": 99,
   "metadata": {},
   "outputs": [
    {
     "data": {
      "text/plain": [
       "'https://www.coupang.com/np/search?component=&q=%EA%B3%84%EB%9E%80&channel=user'"
      ]
     },
     "execution_count": 99,
     "metadata": {},
     "output_type": "execute_result"
    }
   ],
   "source": [
    "eggUrl"
   ]
  },
  {
   "cell_type": "code",
   "execution_count": 101,
   "metadata": {},
   "outputs": [],
   "source": [
    "eggSource = driver.page_source"
   ]
  },
  {
   "cell_type": "code",
   "execution_count": 102,
   "metadata": {},
   "outputs": [],
   "source": [
    "bsSource = BeautifulSoup(eggSource,\"html.parser\")"
   ]
  },
  {
   "cell_type": "markdown",
   "metadata": {},
   "source": [
    "# [실습] 쿠팡 셀레니움 실습"
   ]
  },
  {
   "cell_type": "code",
   "execution_count": 55,
   "metadata": {},
   "outputs": [],
   "source": [
    "import requests\n",
    "from bs4 import BeautifulSoup\n",
    "\n",
    "url = 'https://www.coupang.com/np/categories/194810?page=1'\n",
    "\n",
    "headers = {'User-Agent': 'Mozilla/5.0 (Macintosh; Intel Mac OS X 10_13_6) AppleWebKit/537.36 (KHTML, like Gecko) Chrome/68.0.3440.106 Safari/537.36',}\n",
    "data=requests.get(url,headers=headers)"
   ]
  },
  {
   "cell_type": "code",
   "execution_count": 57,
   "metadata": {},
   "outputs": [],
   "source": [
    "\n",
    "bsObj = BeautifulSoup(data.text, \"html.parser\")\n",
    "\n",
    "ul = bsObj.find(\"ul\", {\"id\":\"productList\"})\n",
    "lis = ul.findAll(\"li\")\n"
   ]
  },
  {
   "cell_type": "code",
   "execution_count": 58,
   "metadata": {},
   "outputs": [],
   "source": [
    "ul = bsObj.find(\"ul\", {\"id\":\"productList\"})\n",
    "\n",
    "lis = ul.findAll(\"li\")\n",
    "\n",
    "print(len(lis))\n",
    "\n",
    "nameList= []\n",
    "priceList = []\n",
    "\n",
    "for i in range(0,len(lis)):\n",
    "    step1 = lis[i].find(\"dt\",{\"class\":\"image\"}).find(\"img\")\n",
    "    nameList.append(step1.attrs[\"alt\"])\n",
    "    step2 = lis[i].find(\"em\",{\"class\",\"sale\"})\n",
    "    priceList.append(step2.find(\"strong\").text)\n",
    "\n",
    "len(nameList)\n",
    "\n",
    "len(priceList)\n",
    "\n",
    "import pandas as pd\n",
    "coupResult = pd.DataFrame(zip(nameList,priceList))\n",
    "coupResult.head()"
   ]
  },
  {
   "cell_type": "code",
   "execution_count": 66,
   "metadata": {},
   "outputs": [],
   "source": [
    "step1 = lis[0].find(\"dt\",{\"class\":\"image\"}).find(\"img\")"
   ]
  },
  {
   "cell_type": "code",
   "execution_count": 67,
   "metadata": {},
   "outputs": [
    {
     "data": {
      "text/plain": [
       "<img alt=\"더마시나 무항생제 구운계란60구, 1개, 2,100g\" data-src=\"data:image/gif;base64,R0lGODlhAQABAAAAACH5BAEKAAEALAAAAAABAAEAAAICTAEAOw==\" onerror='this.src=\"//t1a.coupangcdn.com/thumbnails/remote/600x600/image/coupang/common/no_img_1000_1000.png\"' onload=\"window.logTime &amp;&amp; logTime(this);window.logImageLoadTime &amp;&amp; logImageLoadTime(this);\" src=\"//thumbnail12.coupangcdn.com/thumbnails/remote/230x230ex/image/vendor_inventory/fc72/b761361f17c61ea3612182c6379d3904745edb2ae4b784821c44466b7e94.jpg\" width=\"100%\"/>"
      ]
     },
     "execution_count": 67,
     "metadata": {},
     "output_type": "execute_result"
    }
   ],
   "source": [
    "step1"
   ]
  },
  {
   "cell_type": "code",
   "execution_count": 68,
   "metadata": {},
   "outputs": [
    {
     "data": {
      "text/plain": [
       "'더마시나 무항생제 구운계란60구, 1개, 2,100g'"
      ]
     },
     "execution_count": 68,
     "metadata": {},
     "output_type": "execute_result"
    }
   ],
   "source": [
    "step1.attrs[\"alt\"]"
   ]
  },
  {
   "cell_type": "code",
   "execution_count": 69,
   "metadata": {},
   "outputs": [],
   "source": [
    "step2 = lis[0].find(\"em\",{\"class\",\"sale\"})"
   ]
  },
  {
   "cell_type": "code",
   "execution_count": 70,
   "metadata": {},
   "outputs": [
    {
     "data": {
      "text/plain": [
       "'10,300'"
      ]
     },
     "execution_count": 70,
     "metadata": {},
     "output_type": "execute_result"
    }
   ],
   "source": [
    "step2.find(\"strong\").text"
   ]
  }
 ],
 "metadata": {
  "kernelspec": {
   "display_name": "Python 3",
   "language": "python",
   "name": "python3"
  },
  "language_info": {
   "codemirror_mode": {
    "name": "ipython",
    "version": 3
   },
   "file_extension": ".py",
   "mimetype": "text/x-python",
   "name": "python",
   "nbconvert_exporter": "python",
   "pygments_lexer": "ipython3",
   "version": "3.7.6"
  }
 },
 "nbformat": 4,
 "nbformat_minor": 4
}
