{
 "cells": [
  {
   "cell_type": "markdown",
   "metadata": {},
   "source": [
    "### 기본설정"
   ]
  },
  {
   "cell_type": "code",
   "execution_count": 11,
   "metadata": {},
   "outputs": [],
   "source": [
    "driver_loc = \"d:/chromedriver/chromedriver.exe\""
   ]
  },
  {
   "cell_type": "markdown",
   "metadata": {},
   "source": [
    "### 라이브러리 선언"
   ]
  },
  {
   "cell_type": "code",
   "execution_count": 12,
   "metadata": {},
   "outputs": [],
   "source": [
    "from selenium import webdriver\n",
    "import bs4\n",
    "import requests\n",
    "import pandas as pd"
   ]
  },
  {
   "cell_type": "markdown",
   "metadata": {},
   "source": [
    "### 1. 크롬 옵션 설정"
   ]
  },
  {
   "cell_type": "code",
   "execution_count": 14,
   "metadata": {},
   "outputs": [],
   "source": [
    "options = webdriver.ChromeOptions()"
   ]
  },
  {
   "cell_type": "code",
   "execution_count": 15,
   "metadata": {},
   "outputs": [],
   "source": [
    "options.add_argument(\"window-size=1920*1080\")"
   ]
  },
  {
   "cell_type": "code",
   "execution_count": 16,
   "metadata": {},
   "outputs": [],
   "source": [
    "driver = webdriver.Chrome(driver_loc, options=options)"
   ]
  },
  {
   "cell_type": "code",
   "execution_count": 17,
   "metadata": {},
   "outputs": [],
   "source": [
    "driver.implicitly_wait(5)"
   ]
  },
  {
   "cell_type": "markdown",
   "metadata": {},
   "source": [
    "### 2. 쿠팡 사이트에 접속"
   ]
  },
  {
   "cell_type": "code",
   "execution_count": 93,
   "metadata": {},
   "outputs": [],
   "source": [
    "coupangUrl = \"https://www.coupang.com/\"\n",
    "driver.get(coupangUrl)"
   ]
  },
  {
   "cell_type": "markdown",
   "metadata": {},
   "source": [
    "### 3. 쿠팡 키워드 검색"
   ]
  },
  {
   "cell_type": "code",
   "execution_count": 94,
   "metadata": {},
   "outputs": [],
   "source": [
    "from selenium.webdriver.common.action_chains import ActionChains\n",
    "from selenium.webdriver.common.keys import Keys"
   ]
  },
  {
   "cell_type": "code",
   "execution_count": 95,
   "metadata": {},
   "outputs": [],
   "source": [
    "Keywords = \"웹카메라 1080p\"\n",
    "keywordPath = '//*[@id=\"headerSearchKeyword\"]'\n",
    "keywordEle = driver.find_element_by_xpath(keywordPath)"
   ]
  },
  {
   "cell_type": "code",
   "execution_count": 96,
   "metadata": {},
   "outputs": [],
   "source": [
    "action = ActionChains(driver)"
   ]
  },
  {
   "cell_type": "code",
   "execution_count": 97,
   "metadata": {},
   "outputs": [],
   "source": [
    "action.move_to_element(keywordEle)\n",
    "action.click()\n",
    "action.send_keys(Keywords)\n",
    "action.send_keys(Keys.ENTER)\n",
    "action.perform()"
   ]
  },
  {
   "cell_type": "markdown",
   "metadata": {},
   "source": [
    "### 4. 페이지 크롤링"
   ]
  },
  {
   "cell_type": "code",
   "execution_count": 98,
   "metadata": {},
   "outputs": [],
   "source": [
    "import time"
   ]
  },
  {
   "cell_type": "code",
   "execution_count": 99,
   "metadata": {},
   "outputs": [],
   "source": [
    "productNameList = []\n",
    "priceList = []"
   ]
  },
  {
   "cell_type": "code",
   "execution_count": 100,
   "metadata": {},
   "outputs": [],
   "source": [
    "while True:\n",
    "    time.sleep(1)\n",
    "    ### 1. 페이지 소스 가져오기\n",
    "    html = driver.page_source\n",
    "    bs = bs4.BeautifulSoup(html, \"html.parser\")\n",
    "    ### 2. 상품정보를 리스트에 저장하기\n",
    "    productList = bs.findAll(name=\"li\", attrs={\"class\":\"search-product\"})\n",
    "    for i in range(0, len(productList)):\n",
    "        # 상품명, 가격정보 저장\n",
    "        productName = productList[i].find(name=\"div\", attrs={\"class\":\"name\"}).text\n",
    "        productPrice = productList[i].find(name=\"strong\", attrs={\"class\":\"price-value\"}).text\n",
    "        # 리스트에 추가\n",
    "        productNameList.append(productName)\n",
    "        priceList.append(productPrice)\n",
    "    nextBtn = driver.find_element_by_class_name(\"btn-next\")\n",
    "    nextBtnAttrs = nextBtn.get_attribute(\"class\")\n",
    "    ### 3. 탈출조건\n",
    "    if nextBtnAttrs.count(\"disabled\") >= 1:\n",
    "        break\n",
    "    else:\n",
    "        nextBtn.click()"
   ]
  },
  {
   "cell_type": "code",
   "execution_count": 106,
   "metadata": {},
   "outputs": [
    {
     "data": {
      "text/html": [
       "<div>\n",
       "<style scoped>\n",
       "    .dataframe tbody tr th:only-of-type {\n",
       "        vertical-align: middle;\n",
       "    }\n",
       "\n",
       "    .dataframe tbody tr th {\n",
       "        vertical-align: top;\n",
       "    }\n",
       "\n",
       "    .dataframe thead th {\n",
       "        text-align: right;\n",
       "    }\n",
       "</style>\n",
       "<table border=\"1\" class=\"dataframe\">\n",
       "  <thead>\n",
       "    <tr style=\"text-align: right;\">\n",
       "      <th></th>\n",
       "      <th>상품정보</th>\n",
       "      <th>상품가격</th>\n",
       "    </tr>\n",
       "  </thead>\n",
       "  <tbody>\n",
       "    <tr>\n",
       "      <th>0</th>\n",
       "      <td>테라 컴퓨터 화상 카메라 웹캠 USB카메라 1080p, C1080</td>\n",
       "      <td>89,400</td>\n",
       "    </tr>\n",
       "    <tr>\n",
       "      <th>1</th>\n",
       "      <td>ZLD ESCAM PVR006 웹캠 PC 화상카메라 마이크 웹카메라 FULL HD ...</td>\n",
       "      <td>28,900</td>\n",
       "    </tr>\n",
       "    <tr>\n",
       "      <th>2</th>\n",
       "      <td>샤오미 정식 KC 인증 샤오이 Y20 홈CCTV YI 1080P 고정용 CCTV 홈...</td>\n",
       "      <td>49,000</td>\n",
       "    </tr>\n",
       "    <tr>\n",
       "      <th>3</th>\n",
       "      <td>Ausdom 웹캠 풀 HD 1080p OBS 라이브 스트리밍 웹 카메라 마이크, O...</td>\n",
       "      <td>42,100</td>\n",
       "    </tr>\n",
       "    <tr>\n",
       "      <th>4</th>\n",
       "      <td>SVPRO 미니 CCTV USB 카메라 1080p HD 자동 초점 하우징 웹 카메라...</td>\n",
       "      <td>87,500</td>\n",
       "    </tr>\n",
       "    <tr>\n",
       "      <th>...</th>\n",
       "      <td>...</td>\n",
       "      <td>...</td>\n",
       "    </tr>\n",
       "    <tr>\n",
       "      <th>132</th>\n",
       "      <td>테라 컴퓨터 화상 카메라 웹캠 USB카메라 1080p, C1080-C1</td>\n",
       "      <td>89,400</td>\n",
       "    </tr>\n",
       "    <tr>\n",
       "      <th>133</th>\n",
       "      <td>Weiketerui 640 * 480P 고화질 네트워크 컴퓨터 카메라 웹 캐스트 라...</td>\n",
       "      <td>14,900</td>\n",
       "    </tr>\n",
       "    <tr>\n",
       "      <th>134</th>\n",
       "      <td>Weiketerui 1080P 고화질 회의 카메라 자동 초점 네트워크 광각형 USB...</td>\n",
       "      <td>37,340</td>\n",
       "    </tr>\n",
       "    <tr>\n",
       "      <th>135</th>\n",
       "      <td>Weiketerui 1080P의 풀 hd 동영상 생방송 웹캠입니다 네트워크 카메라</td>\n",
       "      <td>27,750</td>\n",
       "    </tr>\n",
       "    <tr>\n",
       "      <th>136</th>\n",
       "      <td>테라 컴퓨터 화상 카메라 웹캠 USB카메라 1080p, C1080-C2</td>\n",
       "      <td>89,400</td>\n",
       "    </tr>\n",
       "  </tbody>\n",
       "</table>\n",
       "<p>137 rows × 2 columns</p>\n",
       "</div>"
      ],
      "text/plain": [
       "                                                  상품정보    상품가격\n",
       "0                 테라 컴퓨터 화상 카메라 웹캠 USB카메라 1080p, C1080  89,400\n",
       "1    ZLD ESCAM PVR006 웹캠 PC 화상카메라 마이크 웹카메라 FULL HD ...  28,900\n",
       "2    샤오미 정식 KC 인증 샤오이 Y20 홈CCTV YI 1080P 고정용 CCTV 홈...  49,000\n",
       "3    Ausdom 웹캠 풀 HD 1080p OBS 라이브 스트리밍 웹 카메라 마이크, O...  42,100\n",
       "4    SVPRO 미니 CCTV USB 카메라 1080p HD 자동 초점 하우징 웹 카메라...  87,500\n",
       "..                                                 ...     ...\n",
       "132            테라 컴퓨터 화상 카메라 웹캠 USB카메라 1080p, C1080-C1  89,400\n",
       "133  Weiketerui 640 * 480P 고화질 네트워크 컴퓨터 카메라 웹 캐스트 라...  14,900\n",
       "134  Weiketerui 1080P 고화질 회의 카메라 자동 초점 네트워크 광각형 USB...  37,340\n",
       "135      Weiketerui 1080P의 풀 hd 동영상 생방송 웹캠입니다 네트워크 카메라  27,750\n",
       "136            테라 컴퓨터 화상 카메라 웹캠 USB카메라 1080p, C1080-C2  89,400\n",
       "\n",
       "[137 rows x 2 columns]"
      ]
     },
     "execution_count": 106,
     "metadata": {},
     "output_type": "execute_result"
    }
   ],
   "source": [
    "pd.DataFrame( zip(productNameList, priceList),\n",
    "              columns = [\"상품정보\",\"상품가격\"])"
   ]
  }
 ],
 "metadata": {
  "kernelspec": {
   "display_name": "Python 3",
   "language": "python",
   "name": "python3"
  },
  "language_info": {
   "codemirror_mode": {
    "name": "ipython",
    "version": 3
   },
   "file_extension": ".py",
   "mimetype": "text/x-python",
   "name": "python",
   "nbconvert_exporter": "python",
   "pygments_lexer": "ipython3",
   "version": "3.7.6"
  }
 },
 "nbformat": 4,
 "nbformat_minor": 4
}
