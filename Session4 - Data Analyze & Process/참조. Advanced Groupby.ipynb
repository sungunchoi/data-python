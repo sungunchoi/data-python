{
 "cells": [
  {
   "cell_type": "markdown",
   "metadata": {},
   "source": [
    "# 1. 그룹바이 심화"
   ]
  },
  {
   "cell_type": "markdown",
   "metadata": {},
   "source": [
    "# 1. 일반 분석 (기본 접근방법)"
   ]
  },
  {
   "cell_type": "code",
   "execution_count": 1,
   "metadata": {},
   "outputs": [
    {
     "data": {
      "text/html": [
       "<div>\n",
       "<style scoped>\n",
       "    .dataframe tbody tr th:only-of-type {\n",
       "        vertical-align: middle;\n",
       "    }\n",
       "\n",
       "    .dataframe tbody tr th {\n",
       "        vertical-align: top;\n",
       "    }\n",
       "\n",
       "    .dataframe thead th {\n",
       "        text-align: right;\n",
       "    }\n",
       "</style>\n",
       "<table border=\"1\" class=\"dataframe\">\n",
       "  <thead>\n",
       "    <tr style=\"text-align: right;\">\n",
       "      <th></th>\n",
       "      <th>regionid</th>\n",
       "      <th>productgroup</th>\n",
       "      <th>yearweek</th>\n",
       "      <th>volume</th>\n",
       "      <th>ma</th>\n",
       "    </tr>\n",
       "  </thead>\n",
       "  <tbody>\n",
       "    <tr>\n",
       "      <td>0</td>\n",
       "      <td>A01</td>\n",
       "      <td>ST0001</td>\n",
       "      <td>201401</td>\n",
       "      <td>513598</td>\n",
       "      <td>513598.000000</td>\n",
       "    </tr>\n",
       "    <tr>\n",
       "      <td>1</td>\n",
       "      <td>A01</td>\n",
       "      <td>ST0001</td>\n",
       "      <td>201402</td>\n",
       "      <td>438251</td>\n",
       "      <td>475924.500000</td>\n",
       "    </tr>\n",
       "    <tr>\n",
       "      <td>2</td>\n",
       "      <td>A01</td>\n",
       "      <td>ST0001</td>\n",
       "      <td>201403</td>\n",
       "      <td>420290</td>\n",
       "      <td>457379.666667</td>\n",
       "    </tr>\n",
       "    <tr>\n",
       "      <td>3</td>\n",
       "      <td>A01</td>\n",
       "      <td>ST0001</td>\n",
       "      <td>201404</td>\n",
       "      <td>458431</td>\n",
       "      <td>457642.500000</td>\n",
       "    </tr>\n",
       "    <tr>\n",
       "      <td>4</td>\n",
       "      <td>A01</td>\n",
       "      <td>ST0001</td>\n",
       "      <td>201405</td>\n",
       "      <td>482381</td>\n",
       "      <td>462590.200000</td>\n",
       "    </tr>\n",
       "  </tbody>\n",
       "</table>\n",
       "</div>"
      ],
      "text/plain": [
       "  regionid productgroup  yearweek  volume             ma\n",
       "0      A01       ST0001    201401  513598  513598.000000\n",
       "1      A01       ST0001    201402  438251  475924.500000\n",
       "2      A01       ST0001    201403  420290  457379.666667\n",
       "3      A01       ST0001    201404  458431  457642.500000\n",
       "4      A01       ST0001    201405  482381  462590.200000"
      ]
     },
     "execution_count": 1,
     "metadata": {},
     "output_type": "execute_result"
    }
   ],
   "source": [
    "import pandas as pd\n",
    "\n",
    "selloutData = pd.read_csv(\"../dataset/kopo_product_volume.csv\")\n",
    "selloutData.head()\n",
    "\n",
    "selloutData.columns = selloutData.columns.str.lower()\n",
    "\n",
    "sortedData = selloutData.sort_values([\"regionid\",\"productgroup\",\"yearweek\"])\n",
    "sortedData.reset_index(inplace=True, drop=True)\n",
    "sortedData.head()\n",
    "\n",
    "sortedData[\"ma\"] = sortedData[\"volume\"].rolling(window=17, center=False, min_periods=1).mean()\n",
    "sortedData.head()"
   ]
  },
  {
   "cell_type": "code",
   "execution_count": 2,
   "metadata": {},
   "outputs": [],
   "source": [
    "sortedData.to_csv(\"./group_test.csv\")"
   ]
  },
  {
   "cell_type": "markdown",
   "metadata": {},
   "source": [
    "# 2. 집계 분석 (1단계 업 분석방법)"
   ]
  },
  {
   "cell_type": "code",
   "execution_count": 3,
   "metadata": {
    "scrolled": true
   },
   "outputs": [
    {
     "data": {
      "text/html": [
       "<div>\n",
       "<style scoped>\n",
       "    .dataframe tbody tr th:only-of-type {\n",
       "        vertical-align: middle;\n",
       "    }\n",
       "\n",
       "    .dataframe tbody tr th {\n",
       "        vertical-align: top;\n",
       "    }\n",
       "\n",
       "    .dataframe thead th {\n",
       "        text-align: right;\n",
       "    }\n",
       "</style>\n",
       "<table border=\"1\" class=\"dataframe\">\n",
       "  <thead>\n",
       "    <tr style=\"text-align: right;\">\n",
       "      <th></th>\n",
       "      <th>regionid</th>\n",
       "      <th>productgroup</th>\n",
       "      <th>avg_volume</th>\n",
       "    </tr>\n",
       "  </thead>\n",
       "  <tbody>\n",
       "    <tr>\n",
       "      <td>0</td>\n",
       "      <td>A01</td>\n",
       "      <td>ST0001</td>\n",
       "      <td>672850.421053</td>\n",
       "    </tr>\n",
       "    <tr>\n",
       "      <td>1</td>\n",
       "      <td>A01</td>\n",
       "      <td>ST0002</td>\n",
       "      <td>189489.924242</td>\n",
       "    </tr>\n",
       "  </tbody>\n",
       "</table>\n",
       "</div>"
      ],
      "text/plain": [
       "  regionid productgroup     avg_volume\n",
       "0      A01       ST0001  672850.421053\n",
       "1      A01       ST0002  189489.924242"
      ]
     },
     "execution_count": 3,
     "metadata": {},
     "output_type": "execute_result"
    }
   ],
   "source": [
    "import pandas as pd\n",
    "\n",
    "selloutData = pd.read_csv(\"../dataset/kopo_product_volume.csv\")\n",
    "selloutData.head()\n",
    "\n",
    "selloutData.columns = selloutData.columns.str.lower()\n",
    "\n",
    "sortedData = selloutData.sort_values([\"regionid\",\"productgroup\",\"yearweek\"])\n",
    "sortedData.reset_index(inplace=True, drop=True)\n",
    "sortedData.head()\n",
    "\n",
    "groupResult = sortedData.groupby([\"regionid\",\"productgroup\"])[\"volume\"].mean()\n",
    "groupResult = groupResult.reset_index()\n",
    "groupResult.rename(columns={'volume': 'avg_volume'}, inplace=True)\n",
    "groupResult.head(2)"
   ]
  },
  {
   "cell_type": "code",
   "execution_count": 4,
   "metadata": {},
   "outputs": [
    {
     "data": {
      "text/html": [
       "<div>\n",
       "<style scoped>\n",
       "    .dataframe tbody tr th:only-of-type {\n",
       "        vertical-align: middle;\n",
       "    }\n",
       "\n",
       "    .dataframe tbody tr th {\n",
       "        vertical-align: top;\n",
       "    }\n",
       "\n",
       "    .dataframe thead th {\n",
       "        text-align: right;\n",
       "    }\n",
       "</style>\n",
       "<table border=\"1\" class=\"dataframe\">\n",
       "  <thead>\n",
       "    <tr style=\"text-align: right;\">\n",
       "      <th></th>\n",
       "      <th>regionid</th>\n",
       "      <th>productgroup</th>\n",
       "      <th>yearweek</th>\n",
       "      <th>volume</th>\n",
       "      <th>avg_volume</th>\n",
       "    </tr>\n",
       "  </thead>\n",
       "  <tbody>\n",
       "    <tr>\n",
       "      <td>0</td>\n",
       "      <td>A01</td>\n",
       "      <td>ST0001</td>\n",
       "      <td>201401</td>\n",
       "      <td>513598</td>\n",
       "      <td>672850.421053</td>\n",
       "    </tr>\n",
       "    <tr>\n",
       "      <td>1</td>\n",
       "      <td>A01</td>\n",
       "      <td>ST0001</td>\n",
       "      <td>201402</td>\n",
       "      <td>438251</td>\n",
       "      <td>672850.421053</td>\n",
       "    </tr>\n",
       "    <tr>\n",
       "      <td>2</td>\n",
       "      <td>A01</td>\n",
       "      <td>ST0001</td>\n",
       "      <td>201403</td>\n",
       "      <td>420290</td>\n",
       "      <td>672850.421053</td>\n",
       "    </tr>\n",
       "    <tr>\n",
       "      <td>3</td>\n",
       "      <td>A01</td>\n",
       "      <td>ST0001</td>\n",
       "      <td>201404</td>\n",
       "      <td>458431</td>\n",
       "      <td>672850.421053</td>\n",
       "    </tr>\n",
       "    <tr>\n",
       "      <td>4</td>\n",
       "      <td>A01</td>\n",
       "      <td>ST0001</td>\n",
       "      <td>201405</td>\n",
       "      <td>482381</td>\n",
       "      <td>672850.421053</td>\n",
       "    </tr>\n",
       "  </tbody>\n",
       "</table>\n",
       "</div>"
      ],
      "text/plain": [
       "  regionid productgroup  yearweek  volume     avg_volume\n",
       "0      A01       ST0001    201401  513598  672850.421053\n",
       "1      A01       ST0001    201402  438251  672850.421053\n",
       "2      A01       ST0001    201403  420290  672850.421053\n",
       "3      A01       ST0001    201404  458431  672850.421053\n",
       "4      A01       ST0001    201405  482381  672850.421053"
      ]
     },
     "execution_count": 4,
     "metadata": {},
     "output_type": "execute_result"
    }
   ],
   "source": [
    "finalResult = sortedData.merge(groupResult, how=\"left\", \n",
    "                 on = [\"regionid\",\"productgroup\"])\n",
    "finalResult.head()"
   ]
  },
  {
   "cell_type": "code",
   "execution_count": 5,
   "metadata": {},
   "outputs": [],
   "source": [
    "finalResult.to_csv(\"./groupResult.csv\")"
   ]
  },
  {
   "cell_type": "markdown",
   "metadata": {},
   "source": [
    "# 3. 집계 분석 (고급 분석방법)"
   ]
  },
  {
   "cell_type": "code",
   "execution_count": 15,
   "metadata": {},
   "outputs": [],
   "source": [
    "def sub_function(data):\n",
    "    data[\"ma\"] = data[\"qty\"].rolling(window = 5, center = True, min_periods=1).mean()\n",
    "    return data"
   ]
  },
  {
   "cell_type": "code",
   "execution_count": 16,
   "metadata": {},
   "outputs": [
    {
     "data": {
      "text/html": [
       "<div>\n",
       "<style scoped>\n",
       "    .dataframe tbody tr th:only-of-type {\n",
       "        vertical-align: middle;\n",
       "    }\n",
       "\n",
       "    .dataframe tbody tr th {\n",
       "        vertical-align: top;\n",
       "    }\n",
       "\n",
       "    .dataframe thead th {\n",
       "        text-align: right;\n",
       "    }\n",
       "</style>\n",
       "<table border=\"1\" class=\"dataframe\">\n",
       "  <thead>\n",
       "    <tr style=\"text-align: right;\">\n",
       "      <th></th>\n",
       "      <th>REGIONID</th>\n",
       "      <th>PRODUCT</th>\n",
       "      <th>YEARWEEK</th>\n",
       "      <th>QTY</th>\n",
       "    </tr>\n",
       "  </thead>\n",
       "  <tbody>\n",
       "    <tr>\n",
       "      <td>0</td>\n",
       "      <td>A60</td>\n",
       "      <td>PRODUCT4</td>\n",
       "      <td>201402</td>\n",
       "      <td>71.0</td>\n",
       "    </tr>\n",
       "    <tr>\n",
       "      <td>1</td>\n",
       "      <td>A60</td>\n",
       "      <td>PRODUCT59</td>\n",
       "      <td>201402</td>\n",
       "      <td>22275.0</td>\n",
       "    </tr>\n",
       "    <tr>\n",
       "      <td>2</td>\n",
       "      <td>A60</td>\n",
       "      <td>PRODUCT34</td>\n",
       "      <td>201402</td>\n",
       "      <td>4463.0</td>\n",
       "    </tr>\n",
       "    <tr>\n",
       "      <td>3</td>\n",
       "      <td>A60</td>\n",
       "      <td>PRODUCT47</td>\n",
       "      <td>201402</td>\n",
       "      <td>0.0</td>\n",
       "    </tr>\n",
       "    <tr>\n",
       "      <td>4</td>\n",
       "      <td>A60</td>\n",
       "      <td>PRODUCT56</td>\n",
       "      <td>201402</td>\n",
       "      <td>23.0</td>\n",
       "    </tr>\n",
       "  </tbody>\n",
       "</table>\n",
       "</div>"
      ],
      "text/plain": [
       "  REGIONID    PRODUCT  YEARWEEK      QTY\n",
       "0      A60   PRODUCT4    201402     71.0\n",
       "1      A60  PRODUCT59    201402  22275.0\n",
       "2      A60  PRODUCT34    201402   4463.0\n",
       "3      A60  PRODUCT47    201402      0.0\n",
       "4      A60  PRODUCT56    201402     23.0"
      ]
     },
     "execution_count": 16,
     "metadata": {},
     "output_type": "execute_result"
    }
   ],
   "source": [
    "import pandas as pd\n",
    "\n",
    "selloutData = pd.read_csv(\"../dataset/kopo_channel_seasonality_new.csv\")\n",
    "selloutData.head()"
   ]
  },
  {
   "cell_type": "code",
   "execution_count": 17,
   "metadata": {},
   "outputs": [
    {
     "data": {
      "text/html": [
       "<div>\n",
       "<style scoped>\n",
       "    .dataframe tbody tr th:only-of-type {\n",
       "        vertical-align: middle;\n",
       "    }\n",
       "\n",
       "    .dataframe tbody tr th {\n",
       "        vertical-align: top;\n",
       "    }\n",
       "\n",
       "    .dataframe thead th {\n",
       "        text-align: right;\n",
       "    }\n",
       "</style>\n",
       "<table border=\"1\" class=\"dataframe\">\n",
       "  <thead>\n",
       "    <tr style=\"text-align: right;\">\n",
       "      <th></th>\n",
       "      <th>regionid</th>\n",
       "      <th>product</th>\n",
       "      <th>yearweek</th>\n",
       "      <th>qty</th>\n",
       "    </tr>\n",
       "  </thead>\n",
       "  <tbody>\n",
       "    <tr>\n",
       "      <td>0</td>\n",
       "      <td>A60</td>\n",
       "      <td>PRODUCT4</td>\n",
       "      <td>201402</td>\n",
       "      <td>71.0</td>\n",
       "    </tr>\n",
       "    <tr>\n",
       "      <td>1</td>\n",
       "      <td>A60</td>\n",
       "      <td>PRODUCT59</td>\n",
       "      <td>201402</td>\n",
       "      <td>22275.0</td>\n",
       "    </tr>\n",
       "    <tr>\n",
       "      <td>2</td>\n",
       "      <td>A60</td>\n",
       "      <td>PRODUCT34</td>\n",
       "      <td>201402</td>\n",
       "      <td>4463.0</td>\n",
       "    </tr>\n",
       "    <tr>\n",
       "      <td>3</td>\n",
       "      <td>A60</td>\n",
       "      <td>PRODUCT47</td>\n",
       "      <td>201402</td>\n",
       "      <td>0.0</td>\n",
       "    </tr>\n",
       "    <tr>\n",
       "      <td>4</td>\n",
       "      <td>A60</td>\n",
       "      <td>PRODUCT56</td>\n",
       "      <td>201402</td>\n",
       "      <td>23.0</td>\n",
       "    </tr>\n",
       "  </tbody>\n",
       "</table>\n",
       "</div>"
      ],
      "text/plain": [
       "  regionid    product  yearweek      qty\n",
       "0      A60   PRODUCT4    201402     71.0\n",
       "1      A60  PRODUCT59    201402  22275.0\n",
       "2      A60  PRODUCT34    201402   4463.0\n",
       "3      A60  PRODUCT47    201402      0.0\n",
       "4      A60  PRODUCT56    201402     23.0"
      ]
     },
     "execution_count": 17,
     "metadata": {},
     "output_type": "execute_result"
    }
   ],
   "source": [
    "selloutData.columns = selloutData.columns.str.lower()\n",
    "selloutData.head()"
   ]
  },
  {
   "cell_type": "code",
   "execution_count": 18,
   "metadata": {},
   "outputs": [
    {
     "data": {
      "text/html": [
       "<div>\n",
       "<style scoped>\n",
       "    .dataframe tbody tr th:only-of-type {\n",
       "        vertical-align: middle;\n",
       "    }\n",
       "\n",
       "    .dataframe tbody tr th {\n",
       "        vertical-align: top;\n",
       "    }\n",
       "\n",
       "    .dataframe thead th {\n",
       "        text-align: right;\n",
       "    }\n",
       "</style>\n",
       "<table border=\"1\" class=\"dataframe\">\n",
       "  <thead>\n",
       "    <tr style=\"text-align: right;\">\n",
       "      <th></th>\n",
       "      <th>regionid</th>\n",
       "      <th>product</th>\n",
       "      <th>yearweek</th>\n",
       "      <th>qty</th>\n",
       "    </tr>\n",
       "  </thead>\n",
       "  <tbody>\n",
       "    <tr>\n",
       "      <td>298</td>\n",
       "      <td>A00</td>\n",
       "      <td>PRODUCT34</td>\n",
       "      <td>201401</td>\n",
       "      <td>661.0</td>\n",
       "    </tr>\n",
       "    <tr>\n",
       "      <td>1757</td>\n",
       "      <td>A00</td>\n",
       "      <td>PRODUCT34</td>\n",
       "      <td>201402</td>\n",
       "      <td>679.0</td>\n",
       "    </tr>\n",
       "    <tr>\n",
       "      <td>3125</td>\n",
       "      <td>A00</td>\n",
       "      <td>PRODUCT34</td>\n",
       "      <td>201403</td>\n",
       "      <td>578.0</td>\n",
       "    </tr>\n",
       "    <tr>\n",
       "      <td>205</td>\n",
       "      <td>A00</td>\n",
       "      <td>PRODUCT34</td>\n",
       "      <td>201404</td>\n",
       "      <td>532.0</td>\n",
       "    </tr>\n",
       "    <tr>\n",
       "      <td>4369</td>\n",
       "      <td>A00</td>\n",
       "      <td>PRODUCT34</td>\n",
       "      <td>201405</td>\n",
       "      <td>516.0</td>\n",
       "    </tr>\n",
       "  </tbody>\n",
       "</table>\n",
       "</div>"
      ],
      "text/plain": [
       "     regionid    product  yearweek    qty\n",
       "298       A00  PRODUCT34    201401  661.0\n",
       "1757      A00  PRODUCT34    201402  679.0\n",
       "3125      A00  PRODUCT34    201403  578.0\n",
       "205       A00  PRODUCT34    201404  532.0\n",
       "4369      A00  PRODUCT34    201405  516.0"
      ]
     },
     "execution_count": 18,
     "metadata": {},
     "output_type": "execute_result"
    }
   ],
   "source": [
    "sortedData = selloutData.sort_values([\"regionid\",\"product\",\"yearweek\"])\n",
    "sortedData.head()"
   ]
  },
  {
   "cell_type": "code",
   "execution_count": 19,
   "metadata": {},
   "outputs": [
    {
     "data": {
      "text/html": [
       "<div>\n",
       "<style scoped>\n",
       "    .dataframe tbody tr th:only-of-type {\n",
       "        vertical-align: middle;\n",
       "    }\n",
       "\n",
       "    .dataframe tbody tr th {\n",
       "        vertical-align: top;\n",
       "    }\n",
       "\n",
       "    .dataframe thead th {\n",
       "        text-align: right;\n",
       "    }\n",
       "</style>\n",
       "<table border=\"1\" class=\"dataframe\">\n",
       "  <thead>\n",
       "    <tr style=\"text-align: right;\">\n",
       "      <th></th>\n",
       "      <th>regionid</th>\n",
       "      <th>product</th>\n",
       "      <th>yearweek</th>\n",
       "      <th>qty</th>\n",
       "    </tr>\n",
       "  </thead>\n",
       "  <tbody>\n",
       "    <tr>\n",
       "      <td>0</td>\n",
       "      <td>A00</td>\n",
       "      <td>PRODUCT34</td>\n",
       "      <td>201401</td>\n",
       "      <td>661.0</td>\n",
       "    </tr>\n",
       "    <tr>\n",
       "      <td>1</td>\n",
       "      <td>A00</td>\n",
       "      <td>PRODUCT34</td>\n",
       "      <td>201402</td>\n",
       "      <td>679.0</td>\n",
       "    </tr>\n",
       "    <tr>\n",
       "      <td>2</td>\n",
       "      <td>A00</td>\n",
       "      <td>PRODUCT34</td>\n",
       "      <td>201403</td>\n",
       "      <td>578.0</td>\n",
       "    </tr>\n",
       "    <tr>\n",
       "      <td>3</td>\n",
       "      <td>A00</td>\n",
       "      <td>PRODUCT34</td>\n",
       "      <td>201404</td>\n",
       "      <td>532.0</td>\n",
       "    </tr>\n",
       "    <tr>\n",
       "      <td>4</td>\n",
       "      <td>A00</td>\n",
       "      <td>PRODUCT34</td>\n",
       "      <td>201405</td>\n",
       "      <td>516.0</td>\n",
       "    </tr>\n",
       "  </tbody>\n",
       "</table>\n",
       "</div>"
      ],
      "text/plain": [
       "  regionid    product  yearweek    qty\n",
       "0      A00  PRODUCT34    201401  661.0\n",
       "1      A00  PRODUCT34    201402  679.0\n",
       "2      A00  PRODUCT34    201403  578.0\n",
       "3      A00  PRODUCT34    201404  532.0\n",
       "4      A00  PRODUCT34    201405  516.0"
      ]
     },
     "execution_count": 19,
     "metadata": {},
     "output_type": "execute_result"
    }
   ],
   "source": [
    "sortedData.reset_index(inplace=True, drop=True)\n",
    "sortedData.head()"
   ]
  },
  {
   "cell_type": "code",
   "execution_count": 25,
   "metadata": {},
   "outputs": [],
   "source": [
    "finalGroupResult = sortedData.groupby([\"regionid\",\"product\"]).apply(sub_function)"
   ]
  },
  {
   "cell_type": "code",
   "execution_count": 27,
   "metadata": {},
   "outputs": [
    {
     "data": {
      "text/html": [
       "<div>\n",
       "<style scoped>\n",
       "    .dataframe tbody tr th:only-of-type {\n",
       "        vertical-align: middle;\n",
       "    }\n",
       "\n",
       "    .dataframe tbody tr th {\n",
       "        vertical-align: top;\n",
       "    }\n",
       "\n",
       "    .dataframe thead th {\n",
       "        text-align: right;\n",
       "    }\n",
       "</style>\n",
       "<table border=\"1\" class=\"dataframe\">\n",
       "  <thead>\n",
       "    <tr style=\"text-align: right;\">\n",
       "      <th></th>\n",
       "      <th>regionid</th>\n",
       "      <th>product</th>\n",
       "      <th>yearweek</th>\n",
       "      <th>qty</th>\n",
       "      <th>ma</th>\n",
       "    </tr>\n",
       "  </thead>\n",
       "  <tbody>\n",
       "    <tr>\n",
       "      <td>0</td>\n",
       "      <td>A00</td>\n",
       "      <td>PRODUCT34</td>\n",
       "      <td>201401</td>\n",
       "      <td>661.0</td>\n",
       "      <td>639.333333</td>\n",
       "    </tr>\n",
       "    <tr>\n",
       "      <td>1</td>\n",
       "      <td>A00</td>\n",
       "      <td>PRODUCT34</td>\n",
       "      <td>201402</td>\n",
       "      <td>679.0</td>\n",
       "      <td>612.500000</td>\n",
       "    </tr>\n",
       "    <tr>\n",
       "      <td>2</td>\n",
       "      <td>A00</td>\n",
       "      <td>PRODUCT34</td>\n",
       "      <td>201403</td>\n",
       "      <td>578.0</td>\n",
       "      <td>593.200000</td>\n",
       "    </tr>\n",
       "    <tr>\n",
       "      <td>3</td>\n",
       "      <td>A00</td>\n",
       "      <td>PRODUCT34</td>\n",
       "      <td>201404</td>\n",
       "      <td>532.0</td>\n",
       "      <td>545.600000</td>\n",
       "    </tr>\n",
       "    <tr>\n",
       "      <td>4</td>\n",
       "      <td>A00</td>\n",
       "      <td>PRODUCT34</td>\n",
       "      <td>201405</td>\n",
       "      <td>516.0</td>\n",
       "      <td>491.200000</td>\n",
       "    </tr>\n",
       "  </tbody>\n",
       "</table>\n",
       "</div>"
      ],
      "text/plain": [
       "  regionid    product  yearweek    qty          ma\n",
       "0      A00  PRODUCT34    201401  661.0  639.333333\n",
       "1      A00  PRODUCT34    201402  679.0  612.500000\n",
       "2      A00  PRODUCT34    201403  578.0  593.200000\n",
       "3      A00  PRODUCT34    201404  532.0  545.600000\n",
       "4      A00  PRODUCT34    201405  516.0  491.200000"
      ]
     },
     "execution_count": 27,
     "metadata": {},
     "output_type": "execute_result"
    }
   ],
   "source": [
    "finalGroupResult.head()"
   ]
  },
  {
   "cell_type": "markdown",
   "metadata": {},
   "source": [
    "### 디버깅 방법"
   ]
  },
  {
   "cell_type": "code",
   "execution_count": 28,
   "metadata": {},
   "outputs": [],
   "source": [
    "groupData = sortedData.groupby([\"regionid\",\"product\"])"
   ]
  },
  {
   "cell_type": "code",
   "execution_count": 29,
   "metadata": {},
   "outputs": [
    {
     "data": {
      "text/plain": [
       "794"
      ]
     },
     "execution_count": 29,
     "metadata": {},
     "output_type": "execute_result"
    }
   ],
   "source": [
    "len(groupData)"
   ]
  },
  {
   "cell_type": "code",
   "execution_count": 30,
   "metadata": {},
   "outputs": [
    {
     "data": {
      "text/html": [
       "<div>\n",
       "<style scoped>\n",
       "    .dataframe tbody tr th:only-of-type {\n",
       "        vertical-align: middle;\n",
       "    }\n",
       "\n",
       "    .dataframe tbody tr th {\n",
       "        vertical-align: top;\n",
       "    }\n",
       "\n",
       "    .dataframe thead th {\n",
       "        text-align: right;\n",
       "    }\n",
       "</style>\n",
       "<table border=\"1\" class=\"dataframe\">\n",
       "  <thead>\n",
       "    <tr style=\"text-align: right;\">\n",
       "      <th></th>\n",
       "      <th>regionid</th>\n",
       "      <th>product</th>\n",
       "      <th>yearweek</th>\n",
       "      <th>qty</th>\n",
       "    </tr>\n",
       "  </thead>\n",
       "  <tbody>\n",
       "    <tr>\n",
       "      <td>124501</td>\n",
       "      <td>A77</td>\n",
       "      <td>PRODUCT12</td>\n",
       "      <td>201401</td>\n",
       "      <td>3821.0</td>\n",
       "    </tr>\n",
       "    <tr>\n",
       "      <td>124502</td>\n",
       "      <td>A77</td>\n",
       "      <td>PRODUCT12</td>\n",
       "      <td>201402</td>\n",
       "      <td>2466.0</td>\n",
       "    </tr>\n",
       "    <tr>\n",
       "      <td>124503</td>\n",
       "      <td>A77</td>\n",
       "      <td>PRODUCT12</td>\n",
       "      <td>201403</td>\n",
       "      <td>2401.0</td>\n",
       "    </tr>\n",
       "    <tr>\n",
       "      <td>124504</td>\n",
       "      <td>A77</td>\n",
       "      <td>PRODUCT12</td>\n",
       "      <td>201404</td>\n",
       "      <td>2628.0</td>\n",
       "    </tr>\n",
       "    <tr>\n",
       "      <td>124505</td>\n",
       "      <td>A77</td>\n",
       "      <td>PRODUCT12</td>\n",
       "      <td>201405</td>\n",
       "      <td>1442.0</td>\n",
       "    </tr>\n",
       "  </tbody>\n",
       "</table>\n",
       "</div>"
      ],
      "text/plain": [
       "       regionid    product  yearweek     qty\n",
       "124501      A77  PRODUCT12    201401  3821.0\n",
       "124502      A77  PRODUCT12    201402  2466.0\n",
       "124503      A77  PRODUCT12    201403  2401.0\n",
       "124504      A77  PRODUCT12    201404  2628.0\n",
       "124505      A77  PRODUCT12    201405  1442.0"
      ]
     },
     "execution_count": 30,
     "metadata": {},
     "output_type": "execute_result"
    }
   ],
   "source": [
    "eachData = groupData.get_group(list(groupData.groups)[793])\n",
    "eachData.head()"
   ]
  },
  {
   "cell_type": "code",
   "execution_count": 31,
   "metadata": {},
   "outputs": [
    {
     "data": {
      "text/html": [
       "<div>\n",
       "<style scoped>\n",
       "    .dataframe tbody tr th:only-of-type {\n",
       "        vertical-align: middle;\n",
       "    }\n",
       "\n",
       "    .dataframe tbody tr th {\n",
       "        vertical-align: top;\n",
       "    }\n",
       "\n",
       "    .dataframe thead th {\n",
       "        text-align: right;\n",
       "    }\n",
       "</style>\n",
       "<table border=\"1\" class=\"dataframe\">\n",
       "  <thead>\n",
       "    <tr style=\"text-align: right;\">\n",
       "      <th></th>\n",
       "      <th>regionid</th>\n",
       "      <th>product</th>\n",
       "      <th>yearweek</th>\n",
       "      <th>qty</th>\n",
       "    </tr>\n",
       "  </thead>\n",
       "  <tbody>\n",
       "    <tr>\n",
       "      <td>124501</td>\n",
       "      <td>A77</td>\n",
       "      <td>PRODUCT12</td>\n",
       "      <td>201401</td>\n",
       "      <td>3821.0</td>\n",
       "    </tr>\n",
       "    <tr>\n",
       "      <td>124502</td>\n",
       "      <td>A77</td>\n",
       "      <td>PRODUCT12</td>\n",
       "      <td>201402</td>\n",
       "      <td>2466.0</td>\n",
       "    </tr>\n",
       "    <tr>\n",
       "      <td>124503</td>\n",
       "      <td>A77</td>\n",
       "      <td>PRODUCT12</td>\n",
       "      <td>201403</td>\n",
       "      <td>2401.0</td>\n",
       "    </tr>\n",
       "    <tr>\n",
       "      <td>124504</td>\n",
       "      <td>A77</td>\n",
       "      <td>PRODUCT12</td>\n",
       "      <td>201404</td>\n",
       "      <td>2628.0</td>\n",
       "    </tr>\n",
       "    <tr>\n",
       "      <td>124505</td>\n",
       "      <td>A77</td>\n",
       "      <td>PRODUCT12</td>\n",
       "      <td>201405</td>\n",
       "      <td>1442.0</td>\n",
       "    </tr>\n",
       "  </tbody>\n",
       "</table>\n",
       "</div>"
      ],
      "text/plain": [
       "       regionid    product  yearweek     qty\n",
       "124501      A77  PRODUCT12    201401  3821.0\n",
       "124502      A77  PRODUCT12    201402  2466.0\n",
       "124503      A77  PRODUCT12    201403  2401.0\n",
       "124504      A77  PRODUCT12    201404  2628.0\n",
       "124505      A77  PRODUCT12    201405  1442.0"
      ]
     },
     "execution_count": 31,
     "metadata": {},
     "output_type": "execute_result"
    }
   ],
   "source": [
    "eachData = groupData.get_group(list(groupData.groups)[793])\n",
    "eachData.head()"
   ]
  },
  {
   "cell_type": "markdown",
   "metadata": {},
   "source": [
    "### [실습]\n",
    "kopo_channel_seasonality 데이터를 활용하여\n",
    "이동편균구간 17로 (center)\n",
    "이동평균 값을 (regionid,product) 카테고리별로\n",
    "산출하여 “ma” 컬럼을 생성하세요"
   ]
  },
  {
   "cell_type": "code",
   "execution_count": 45,
   "metadata": {},
   "outputs": [],
   "source": [
    "period = 17"
   ]
  },
  {
   "cell_type": "code",
   "execution_count": 46,
   "metadata": {},
   "outputs": [],
   "source": [
    "def ma_rolling(eachData, term):\n",
    "    basicData = eachData.reset_index(drop=True)\n",
    "    #basicData.head(2)\n",
    "\n",
    "    basicData[\"ma\"] = basicData[\"qty\"].rolling(window=term, center=True, min_periods=1).mean()\n",
    "    #basicData.head(2)\n",
    "    return basicData"
   ]
  },
  {
   "cell_type": "code",
   "execution_count": 47,
   "metadata": {},
   "outputs": [],
   "source": [
    "groupResult = sortedData.groupby([\"regionid\",\"product\"]).apply(ma_rolling, period)"
   ]
  },
  {
   "cell_type": "code",
   "execution_count": 48,
   "metadata": {},
   "outputs": [
    {
     "data": {
      "text/html": [
       "<div>\n",
       "<style scoped>\n",
       "    .dataframe tbody tr th:only-of-type {\n",
       "        vertical-align: middle;\n",
       "    }\n",
       "\n",
       "    .dataframe tbody tr th {\n",
       "        vertical-align: top;\n",
       "    }\n",
       "\n",
       "    .dataframe thead th {\n",
       "        text-align: right;\n",
       "    }\n",
       "</style>\n",
       "<table border=\"1\" class=\"dataframe\">\n",
       "  <thead>\n",
       "    <tr style=\"text-align: right;\">\n",
       "      <th></th>\n",
       "      <th></th>\n",
       "      <th></th>\n",
       "      <th>regionid</th>\n",
       "      <th>product</th>\n",
       "      <th>yearweek</th>\n",
       "      <th>qty</th>\n",
       "      <th>ma</th>\n",
       "    </tr>\n",
       "    <tr>\n",
       "      <th>regionid</th>\n",
       "      <th>product</th>\n",
       "      <th></th>\n",
       "      <th></th>\n",
       "      <th></th>\n",
       "      <th></th>\n",
       "      <th></th>\n",
       "      <th></th>\n",
       "    </tr>\n",
       "  </thead>\n",
       "  <tbody>\n",
       "    <tr>\n",
       "      <td rowspan=\"2\" valign=\"top\">A00</td>\n",
       "      <td rowspan=\"2\" valign=\"top\">PRODUCT34</td>\n",
       "      <td>0</td>\n",
       "      <td>A00</td>\n",
       "      <td>PRODUCT34</td>\n",
       "      <td>201401</td>\n",
       "      <td>661.0</td>\n",
       "      <td>514.444444</td>\n",
       "    </tr>\n",
       "    <tr>\n",
       "      <td>1</td>\n",
       "      <td>A00</td>\n",
       "      <td>PRODUCT34</td>\n",
       "      <td>201402</td>\n",
       "      <td>679.0</td>\n",
       "      <td>516.800000</td>\n",
       "    </tr>\n",
       "  </tbody>\n",
       "</table>\n",
       "</div>"
      ],
      "text/plain": [
       "                     regionid    product  yearweek    qty          ma\n",
       "regionid product                                                     \n",
       "A00      PRODUCT34 0      A00  PRODUCT34    201401  661.0  514.444444\n",
       "                   1      A00  PRODUCT34    201402  679.0  516.800000"
      ]
     },
     "execution_count": 48,
     "metadata": {},
     "output_type": "execute_result"
    }
   ],
   "source": [
    "groupResult.head(2)"
   ]
  },
  {
   "cell_type": "code",
   "execution_count": 49,
   "metadata": {},
   "outputs": [],
   "source": [
    "groupResultMa = groupResult.reset_index(drop=True)"
   ]
  },
  {
   "cell_type": "code",
   "execution_count": 50,
   "metadata": {},
   "outputs": [
    {
     "data": {
      "text/html": [
       "<div>\n",
       "<style scoped>\n",
       "    .dataframe tbody tr th:only-of-type {\n",
       "        vertical-align: middle;\n",
       "    }\n",
       "\n",
       "    .dataframe tbody tr th {\n",
       "        vertical-align: top;\n",
       "    }\n",
       "\n",
       "    .dataframe thead th {\n",
       "        text-align: right;\n",
       "    }\n",
       "</style>\n",
       "<table border=\"1\" class=\"dataframe\">\n",
       "  <thead>\n",
       "    <tr style=\"text-align: right;\">\n",
       "      <th></th>\n",
       "      <th>regionid</th>\n",
       "      <th>product</th>\n",
       "      <th>yearweek</th>\n",
       "      <th>qty</th>\n",
       "      <th>ma</th>\n",
       "    </tr>\n",
       "  </thead>\n",
       "  <tbody>\n",
       "    <tr>\n",
       "      <td>0</td>\n",
       "      <td>A00</td>\n",
       "      <td>PRODUCT34</td>\n",
       "      <td>201401</td>\n",
       "      <td>661.0</td>\n",
       "      <td>514.444444</td>\n",
       "    </tr>\n",
       "    <tr>\n",
       "      <td>1</td>\n",
       "      <td>A00</td>\n",
       "      <td>PRODUCT34</td>\n",
       "      <td>201402</td>\n",
       "      <td>679.0</td>\n",
       "      <td>516.800000</td>\n",
       "    </tr>\n",
       "    <tr>\n",
       "      <td>2</td>\n",
       "      <td>A00</td>\n",
       "      <td>PRODUCT34</td>\n",
       "      <td>201403</td>\n",
       "      <td>578.0</td>\n",
       "      <td>503.363636</td>\n",
       "    </tr>\n",
       "    <tr>\n",
       "      <td>3</td>\n",
       "      <td>A00</td>\n",
       "      <td>PRODUCT34</td>\n",
       "      <td>201404</td>\n",
       "      <td>532.0</td>\n",
       "      <td>490.750000</td>\n",
       "    </tr>\n",
       "    <tr>\n",
       "      <td>4</td>\n",
       "      <td>A00</td>\n",
       "      <td>PRODUCT34</td>\n",
       "      <td>201405</td>\n",
       "      <td>516.0</td>\n",
       "      <td>480.230769</td>\n",
       "    </tr>\n",
       "  </tbody>\n",
       "</table>\n",
       "</div>"
      ],
      "text/plain": [
       "  regionid    product  yearweek    qty          ma\n",
       "0      A00  PRODUCT34    201401  661.0  514.444444\n",
       "1      A00  PRODUCT34    201402  679.0  516.800000\n",
       "2      A00  PRODUCT34    201403  578.0  503.363636\n",
       "3      A00  PRODUCT34    201404  532.0  490.750000\n",
       "4      A00  PRODUCT34    201405  516.0  480.230769"
      ]
     },
     "execution_count": 50,
     "metadata": {},
     "output_type": "execute_result"
    }
   ],
   "source": [
    "groupResultMa.head()"
   ]
  },
  {
   "cell_type": "markdown",
   "metadata": {},
   "source": [
    "### [실습]\n",
    "kopo_channel_seasonality 데이터를 활용하여\n",
    "이동편균구간 9로 (center)\n",
    "이동표준편차 값을 (regionid,product) 카테고리별로\n",
    "산출하여 “stdev” 컬럼을 생성하세요\n"
   ]
  },
  {
   "cell_type": "code",
   "execution_count": 39,
   "metadata": {},
   "outputs": [],
   "source": [
    "periodStd = 9"
   ]
  },
  {
   "cell_type": "code",
   "execution_count": 42,
   "metadata": {},
   "outputs": [],
   "source": [
    "def std_rolling(eachData, term):\n",
    "    basicData = eachData.reset_index(drop=True)\n",
    "    #basicData.head(2)\n",
    "\n",
    "    basicData[\"stdev\"] = basicData[\"qty\"].rolling(window=term, center=True, min_periods=1).std()\n",
    "    #basicData.head(2)\n",
    "    return basicData"
   ]
  },
  {
   "cell_type": "code",
   "execution_count": 43,
   "metadata": {},
   "outputs": [],
   "source": [
    "groupResultStd = sortedData.groupby([\"regionid\",\"product\"]).apply(std_rolling, periodStd)"
   ]
  },
  {
   "cell_type": "code",
   "execution_count": 44,
   "metadata": {},
   "outputs": [
    {
     "data": {
      "text/html": [
       "<div>\n",
       "<style scoped>\n",
       "    .dataframe tbody tr th:only-of-type {\n",
       "        vertical-align: middle;\n",
       "    }\n",
       "\n",
       "    .dataframe tbody tr th {\n",
       "        vertical-align: top;\n",
       "    }\n",
       "\n",
       "    .dataframe thead th {\n",
       "        text-align: right;\n",
       "    }\n",
       "</style>\n",
       "<table border=\"1\" class=\"dataframe\">\n",
       "  <thead>\n",
       "    <tr style=\"text-align: right;\">\n",
       "      <th></th>\n",
       "      <th></th>\n",
       "      <th></th>\n",
       "      <th>regionid</th>\n",
       "      <th>product</th>\n",
       "      <th>yearweek</th>\n",
       "      <th>qty</th>\n",
       "      <th>stdev</th>\n",
       "    </tr>\n",
       "    <tr>\n",
       "      <th>regionid</th>\n",
       "      <th>product</th>\n",
       "      <th></th>\n",
       "      <th></th>\n",
       "      <th></th>\n",
       "      <th></th>\n",
       "      <th></th>\n",
       "      <th></th>\n",
       "    </tr>\n",
       "  </thead>\n",
       "  <tbody>\n",
       "    <tr>\n",
       "      <td rowspan=\"2\" valign=\"top\">A00</td>\n",
       "      <td rowspan=\"2\" valign=\"top\">PRODUCT34</td>\n",
       "      <td>0</td>\n",
       "      <td>A00</td>\n",
       "      <td>PRODUCT34</td>\n",
       "      <td>201401</td>\n",
       "      <td>661.0</td>\n",
       "      <td>73.984458</td>\n",
       "    </tr>\n",
       "    <tr>\n",
       "      <td>1</td>\n",
       "      <td>A00</td>\n",
       "      <td>PRODUCT34</td>\n",
       "      <td>201402</td>\n",
       "      <td>679.0</td>\n",
       "      <td>95.952940</td>\n",
       "    </tr>\n",
       "  </tbody>\n",
       "</table>\n",
       "</div>"
      ],
      "text/plain": [
       "                     regionid    product  yearweek    qty      stdev\n",
       "regionid product                                                    \n",
       "A00      PRODUCT34 0      A00  PRODUCT34    201401  661.0  73.984458\n",
       "                   1      A00  PRODUCT34    201402  679.0  95.952940"
      ]
     },
     "execution_count": 44,
     "metadata": {},
     "output_type": "execute_result"
    }
   ],
   "source": [
    "groupResultStd.head(2)"
   ]
  }
 ],
 "metadata": {
  "kernelspec": {
   "display_name": "Python 3",
   "language": "python",
   "name": "python3"
  },
  "language_info": {
   "codemirror_mode": {
    "name": "ipython",
    "version": 3
   },
   "file_extension": ".py",
   "mimetype": "text/x-python",
   "name": "python",
   "nbconvert_exporter": "python",
   "pygments_lexer": "ipython3",
   "version": "3.7.6"
  }
 },
 "nbformat": 4,
 "nbformat_minor": 4
}
